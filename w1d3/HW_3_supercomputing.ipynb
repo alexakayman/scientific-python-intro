{
 "cells": [
  {
   "cell_type": "markdown",
   "metadata": {},
   "source": [
    "# Wednesday, Week 1: HW 3\n",
    "# High-Performance Scientific Computing\n",
    "\n",
    "__Learning objectives:__ \n",
    "1. Create a program that ties together all the concepts we've used so far: functions, loops, conditionals with Booleans, and list manipulation. \n",
    "2. Practice working with imported Python libraries. \n",
    "\n",
    "__Context:__ A supercomputer is a bunch of individual computers linked together so they can talk to each other, send data back and forth quickly, and perform calculations in parallel (in parallel means that each computer is working on its own part of the problem simultaneously). Each individual computer that is part of a supercomputer is called a \"node\". Programs that run on supercomputers are called \"massively parallel programs\" because they are executed on multiple nodes at the same time. The nodes share information with each other as the program runs in order to perform their calculations. Typically, the more nodes you use to solve a problem, the faster it runs and therefore the bigger the problem you can solve may be! \n",
    "\n",
    "Supercomputers are managed by a central authority (e.g. Summit, the US's current fastest supercomputer, is managed by the Department of Energy and Oak Ridge National Lab) and shared among users. Jobs (codes that need to be run) are submitted using a queue system. The queue system is automatic and distributes computing resources as they become available to jobs waiting in the queue. \n",
    "\n",
    "Often, automatic queue managers have maximum runtimes that you can request for a single job on a supercomputer. You don't want some user hogging the system for days and days! So, for instance on Summit, if you'd like to run your job on 60 nodes, the maximum runtime you can request in the queue is 360 minutes. \n",
    "\n",
    "__Task:__\n",
    "\n",
    "You are part of a team of reserachers who want to run a simulation on a supercomputer to study the  nature of dark energy. You expect that your code will run for a long time, maybe several days, but the maximum runtime permitted for a job request on this supercomputer is only a few hours. That means that every couple hours, your program wil need to:\n",
    "\n",
    "1) detect that it's almost at its maximum runtime, and \n",
    "\n",
    "2) save its progress before exiting. \n",
    "\n",
    "Your job is to implement this so that your group can run their simulation successfully! \n",
    "\n",
    "Write a program that detects how long it has been running and, after a specified length of time has passed, triggers a special action. In reality, that special action would be saving the progress of the simulation. For testing, though, just have the program print out a message like \"We are running out of time in the job! Saving progress and exiting.\" \n",
    "\n",
    "__Hint:__ you will need to do some independent investigation to find a way to detect the current time in Python. Google to the rescue! \n",
    "\n",
    "__Hint:__ you will need to use some kind of loop and a conditional statement to check if you're approaching maximum runtime.\n",
    "\n",
    "__Hint:__ for testing, we'll set our maximum runtime to something reasonable, like a few seconds! 360 minutes is an awfully long time to wait to see if your program ran correctly!\n",
    "\n"
   ]
  },
  {
   "cell_type": "code",
   "execution_count": 1,
   "metadata": {},
   "outputs": [
    {
     "ename": "KeyboardInterrupt",
     "evalue": "",
     "output_type": "error",
     "traceback": [
      "\u001b[0;31m---------------------------------------------------------------------------\u001b[0m",
      "\u001b[0;31mKeyboardInterrupt\u001b[0m                         Traceback (most recent call last)",
      "\u001b[1;32m/Users/ak/Desktop/harvard/w1d3/HW_3_supercomputing.ipynb Cell 2'\u001b[0m in \u001b[0;36m<cell line: 12>\u001b[0;34m()\u001b[0m\n\u001b[1;32m     <a href='vscode-notebook-cell:/Users/ak/Desktop/harvard/w1d3/HW_3_supercomputing.ipynb#ch0000001?line=10'>11</a>\u001b[0m running_time \u001b[39m=\u001b[39m time\u001b[39m.\u001b[39mtime() \u001b[39m-\u001b[39m start_time \u001b[39m# running_time = how long this program has been running since start_time \u001b[39;00m\n\u001b[1;32m     <a href='vscode-notebook-cell:/Users/ak/Desktop/harvard/w1d3/HW_3_supercomputing.ipynb#ch0000001?line=11'>12</a>\u001b[0m \u001b[39mwhile\u001b[39;00m \u001b[39mTrue\u001b[39;00m: \u001b[39m# so long as this program has been running for less than max_runtime, keep running\u001b[39;00m\n\u001b[0;32m---> <a href='vscode-notebook-cell:/Users/ak/Desktop/harvard/w1d3/HW_3_supercomputing.ipynb#ch0000001?line=12'>13</a>\u001b[0m     \u001b[39mif\u001b[39;00m running_time \u001b[39m>\u001b[39m max_runtime: \u001b[39m# as soon as this program has been running for longer than max_runtime,\u001b[39;00m\n\u001b[1;32m     <a href='vscode-notebook-cell:/Users/ak/Desktop/harvard/w1d3/HW_3_supercomputing.ipynb#ch0000001?line=13'>14</a>\u001b[0m         \u001b[39mprint\u001b[39m(\u001b[39mf\u001b[39m\u001b[39m'\u001b[39m\u001b[39mWe\u001b[39m\u001b[39m\\'\u001b[39;00m\u001b[39mve reached \u001b[39m\u001b[39m{\u001b[39;00mrunning_time\u001b[39m}\u001b[39;00m\u001b[39m. That\u001b[39m\u001b[39m\\'\u001b[39;00m\u001b[39ms more than \u001b[39m\u001b[39m{\u001b[39;00mmax_runtime\u001b[39m}\u001b[39;00m\u001b[39m'\u001b[39m) \u001b[39m# print out a message that states how long your program ran,\u001b[39;00m\n\u001b[1;32m     <a href='vscode-notebook-cell:/Users/ak/Desktop/harvard/w1d3/HW_3_supercomputing.ipynb#ch0000001?line=14'>15</a>\u001b[0m         \u001b[39mbreak\u001b[39;00m\n",
      "\u001b[0;31mKeyboardInterrupt\u001b[0m: "
     ]
    }
   ],
   "source": [
    "# TODO: translate the following pseudocode. \n",
    "import time\n",
    "\n",
    "max_runtime = 2 # (seconds).\n",
    "start_time = time.time() # TODO assign to this variable the time at which the program started running\n",
    "\n",
    "print(start_time)\n",
    "\n",
    "# TODO: fill this in:\n",
    "\n",
    "running_time = time.time() - start_time # running_time = how long this program has been running since start_time \n",
    "while True: # so long as this program has been running for less than max_runtime, keep running\n",
    "    if running_time > max_runtime: # as soon as this program has been running for longer than max_runtime,\n",
    "        print(f'We\\'ve reached {running_time}. That\\'s more than {max_runtime}') # print out a message that states how long your program ran,\n",
    "        break # what the max_runtime was, and then exit the program."
   ]
  },
  {
   "cell_type": "markdown",
   "metadata": {},
   "source": [
    "__Task:__ Sometimes, supercomputers and/or programs crash! You don't want to lose all your simulation's hard work if there's an unexpected problem with your code or the supercomputer you're running it on. So it's a good idea to backup your work during the program's execution periodically. \n",
    "\n",
    "Suppose your simulation runs in steps. Each step has a step number (step 0, step 1, and so on); in reality, your code would perform a bunch of calculations at each step, but we'll keep it simple here and just ask your code to print out \"Executing step XX\", with the appropriate step number. Assume that there are a few steps that are special because you plan to do a riskier computation, and therefore you really want to backup your work right before these steps happen. \n",
    "\n",
    "Assume that at each step, you always print out \"Executing step XX\" and, if the next step will be a risky step (as defined in a list), also print out \"Risky step XX coming up next, backing up work.\" during the preceding step. \n",
    "\n",
    "Expand your program above so that it does the following:\n",
    "1. Loops over 20 steps, and for each step it prints out \"Executing step XX\" (with the step number) and then sleeps (waits) for 1 second. \n",
    "2. If the current step is the one immediately preceding an entry in the list RISKY_STEPS, print out \"Risky step coming up next, backing up work.\" (with the risky step's number). \n",
    "3. If the runtime exceeds the maximum runtime, print out \"Out of time in the job, backing up and exiting!\" \n",
    "\n",
    "__Challenge__: Have your program detect when it has run for half of the maximum runtime and print out \"Halfway through the job, backing up work\" exactly once when that occurs. "
   ]
  },
  {
   "cell_type": "markdown",
   "metadata": {},
   "source": [
    "__Important__: your program should work for an arbitrary RISKY_STEPS list! Test your program with different values for NUM_STEPS and RISKY_STEPS to convince yourself it works! Do not hardcode either of those values; your code should be adaptable and robust."
   ]
  },
  {
   "cell_type": "code",
   "execution_count": 2,
   "metadata": {},
   "outputs": [
    {
     "name": "stdout",
     "output_type": "stream",
     "text": [
      "Executing step 0\n",
      "Executing step 1\n",
      "Executing step 2\n",
      "This is risky. Saving data now.\n",
      "Executing step 3\n",
      "Executing step 4\n",
      "Executing step 5\n",
      "Executing step 6\n",
      "This is risky. Saving data now.\n",
      "Executing step 7\n",
      "Executing step 8\n",
      "Executing step 9\n",
      "Executing step 10\n",
      "Executing step 11\n",
      "Executing step 12\n",
      "Executing step 13\n",
      "Executing step 14\n",
      "This is risky. Saving data now.\n",
      "Executing step 15\n",
      "This is risky. Saving data now.\n",
      "Executing step 16\n",
      "Executing step 17\n",
      "Executing step 18\n",
      "Executing step 19\n",
      "This is risky. Saving data now.\n",
      "Executing step 20\n",
      "PROGRAM STOPPED. \n",
      " Because we've reached 20 seconds.\n"
     ]
    }
   ],
   "source": [
    "# TODO copy your work above here. \n",
    "import time\n",
    "max_runtime = 20\n",
    "start_time = time.time()\n",
    "# TODO translate the following pseudocode, expanding your work from above \n",
    "\n",
    "NUM_STEPS = 21\n",
    "RISKY_STEPS = [3, 7, 15, 16, 20]\n",
    "i = 0\n",
    "\n",
    "halfway_through_backup = False \n",
    "running_time = time.time() - start_time\n",
    "while running_time < max_runtime:\n",
    "    for step in range(NUM_STEPS): # loop over NUM_STEPS steps\n",
    "        print('Executing step ' + str(step)) # at every step, print out \"Executing step XX\", with the step number\n",
    "        recursive = i - 1\n",
    "        for risk in RISKY_STEPS:\n",
    "            if step == risk - 1: # in addition, if this step is the step immediately preceding a risky step, print out \"Risky step coming up next, backing up work.\"\n",
    "                print('This is risky. Saving data now.')# e.g. the first risky step is step 3. Therefore, step 2 should print out the backup message.\n",
    "                # IMPORTANT: at the end of each step, call sleep(1) to wait one second. \n",
    "        time.sleep(1)\n",
    "        i += 1\n",
    "    halfway_through_backup = True\n",
    "    else:\n",
    "        print(f'PROGRAM STOPPED. \\n Because we\\'ve reached {max_runtime} seconds.') \n",
    "        break #exit program\n",
    "        # if the runtime exceeds the max_runtime, print out the backup and exit message. "
   ]
  },
  {
   "cell_type": "markdown",
   "metadata": {},
   "source": [
    "__Optional Challenge Problem__: Sometimes, we don't know ahead of time which step numbers are risky and need a backup beforehand. Instead, if we're simulating the dynamics of dark energy and dark matter in a cosmological N-body simulation, here's what we know:\n",
    "\n",
    "Every step has an associated time (we're pressing 'play' on the formation of the Universe). Time, for some neat reasons I'd be happy to tell you more about if you're curious, can be described using redshift in cosmology. In a nutshell, the reason for this is that our Universe is expanding faster and faster, so any light that's emitted from an astronomical object gets stretched (red-shifted) by the spacetime expansion. By the time it arrives at Earth and we observe it, its wavelength is different from the wavelength it had when it was emitted. And the longer it's been traveling through the expanding spacetime (the older the light is), the more it's been redshifted. \n",
    "\n",
    "As the Universe forms structure, matter clumps together gravitationally and the dynamics of the simulation become more interesting. To retain simulation accuracy, we have to start taking smaller and smaller steps in time to do the numerical integration well. \n",
    "\n",
    "Your simulation code will do a risky procedure at every redshift in RISKY_REDSHIFTS. Your job is to figure out in real time whether the step your simulation is currently executing is the timestep immediately preceding a timestep corresponding to a redshift in RISKY_REDSHIFTS, and perform a backup if this is the case. \n",
    "\n",
    "__What you need:__\n",
    "RISKY_REDSHIFTS = [8.0, 5.0, 4.0, 3.0, 2.0, 1.4, 0.5, 0.4, 0.3] \n",
    "\n",
    "Assume that the physical time $ t = (0.001 \\times (\\mathtt{stepnum} + 1))^{1/2}$. \n",
    "\n",
    "Assume that the cosmological redshift $z = \\frac{1}{2 t^{2/3}}.$"
   ]
  },
  {
   "cell_type": "code",
   "execution_count": null,
   "metadata": {},
   "outputs": [],
   "source": [
    "import math \n",
    "\n",
    "TIME_STEPS = 10\n",
    "RISKY_REDSHIFTS = [8.0, 5.0, 4.0, 3.0, 2.0, 1.4, 0.5, 0.4, 0.3] \n",
    "\n",
    "for step in range(TIME_STEPS): # TODO loop over timesteps\n",
    "    print('Now doing step ' + str(step))\n",
    "    t = (0.001 * (step + 1)) ** (0.5) # for each timestep, calculate the corresponding redshift\n",
    "    print('\\t Physical time: ' + str(t))\n",
    "\n",
    "    z = 1/((2 * t) ** (0.5))\n",
    "    print('\\t Redshift: ' + str(z))\n",
    "\n",
    "    for risk_redshift in RISKY_REDSHIFTS: \n",
    "        if step - 1 == risk_redshift: # make a decision: if the current redshift immediately preceds a redshift in RISKY_REDSHIFTS, \n",
    "            print('Saving now. The next step is risky.') #print the backup message\n",
    "# otherwise, continue.\n",
    "\n",
    "# make sure the backup message is printed exactly once per each risky redshift! "
   ]
  },
  {
   "cell_type": "markdown",
   "metadata": {},
   "source": [
    "__Feedback__: How long did this assignment take you? On a scale of 1 (simple) to 5 (difficult), how did it go? "
   ]
  },
  {
   "cell_type": "code",
   "execution_count": null,
   "metadata": {},
   "outputs": [],
   "source": [
    "# TODO: how long did this assignment take you?\n",
    "\n",
    "2 hrs"
   ]
  },
  {
   "cell_type": "code",
   "execution_count": null,
   "metadata": {},
   "outputs": [],
   "source": [
    "# TODO: rate this HW's difficulty on a scale of 1-5. \n",
    "\n",
    "4"
   ]
  },
  {
   "cell_type": "markdown",
   "metadata": {},
   "source": [
    "__Feedback__: How comfortable do you feel with the topics covered in this assignment? Are there any topics you would like to review together as a class? "
   ]
  },
  {
   "cell_type": "markdown",
   "metadata": {},
   "source": [
    "\n",
    "- Detecting the time\n",
    "- Nesting complex values and recursive calling"
   ]
  }
 ],
 "metadata": {
  "kernelspec": {
   "display_name": "Python 3",
   "language": "python",
   "name": "python3"
  },
  "language_info": {
   "codemirror_mode": {
    "name": "ipython",
    "version": 3
   },
   "file_extension": ".py",
   "mimetype": "text/x-python",
   "name": "python",
   "nbconvert_exporter": "python",
   "pygments_lexer": "ipython3",
   "version": "3.10.4"
  }
 },
 "nbformat": 4,
 "nbformat_minor": 2
}
