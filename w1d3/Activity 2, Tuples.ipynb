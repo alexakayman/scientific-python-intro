{
 "cells": [
  {
   "cell_type": "markdown",
   "metadata": {},
   "source": [
    "# Thursday, Week 1: Activity 1\n",
    "# Tuples\n",
    "\n",
    "__Learning Objective:__ \n",
    "1. practice declaring, modifying, and using tuples.\n",
    "\n",
    "Following: https://realpython.com/python-lists-tuples/"
   ]
  },
  {
   "cell_type": "code",
   "execution_count": null,
   "metadata": {},
   "outputs": [],
   "source": [
    "# Tuples are defined with round parentheses \n",
    "t = ('GPUs', 'CPUs', 'supercomputers', 'threads', 'SSDs', 'RAM')"
   ]
  },
  {
   "cell_type": "code",
   "execution_count": null,
   "metadata": {},
   "outputs": [],
   "source": [
    "# you can also define them using the tuple() function, which is similar to list() \n",
    "t = tuple( ['GPUs', 'CPUs', 'supercomputers', 'threads', 'SSDs', 'RAM'] )"
   ]
  },
  {
   "cell_type": "code",
   "execution_count": null,
   "metadata": {},
   "outputs": [],
   "source": [
    "# indexing and slicing works for tuples just like for lists \n",
    "\n",
    "print(t) \n",
    "print(t[0])\n",
    "print(t[-1])\n",
    "print(t[2:5])"
   ]
  },
  {
   "cell_type": "code",
   "execution_count": null,
   "metadata": {},
   "outputs": [],
   "source": [
    "# and you can reverse them just like lists, too\n",
    "t[::-1]"
   ]
  },
  {
   "cell_type": "code",
   "execution_count": null,
   "metadata": {},
   "outputs": [],
   "source": [
    "# one little subtlety you should be aware of\n",
    "# you can define an empty tuple, no problem:\n",
    "t = ()\n",
    "type(t)"
   ]
  },
  {
   "cell_type": "code",
   "execution_count": null,
   "metadata": {},
   "outputs": [],
   "source": [
    "# you can define a tuple with lots of stuff in it, not just two things:\n",
    "t = (1, 3, 'blah', 'hello')\n",
    "type(t)"
   ]
  },
  {
   "cell_type": "code",
   "execution_count": null,
   "metadata": {},
   "outputs": [],
   "source": [
    "# but if you try this, Python will interpret the parentheses not as part of a tuple, \n",
    "# but as simple math-parentheses indicating to perform all operations within them first before moving on:\n",
    "t = (1) \n",
    "type(t)"
   ]
  },
  {
   "cell_type": "code",
   "execution_count": null,
   "metadata": {},
   "outputs": [],
   "source": [
    "# so if you really want a tuple with just one number in it, you'll need to do this:\n",
    "t = (1,)\n",
    "type(t)"
   ]
  },
  {
   "cell_type": "code",
   "execution_count": 1,
   "metadata": {},
   "outputs": [],
   "source": [
    "# packing and unpacking tuples: \n",
    "t = (\"astrochemistry\", \"supercomputing\", \"medicine\")\n",
    "# the above line puts \"astrochemistry\" in t[0], \"supercomputing\" in t[1], etc. \n",
    "# this is called packing a tuple. You're packing t with some tuple entries. \n",
    "\n",
    "# you can also unpack tuples, like this:\n",
    "subject1, subject2, subject3 = t\n",
    "# when packing and unpacking, the order matters and is preserved!"
   ]
  },
  {
   "cell_type": "code",
   "execution_count": 2,
   "metadata": {},
   "outputs": [
    {
     "data": {
      "text/plain": [
       "'astrochemistry'"
      ]
     },
     "execution_count": 2,
     "metadata": {},
     "output_type": "execute_result"
    }
   ],
   "source": [
    "subject1"
   ]
  },
  {
   "cell_type": "code",
   "execution_count": 3,
   "metadata": {},
   "outputs": [
    {
     "data": {
      "text/plain": [
       "'supercomputing'"
      ]
     },
     "execution_count": 3,
     "metadata": {},
     "output_type": "execute_result"
    }
   ],
   "source": [
    "subject2"
   ]
  },
  {
   "cell_type": "code",
   "execution_count": 4,
   "metadata": {},
   "outputs": [
    {
     "name": "stdout",
     "output_type": "stream",
     "text": [
      "3\n"
     ]
    },
    {
     "ename": "ValueError",
     "evalue": "not enough values to unpack (expected 4, got 3)",
     "output_type": "error",
     "traceback": [
      "\u001b[0;31m---------------------------------------------------------------------------\u001b[0m",
      "\u001b[0;31mValueError\u001b[0m                                Traceback (most recent call last)",
      "\u001b[1;32m/Users/ak/Desktop/harvard/w1d3/Activity 2, Tuples.ipynb Cell 13'\u001b[0m in \u001b[0;36m<cell line: 4>\u001b[0;34m()\u001b[0m\n\u001b[1;32m      <a href='vscode-notebook-cell:/Users/ak/Desktop/harvard/w1d3/Activity%202%2C%20Tuples.ipynb#ch0000012?line=0'>1</a>\u001b[0m \u001b[39m# the number of variables on the left hand side must match the number of entries in the tuple:\u001b[39;00m\n\u001b[1;32m      <a href='vscode-notebook-cell:/Users/ak/Desktop/harvard/w1d3/Activity%202%2C%20Tuples.ipynb#ch0000012?line=1'>2</a>\u001b[0m \u001b[39mprint\u001b[39m(\u001b[39mlen\u001b[39m(t))\n\u001b[0;32m----> <a href='vscode-notebook-cell:/Users/ak/Desktop/harvard/w1d3/Activity%202%2C%20Tuples.ipynb#ch0000012?line=3'>4</a>\u001b[0m subject1, subject2, subject3, subject4 \u001b[39m=\u001b[39m t\n",
      "\u001b[0;31mValueError\u001b[0m: not enough values to unpack (expected 4, got 3)"
     ]
    }
   ],
   "source": [
    "# the number of variables on the left hand side must match the number of entries in the tuple:\n",
    "print(len(t))\n",
    "\n",
    "subject1, subject2, subject3, subject4 = t"
   ]
  },
  {
   "cell_type": "code",
   "execution_count": null,
   "metadata": {},
   "outputs": [],
   "source": [
    "# thankfully the error that Python throws in this case is pretty descriptive \n",
    "# so you should be able to debug a mistake like this quickly."
   ]
  },
  {
   "cell_type": "code",
   "execution_count": 5,
   "metadata": {},
   "outputs": [
    {
     "name": "stdout",
     "output_type": "stream",
     "text": [
      "('astrochemistry', 'supercomputing', 'medicine')\n"
     ]
    },
    {
     "ename": "TypeError",
     "evalue": "'tuple' object does not support item assignment",
     "output_type": "error",
     "traceback": [
      "\u001b[0;31m---------------------------------------------------------------------------\u001b[0m",
      "\u001b[0;31mTypeError\u001b[0m                                 Traceback (most recent call last)",
      "\u001b[1;32m/Users/ak/Desktop/harvard/w1d3/Activity 2, Tuples.ipynb Cell 15'\u001b[0m in \u001b[0;36m<cell line: 3>\u001b[0;34m()\u001b[0m\n\u001b[1;32m      <a href='vscode-notebook-cell:/Users/ak/Desktop/harvard/w1d3/Activity%202%2C%20Tuples.ipynb#ch0000014?line=0'>1</a>\u001b[0m \u001b[39m# tuples are immutable! (can't be changed) \u001b[39;00m\n\u001b[1;32m      <a href='vscode-notebook-cell:/Users/ak/Desktop/harvard/w1d3/Activity%202%2C%20Tuples.ipynb#ch0000014?line=1'>2</a>\u001b[0m \u001b[39mprint\u001b[39m(t)\n\u001b[0;32m----> <a href='vscode-notebook-cell:/Users/ak/Desktop/harvard/w1d3/Activity%202%2C%20Tuples.ipynb#ch0000014?line=2'>3</a>\u001b[0m t[\u001b[39m0\u001b[39m] \u001b[39m=\u001b[39m \u001b[39m'\u001b[39m\u001b[39msomething else\u001b[39m\u001b[39m'\u001b[39m\n",
      "\u001b[0;31mTypeError\u001b[0m: 'tuple' object does not support item assignment"
     ]
    }
   ],
   "source": [
    "# tuples are immutable! (can't be changed) \n",
    "print(t)\n",
    "t[0] = 'something else'"
   ]
  },
  {
   "cell_type": "code",
   "execution_count": 6,
   "metadata": {},
   "outputs": [
    {
     "name": "stdout",
     "output_type": "stream",
     "text": [
      "tuple entry 1 tuple entry 2\n"
     ]
    }
   ],
   "source": [
    "# but, you can do a curious thing with them in the specific case of swapping values \n",
    "(a, b) = (\"tuple entry 1\", \"tuple entry 2\")\n",
    "print(a, b)"
   ]
  },
  {
   "cell_type": "code",
   "execution_count": 7,
   "metadata": {},
   "outputs": [
    {
     "name": "stdout",
     "output_type": "stream",
     "text": [
      "tuple entry 2 tuple entry 1\n"
     ]
    }
   ],
   "source": [
    "(a, b) = (b, a)\n",
    "print(a, b)"
   ]
  },
  {
   "cell_type": "code",
   "execution_count": null,
   "metadata": {},
   "outputs": [],
   "source": [
    "# what's that all about, didn't we just change the tuple (though it's supposed to be immutable)?\n",
    "# actually, no. We simply created a new tuple (b,a) and then overwrote the old tuple (a,b) with the new values. "
   ]
  },
  {
   "cell_type": "markdown",
   "metadata": {},
   "source": [
    "__Activity:__ Define a tuple of any length. Then print it out in reverse order. "
   ]
  },
  {
   "cell_type": "code",
   "execution_count": 3,
   "metadata": {},
   "outputs": [
    {
     "name": "stdout",
     "output_type": "stream",
     "text": [
      "(6, 5, 4, 3, 2, 1)\n"
     ]
    }
   ],
   "source": [
    "max_five = (1,2,3,4,5) \n",
    "print(animal[::-1])"
   ]
  },
  {
   "cell_type": "markdown",
   "metadata": {},
   "source": [
    "__Activity:__ Define a list of tuples, where the list has length N > 2 and the tuples each have a length of 3 entries. "
   ]
  },
  {
   "cell_type": "code",
   "execution_count": null,
   "metadata": {},
   "outputs": [],
   "source": [
    "max_eight = (6, 7, 8)\n",
    "max_eleven = (9, 10, 11)"
   ]
  },
  {
   "cell_type": "markdown",
   "metadata": {},
   "source": [
    "__Activity:__ Now write a line of code that replaces the last entry in all N tuples with 42. Hint: recall that tuples are immutable, but you can create new tuples that are similar but not identical to previously defined ones.\n",
    "\n",
    "Example: if my list was [(1, 2), (3, -1)], my desired output is [(1, 42), (3, 42)] "
   ]
  },
  {
   "cell_type": "code",
   "execution_count": null,
   "metadata": {},
   "outputs": [],
   "source": []
  },
  {
   "cell_type": "markdown",
   "metadata": {},
   "source": [
    "__Activity:__ Define an arbitrary list. Write a program that converts it to a tuple. "
   ]
  },
  {
   "cell_type": "code",
   "execution_count": null,
   "metadata": {},
   "outputs": [],
   "source": []
  },
  {
   "cell_type": "markdown",
   "metadata": {},
   "source": [
    "__Activity__: write a function that takes a rest wavelength and an observed wavelength and calculates both the redshift and the velocity of the host galaxy that's emitting this light. The function should return both values. \n",
    "\n",
    "Test your function by calling it with two sample wavelengths from HW1 or HW2 and then unpacking the return values into variables you can print out. "
   ]
  },
  {
   "cell_type": "code",
   "execution_count": null,
   "metadata": {},
   "outputs": [],
   "source": []
  },
  {
   "cell_type": "markdown",
   "metadata": {},
   "source": [
    "__Activity:__ using the Python function all(), write a function that checks if all entries in a given tuple are the same. Test it with a couple of tuples to see if it works as expected."
   ]
  },
  {
   "cell_type": "code",
   "execution_count": null,
   "metadata": {},
   "outputs": [],
   "source": []
  },
  {
   "cell_type": "markdown",
   "metadata": {},
   "source": [
    "__Activity:__ write a function that checks if any entries in a given tuple are prime. You will need the is_prime() function from Wednesday's Activity 2 (and perhaps another built-in Python function). Test it with a couple of tuples to see if it works as expected."
   ]
  },
  {
   "cell_type": "code",
   "execution_count": null,
   "metadata": {},
   "outputs": [],
   "source": []
  }
 ],
 "metadata": {
  "kernelspec": {
   "display_name": "Python 3",
   "language": "python",
   "name": "python3"
  },
  "language_info": {
   "codemirror_mode": {
    "name": "ipython",
    "version": 3
   },
   "file_extension": ".py",
   "mimetype": "text/x-python",
   "name": "python",
   "nbconvert_exporter": "python",
   "pygments_lexer": "ipython3",
   "version": "3.10.4"
  }
 },
 "nbformat": 4,
 "nbformat_minor": 2
}
