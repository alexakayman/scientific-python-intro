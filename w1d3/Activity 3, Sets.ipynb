{
 "cells": [
  {
   "cell_type": "markdown",
   "metadata": {},
   "source": [
    "# Thursday, Week 1: Activity 2\n",
    "# Sets: \n",
    "\n",
    "__Learning Objective:__ \n",
    "1. practice declaring, modifying, and using sets.\n",
    "Following: https://realpython.com/python-sets/"
   ]
  },
  {
   "cell_type": "code",
   "execution_count": null,
   "metadata": {},
   "outputs": [],
   "source": [
    "# Sets are a built-in data type in Python that are unordered, have unique elements,\n",
    "# and are mutable. However, the elements within a set must be of immutable types. \n",
    "\n",
    "# sets are declared like this: \n",
    "example_set = set( ['Alice', 'Anne', 'Bob', 'Alice'] )\n",
    "example_set # the resulting example_set will have entries that are strings and each entry appears exactly once"
   ]
  },
  {
   "cell_type": "code",
   "execution_count": null,
   "metadata": {},
   "outputs": [],
   "source": [
    "# you can also declare a set using another kind of iterable: a string\n",
    "another_set = set( 'california' )\n",
    "another_set # notice that the letters i and a appear only once in the set, even though they're repeated in 'california'"
   ]
  },
  {
   "cell_type": "code",
   "execution_count": null,
   "metadata": {},
   "outputs": [],
   "source": [
    "another_set = set( 'cAlifornia' )\n",
    "another_set # capital letters are considered unique from their lowercase counterparts "
   ]
  },
  {
   "cell_type": "code",
   "execution_count": null,
   "metadata": {},
   "outputs": [],
   "source": [
    "# one more way of declaring sets:\n",
    "last_set = {'baseball', 'basketball', 'baseball', 'football', 'cross-country'}\n",
    "last_set\n",
    "\n",
    "# just be careful with braces, because although a set can be empty when declared with set()\n",
    "# Python interprets s = {} as an empty dictionary... more on that below. "
   ]
  },
  {
   "cell_type": "code",
   "execution_count": null,
   "metadata": {},
   "outputs": [],
   "source": [
    "# to recap:\n",
    "# The argument to set() is an iterable (e.g. a list or string). It generates a list of elements to be placed into the set.\n",
    "# The objects in curly braces are placed into the set intact, even if they are iterable."
   ]
  },
  {
   "cell_type": "code",
   "execution_count": null,
   "metadata": {},
   "outputs": [],
   "source": [
    "# sets can have entries of different types:\n",
    "x = {42, 'foo', 3.14159, None}"
   ]
  },
  {
   "cell_type": "code",
   "execution_count": null,
   "metadata": {},
   "outputs": [],
   "source": [
    "# so long as all the entries are immutable.\n",
    "# this is okay:\n",
    "x = {42, 'foo', (1, 2, 3), 3.14159} # because tuples are immutable! \n",
    "\n",
    "# but this is not: \n",
    "a = [1, 2, 3]\n",
    "{a} # because a is a list and lists are mutable"
   ]
  },
  {
   "cell_type": "code",
   "execution_count": null,
   "metadata": {},
   "outputs": [],
   "source": [
    "# you can check if something is in a set using the 'in' operator\n",
    "subjects = {'astrochemistry', 'supercomputing', 'medicine', 'AI', 'genomics'}\n",
    "\n",
    "'economics' in subjects"
   ]
  },
  {
   "cell_type": "code",
   "execution_count": null,
   "metadata": {},
   "outputs": [],
   "source": [
    "new_subjects = {'economics', 'supercomputing'}\n",
    "subjects + new_subjects"
   ]
  },
  {
   "cell_type": "code",
   "execution_count": null,
   "metadata": {},
   "outputs": [],
   "source": [
    "subjects | new_subjects # this produces the union of the set -- notice that supercomputing doesn't repeat! \n",
    "# the union of two sets is a set. "
   ]
  },
  {
   "cell_type": "code",
   "execution_count": null,
   "metadata": {},
   "outputs": [],
   "source": [
    "# can also get the union like this:\n",
    "subjects.union(new_subjects)"
   ]
  },
  {
   "cell_type": "code",
   "execution_count": null,
   "metadata": {},
   "outputs": [],
   "source": [
    "# you might be interested in the intersection of two sets -- elements that appear in both:\n",
    "print(subjects & new_subjects)\n",
    "print(subjects.intersection(new_subjects))"
   ]
  },
  {
   "cell_type": "code",
   "execution_count": null,
   "metadata": {},
   "outputs": [],
   "source": [
    "# or the difference of two sets: all elements that are in x2 but not x2: \n",
    "x1 = {'foo', 'bar', 'baz'}\n",
    "x2 = {'baz', 'qux', 'quux'} # 'baz' is in both sets. \n",
    "\n",
    "print(x1.difference(x2))\n",
    "\n",
    "print(x1 - x2)"
   ]
  },
  {
   "cell_type": "code",
   "execution_count": null,
   "metadata": {},
   "outputs": [],
   "source": [
    "# you can also grab all elements that are in one set or the other but not both:\n",
    "print(x1 ^ x2)\n",
    "print(x1.symmetric_difference(x2))"
   ]
  },
  {
   "cell_type": "code",
   "execution_count": null,
   "metadata": {},
   "outputs": [],
   "source": [
    "# we could do this all day. There are tons of other methods and operators you can use on sets\n",
    "# and I encourage you to look them up as you're solving problems if you think they might be useful! "
   ]
  },
  {
   "cell_type": "markdown",
   "metadata": {},
   "source": [
    "__Activity:__ Ask each member of the group to write down a list with academic subjects they enjoy. Define a set that finds which subjects you all enjoy. "
   ]
  },
  {
   "cell_type": "code",
   "execution_count": null,
   "metadata": {},
   "outputs": [],
   "source": [
    "subjects = {'math', 'astronomy', 'CS'}"
   ]
  },
  {
   "cell_type": "markdown",
   "metadata": {},
   "source": [
    "__Activity:__ Given a list that contains exactly one unique entry (the rest are repeated), identify the unique entry.\n",
    "\n",
    "Example: \n",
    "input_list = [1, 2, 3, 6, 5, 4, 4, 2, 5, 1, 6, 5, 3, 2, 4, 1, 3, 6, 8, 4, 3, 1, 5, 6, 2]\n",
    "\n",
    "output = 8, because 8 is the only number in the list that is not repeated. "
   ]
  },
  {
   "cell_type": "code",
   "execution_count": null,
   "metadata": {},
   "outputs": [],
   "source": []
  },
  {
   "cell_type": "code",
   "execution_count": null,
   "metadata": {},
   "outputs": [],
   "source": []
  }
 ],
 "metadata": {
  "kernelspec": {
   "display_name": "Python 3",
   "language": "python",
   "name": "python3"
  },
  "language_info": {
   "codemirror_mode": {
    "name": "ipython",
    "version": 3
   },
   "file_extension": ".py",
   "mimetype": "text/x-python",
   "name": "python",
   "nbconvert_exporter": "python",
   "pygments_lexer": "ipython3",
   "version": "3.8.5"
  }
 },
 "nbformat": 4,
 "nbformat_minor": 2
}
