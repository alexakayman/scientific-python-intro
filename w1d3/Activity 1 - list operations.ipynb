{
 "cells": [
  {
   "cell_type": "markdown",
   "metadata": {},
   "source": [
    "# Wednesday, Week 1: Activity 1\n",
    "# List Operations\n",
    "\n",
    "__Learning Objective:__ \n",
    "1. practice declaring, modifying, using, and calling methods on lists. \n",
    "\n",
    "Following: https://realpython.com/python-lists-tuples/"
   ]
  },
  {
   "cell_type": "markdown",
   "metadata": {},
   "source": [
    "# Please work through this notebook as a group. Use the Ask for Help button to call over the teacher and/or TA."
   ]
  },
  {
   "cell_type": "markdown",
   "metadata": {},
   "source": [
    "__Activity__: As a group, go through each cell one at a time. Predict the output of the cell, run it to test your hypothesis, and then discuss the result as a group. "
   ]
  },
  {
   "cell_type": "code",
   "execution_count": 2,
   "metadata": {},
   "outputs": [
    {
     "name": "stdout",
     "output_type": "stream",
     "text": [
      "['astrochemistry', 'supercomputing', 'medicine', 'AI', 'genomics', 'basket weaving']\n"
     ]
    }
   ],
   "source": [
    "#lists are defined using square brackets\n",
    "speakers = ['astrochemistry', 'cosmology', 'medicine', 'AI', 'genomics','basket weaving']\n",
    "\n",
    "#you can change an element in a list by altering the entry at the desired index\n",
    "speakers[1] = 'supercomputing'\n",
    "print(speakers)"
   ]
  },
  {
   "cell_type": "code",
   "execution_count": 3,
   "metadata": {},
   "outputs": [
    {
     "name": "stdout",
     "output_type": "stream",
     "text": [
      "['astrochemistry', 'supercomputing', 'medicine', 'AI', 'genomics']\n"
     ]
    }
   ],
   "source": [
    "#you can delete items from a list! \n",
    "del speakers[-1]\n",
    "print(speakers)"
   ]
  },
  {
   "cell_type": "code",
   "execution_count": 4,
   "metadata": {},
   "outputs": [
    {
     "name": "stdout",
     "output_type": "stream",
     "text": [
      "['astrophysics', 'cosmology', 3, 4]\n"
     ]
    }
   ],
   "source": [
    "speakers = [1, 2, 3, 4]\n",
    "\n",
    "#you can use slice notation as well as single indices to alter parts of a list \n",
    "speakers[0:2] = ['astrophysics', 'cosmology']\n",
    "print(speakers)"
   ]
  },
  {
   "cell_type": "code",
   "execution_count": null,
   "metadata": {},
   "outputs": [],
   "source": [
    "speakers[2:] = ['genomics', 'AI']\n",
    "print(speakers)"
   ]
  },
  {
   "cell_type": "code",
   "execution_count": 5,
   "metadata": {},
   "outputs": [
    {
     "name": "stdout",
     "output_type": "stream",
     "text": [
      "['astrophysics', 'cosmology', ['another subject', 'one more subject'], 4]\n"
     ]
    }
   ],
   "source": [
    "# lists can be nested\n",
    "speakers[2] = ['another subject', 'one more subject']\n",
    "print(speakers)"
   ]
  },
  {
   "cell_type": "code",
   "execution_count": 6,
   "metadata": {},
   "outputs": [
    {
     "name": "stdout",
     "output_type": "stream",
     "text": [
      "['astrophysics', 'cosmology', [], 4]\n"
     ]
    }
   ],
   "source": [
    "# you can then edit entries in a nested list\n",
    "del speakers[2][:]\n",
    "print(speakers)"
   ]
  },
  {
   "cell_type": "code",
   "execution_count": 7,
   "metadata": {},
   "outputs": [
    {
     "name": "stdout",
     "output_type": "stream",
     "text": [
      "['astrophysics', 'cosmology', 4]\n"
     ]
    }
   ],
   "source": [
    "del speakers[2]\n",
    "print(speakers)"
   ]
  },
  {
   "cell_type": "code",
   "execution_count": null,
   "metadata": {},
   "outputs": [],
   "source": [
    "speakers[0:] = ['wait, what?']\n",
    "print(speakers)"
   ]
  },
  {
   "cell_type": "markdown",
   "metadata": {},
   "source": [
    "__Pre-pending and Appending to Lists:__"
   ]
  },
  {
   "cell_type": "code",
   "execution_count": 8,
   "metadata": {},
   "outputs": [
    {
     "ename": "TypeError",
     "evalue": "'int' object is not iterable",
     "output_type": "error",
     "traceback": [
      "\u001b[0;31m---------------------------------------------------------------------------\u001b[0m",
      "\u001b[0;31mTypeError\u001b[0m                                 Traceback (most recent call last)",
      "\u001b[1;32m/Users/ak/Desktop/harvard/w1d3/Activity 1 - list operations.ipynb Cell 13'\u001b[0m in \u001b[0;36m<cell line: 6>\u001b[0;34m()\u001b[0m\n\u001b[1;32m      <a href='vscode-notebook-cell:/Users/ak/Desktop/harvard/w1d3/Activity%201%20-%20list%20operations.ipynb#ch0000012?line=0'>1</a>\u001b[0m hobbits \u001b[39m=\u001b[39m [\u001b[39m'\u001b[39m\u001b[39mFrodo\u001b[39m\u001b[39m'\u001b[39m, \u001b[39m'\u001b[39m\u001b[39mSam\u001b[39m\u001b[39m'\u001b[39m, \u001b[39m'\u001b[39m\u001b[39mMerry\u001b[39m\u001b[39m'\u001b[39m]\n\u001b[1;32m      <a href='vscode-notebook-cell:/Users/ak/Desktop/harvard/w1d3/Activity%201%20-%20list%20operations.ipynb#ch0000012?line=2'>3</a>\u001b[0m \u001b[39m# suppose we want to add something to the list hobbits.\u001b[39;00m\n\u001b[1;32m      <a href='vscode-notebook-cell:/Users/ak/Desktop/harvard/w1d3/Activity%201%20-%20list%20operations.ipynb#ch0000012?line=3'>4</a>\u001b[0m \u001b[39m# how would we do that? \u001b[39;00m\n\u001b[1;32m      <a href='vscode-notebook-cell:/Users/ak/Desktop/harvard/w1d3/Activity%201%20-%20list%20operations.ipynb#ch0000012?line=4'>5</a>\u001b[0m \u001b[39m# maybe like this? \u001b[39;00m\n\u001b[0;32m----> <a href='vscode-notebook-cell:/Users/ak/Desktop/harvard/w1d3/Activity%201%20-%20list%20operations.ipynb#ch0000012?line=5'>6</a>\u001b[0m hobbits \u001b[39m+\u001b[39m\u001b[39m=\u001b[39m \u001b[39m20\u001b[39m\n",
      "\u001b[0;31mTypeError\u001b[0m: 'int' object is not iterable"
     ]
    }
   ],
   "source": [
    "hobbits = ['Frodo', 'Sam', 'Merry']\n",
    "\n",
    "# suppose we want to add something to the list hobbits.\n",
    "# how would we do that? \n",
    "# maybe like this? \n",
    "hobbits += 20"
   ]
  },
  {
   "cell_type": "code",
   "execution_count": 9,
   "metadata": {},
   "outputs": [
    {
     "name": "stdout",
     "output_type": "stream",
     "text": [
      "['Frodo', 'Sam', 'Merry', 20]\n"
     ]
    }
   ],
   "source": [
    "# ...let's try that again!\n",
    "hobbits += [20]\n",
    "print(hobbits)"
   ]
  },
  {
   "cell_type": "code",
   "execution_count": 12,
   "metadata": {},
   "outputs": [
    {
     "name": "stdout",
     "output_type": "stream",
     "text": [
      " i   a m   a   s t r i n g"
     ]
    }
   ],
   "source": [
    "# we've discovered that whatever we add to the list using the + operator must be an iterable. \n",
    "# the + operator will iterate over every entry in the iterable and add it to the list. \n",
    "\n",
    "# lists are iterables (even single entry ones, like above)\n",
    "# so are sequences of letters, which are called strings in programming:\n",
    "\n",
    "# what do you think happens when you run this loop?\n",
    "for letter in 'i am a string':\n",
    "    print(\" %s\" %letter, end = '')"
   ]
  },
  {
   "cell_type": "code",
   "execution_count": 11,
   "metadata": {},
   "outputs": [
    {
     "name": "stdout",
     "output_type": "stream",
     "text": [
      "['Frodo', 'Sam', 'Merry', 'P', 'i', 'p', 'p', 'i', 'n']\n"
     ]
    }
   ],
   "source": [
    "hobbits = ['Frodo', 'Sam', 'Merry']\n",
    "\n",
    "# okay. Let's try adding a string to our list of hobbits. \n",
    "hobbits += 'Pippin'\n",
    "print(hobbits)"
   ]
  },
  {
   "cell_type": "code",
   "execution_count": 12,
   "metadata": {},
   "outputs": [
    {
     "name": "stdout",
     "output_type": "stream",
     "text": [
      "['Frodo', 'Sam', 'Merry', 'P', 'i', 'p', 'p', 'i', 'Pippin']\n"
     ]
    }
   ],
   "source": [
    "# what if we do it like this instead?\n",
    "hobbits[-1] = 'Pippin'\n",
    "print(hobbits)"
   ]
  },
  {
   "cell_type": "code",
   "execution_count": 13,
   "metadata": {},
   "outputs": [
    {
     "name": "stdout",
     "output_type": "stream",
     "text": [
      "['Frodo', 'Sam', 'Merry', 'Pippin']\n"
     ]
    }
   ],
   "source": [
    "# let's clean up the mess we just made\n",
    "del hobbits[3:]\n",
    "hobbits += ['Pippin']\n",
    "print(hobbits)"
   ]
  },
  {
   "cell_type": "code",
   "execution_count": 14,
   "metadata": {},
   "outputs": [
    {
     "name": "stdout",
     "output_type": "stream",
     "text": [
      "['Aragorn', 'Legolas', 'Gimli', 'Gandalf', 'Frodo', 'Sam', 'Merry', 'Pippin']\n"
     ]
    }
   ],
   "source": [
    "# that's better! \n",
    "# you can also add two lists together: \n",
    "fellowship = ['Aragorn', 'Legolas', 'Gimli', 'Gandalf'] + hobbits\n",
    "print(fellowship)"
   ]
  },
  {
   "cell_type": "code",
   "execution_count": 15,
   "metadata": {},
   "outputs": [
    {
     "name": "stdout",
     "output_type": "stream",
     "text": [
      "['Aragorn', 'Legolas', 'Gimli', 'Gandalf', 'Frodo', 'Sam', 'Merry', 'Pippin', 'Boromir']\n"
     ]
    }
   ],
   "source": [
    "# we can also use the built-in list method (aka function) to append something to a list\n",
    "# methods are called on a specific object, like a list. in this case, fellowship is the object\n",
    "# and append is the method, so we call fellowship.append( thing_we_want_to_append_to_fellowship )\n",
    "\n",
    "# when we use append, we can provide the entry we want to stick into the list. \n",
    "# so while hobbits += 'Pippin' gave us a mess and not at all what we wanted,\n",
    "# hobbits.append('Pippin') would indeed produce the desired result. \n",
    "\n",
    "fellowship.append('Boromir')\n",
    "print(fellowship)"
   ]
  },
  {
   "cell_type": "code",
   "execution_count": 16,
   "metadata": {},
   "outputs": [
    {
     "name": "stdout",
     "output_type": "stream",
     "text": [
      "None\n"
     ]
    }
   ],
   "source": [
    "# append is a method that doesn't return anything! Instead, it modifies the object on which it is called,\n",
    "# in this case the list fellowship. \n",
    "\n",
    "x = fellowship.append('Boromir')\n",
    "print(x)"
   ]
  },
  {
   "cell_type": "code",
   "execution_count": 17,
   "metadata": {},
   "outputs": [
    {
     "name": "stdout",
     "output_type": "stream",
     "text": [
      "['Aragorn', 'Legolas', 'Gimli', 'Gandalf', 'Frodo', 'Sam', 'Merry', 'Pippin', 'Boromir', 'Boromir', ['Chewie', 'Han Solo', 'Luke']]\n"
     ]
    }
   ],
   "source": [
    "# we can also append a list to a list, which will create a nested list \n",
    "# note again the different behavior from how the + operator behaves for lists. \n",
    "\n",
    "fellowship.append(['Chewie', 'Han Solo', 'Luke'])\n",
    "print(fellowship)"
   ]
  },
  {
   "cell_type": "code",
   "execution_count": 18,
   "metadata": {},
   "outputs": [
    {
     "name": "stdout",
     "output_type": "stream",
     "text": [
      "[]\n",
      "['Chewie', 'Han Solo', 'Luke']\n",
      "['Chewie', 'Han Solo', 'Luke', 'Percy Jackson']\n"
     ]
    }
   ],
   "source": [
    "# if you want to append 'Chewie', 'Han Solo', and 'Luke' without creating a nested list, you can use extend instead.\n",
    "\n",
    "fellowship = []\n",
    "print(fellowship)\n",
    "fellowship.extend(['Chewie', 'Han Solo', 'Luke'])\n",
    "print(fellowship)\n",
    "fellowship.extend(['Percy Jackson'])\n",
    "print(fellowship)"
   ]
  },
  {
   "cell_type": "code",
   "execution_count": 19,
   "metadata": {},
   "outputs": [
    {
     "name": "stdout",
     "output_type": "stream",
     "text": [
      "['Chewie', 'Leia', 'Han Solo', 'Luke', 'Percy Jackson']\n"
     ]
    }
   ],
   "source": [
    "# now let's see what the insert() list method does. \n",
    "\n",
    "fellowship.insert(1, 'Leia')\n",
    "print(fellowship)"
   ]
  },
  {
   "cell_type": "code",
   "execution_count": 20,
   "metadata": {},
   "outputs": [
    {
     "name": "stdout",
     "output_type": "stream",
     "text": [
      "['Chewie', 'Leia', 'Luke', 'Percy Jackson']\n"
     ]
    }
   ],
   "source": [
    "# what about the remove() method? \n",
    "\n",
    "fellowship.remove('Han Solo')\n",
    "print(fellowship)"
   ]
  },
  {
   "cell_type": "code",
   "execution_count": 21,
   "metadata": {},
   "outputs": [
    {
     "name": "stdout",
     "output_type": "stream",
     "text": [
      "['Chewie', 'Leia', 'Luke', 'Percy Jackson']\n",
      "Percy Jackson\n"
     ]
    }
   ],
   "source": [
    "# how about the method pop(), which returns something that is 'popped' from the list? \n",
    "\n",
    "print(fellowship)\n",
    "just_removed = fellowship.pop()\n",
    "print(just_removed)"
   ]
  },
  {
   "cell_type": "code",
   "execution_count": 22,
   "metadata": {},
   "outputs": [
    {
     "name": "stdout",
     "output_type": "stream",
     "text": [
      "['Chewie', 'Leia', 'Luke']\n"
     ]
    }
   ],
   "source": [
    "# calling pop alters the original list! \n",
    "print(fellowship)\n",
    "\n",
    "# a use case for pop might be if you want to grab the next eligible task in a list \n",
    "# and then do something with it, after which you discard the information. \n",
    "# for instance, pop the next customer off a list of people waiting in a queue, \n",
    "# process their request, and then forget they ever existed. "
   ]
  },
  {
   "cell_type": "code",
   "execution_count": 23,
   "metadata": {},
   "outputs": [
    {
     "name": "stdout",
     "output_type": "stream",
     "text": [
      "[-2, 5, 32, 67]\n"
     ]
    }
   ],
   "source": [
    "# we've already seen the sort() list method briefly but here it is again. \n",
    "# notice that it, like pop, del, insert, extend, and append, \n",
    "# actually modify the list these methods are acting on. \n",
    "\n",
    "# we will talk much more about methods and the *objects* they act on next week\n",
    "# but if you're curious: a list is a specific class -- a class is something that \n",
    "# has set properties and methods associated with it. Every list has the method pop, for instance.\n",
    "# messy_list is an object. It's an instance of the class list.\n",
    "# sort() is a method of the class called list. \n",
    "\n",
    "# don't worry about all that if it doesn't make sense; just a bit of foreshadowing for next week. \n",
    "\n",
    "messy_list = [32, 5, -2, 67]\n",
    "messy_list.sort()\n",
    "print(messy_list)"
   ]
  },
  {
   "cell_type": "markdown",
   "metadata": {},
   "source": [
    "__Activity:__ You are automating your school's course catalogue by entering all the classes available into a list. To stay organized, you decide to use a nested list, where each level of the list is organized by subject area. Using the list defined below, do the following:\n",
    "\n",
    "1. Write a line of code that indexes the list subjects and returns ‘Physics’.\n",
    "2. Write a line of code that indexes the list subjects and returns 'English'.\n",
    "3. Now do the same thing as #2, but using only negative indices. \n",
    "4. Write a line of code that indexes the list subjects and returns [‘Spanish’, ‘English’].\n",
    "5. Write a line of code that deletes your least favorite subject from the list. \n",
    "6. Write a line of code that replaces 'Math' with 'Computer Science'. \n"
   ]
  },
  {
   "cell_type": "code",
   "execution_count": 65,
   "metadata": {},
   "outputs": [
    {
     "name": "stdout",
     "output_type": "stream",
     "text": [
      "1) Returning indice: Physics\n",
      "2) Returning indice within a nested list: English\n",
      "4) Slice nested items: ['Spanish', 'English']\n",
      "\n",
      "\n",
      "5) Remove item: ['Math', ['French', 'Spanish', 'English'], [['Choir', 'Orchestra'], ['Painting', 'Drawing', 'Pottery']]]\n",
      "\n",
      "\n",
      "6) Replace item: ['Computer Science', ['French', 'Spanish', 'English'], [['Choir', 'Orchestra'], ['Painting', 'Drawing', 'Pottery']]]\n"
     ]
    }
   ],
   "source": [
    "subjects = ['Physics', 'Math', ['French', 'Spanish', 'English'], [['Choir', 'Orchestra'], ['Painting', 'Drawing', 'Pottery']]]\n",
    "\n",
    "print('1) Returning indice: ' + subjects[0])\n",
    "print('2) Returning indice within a nested list: ' + str(subjects[2][-1]))\n",
    "print('4) Slice nested items: ' + str(subjects[2][-2:]))\n",
    "\n",
    "print('\\n')\n",
    "subjects.remove('Physics')\n",
    "print('5) Remove item: ' + str(subjects))\n",
    "\n",
    "print('\\n')\n",
    "subjects[0] = 'Computer Science'\n",
    "print('6) Replace item: ' + str(subjects))"
   ]
  }
 ],
 "metadata": {
  "kernelspec": {
   "display_name": "Python 3",
   "language": "python",
   "name": "python3"
  },
  "language_info": {
   "codemirror_mode": {
    "name": "ipython",
    "version": 3
   },
   "file_extension": ".py",
   "mimetype": "text/x-python",
   "name": "python",
   "nbconvert_exporter": "python",
   "pygments_lexer": "ipython3",
   "version": "3.10.4"
  }
 },
 "nbformat": 4,
 "nbformat_minor": 2
}
