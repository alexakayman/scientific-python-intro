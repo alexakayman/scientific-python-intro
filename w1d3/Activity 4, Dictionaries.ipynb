{
 "cells": [
  {
   "cell_type": "markdown",
   "metadata": {},
   "source": [
    "# Thursday, Week 1: Activity 3\n",
    "# Dictionaries: \n",
    "\n",
    "__Learning Objective:__ \n",
    "1. practice declaring, modifying, and using dictionaries.\n",
    "\n",
    "Following https://realpython.com/python-dicts/."
   ]
  },
  {
   "cell_type": "code",
   "execution_count": null,
   "metadata": {},
   "outputs": [],
   "source": [
    "# The general syntax for a dictionary looks like this \n",
    "d = {\n",
    "    <key>: <value>,\n",
    "    <key>: <value>,\n",
    "      .\n",
    "      .\n",
    "      .\n",
    "    <key>: <value>\n",
    "}\n",
    "# this cell won't run, it's just an example. "
   ]
  },
  {
   "cell_type": "code",
   "execution_count": null,
   "metadata": {},
   "outputs": [],
   "source": [
    "# An example dictionary \n",
    "NBA_teams = {\n",
    "    \"Oklahoma City\": \"Oklahoma City Thunder\",\n",
    "    \"New York\": \"New York Knicks\",\n",
    "    \"Brooklyn\": \"Brooklyn Nets\",\n",
    "    \"Salt Lake City\": \"Utah Jazz\"\n",
    "}"
   ]
  },
  {
   "cell_type": "code",
   "execution_count": null,
   "metadata": {},
   "outputs": [],
   "source": [
    "NBA_teams"
   ]
  },
  {
   "cell_type": "code",
   "execution_count": null,
   "metadata": {},
   "outputs": [],
   "source": [
    "# You can look up values in a dictionary using their keys\n",
    "\n",
    "NBA_teams['Oklahoma City'] # here, Oklahoma City is the key and Oklahoma City Thunder is the entry. "
   ]
  },
  {
   "cell_type": "code",
   "execution_count": null,
   "metadata": {},
   "outputs": [],
   "source": [
    "# if you try to look up a key that doesn't exist, Python will hiss at you. \n",
    "NBA_teams['San Francisco']"
   ]
  },
  {
   "cell_type": "code",
   "execution_count": null,
   "metadata": {},
   "outputs": [],
   "source": [
    "# but thankfully you can add to your dictionary:\n",
    "NBA_teams['San Francisco'] = 'Golden State Warriors'"
   ]
  },
  {
   "cell_type": "code",
   "execution_count": null,
   "metadata": {},
   "outputs": [],
   "source": [
    "NBA_teams['San Francisco']"
   ]
  },
  {
   "cell_type": "code",
   "execution_count": null,
   "metadata": {},
   "outputs": [],
   "source": [
    "NBA_teams"
   ]
  },
  {
   "cell_type": "code",
   "execution_count": null,
   "metadata": {},
   "outputs": [],
   "source": [
    "# You can also delete entries using del. \n",
    "del NBA_teams['San Francisco']\n",
    "NBA_teams"
   ]
  },
  {
   "cell_type": "code",
   "execution_count": null,
   "metadata": {},
   "outputs": [],
   "source": [
    "# Integers can be used as dictionary keys, but be careful: there are important differences between \n",
    "# dictionaries and lists: \n",
    "\n",
    "int_dict = {1: 'one', 2: 'two', 4: 'four'}\n",
    "int_dict[1] # here, it looks like I'm indexing but actually, 1 is the key, not the index. "
   ]
  },
  {
   "cell_type": "code",
   "execution_count": null,
   "metadata": {},
   "outputs": [],
   "source": [
    "int_dict[1:2] # slices don't work because dictionaries are unordered. "
   ]
  },
  {
   "cell_type": "code",
   "execution_count": null,
   "metadata": {},
   "outputs": [],
   "source": [
    "int_dict[-1] # neither does indexing that would work for lists. Here, -1 is not a key, so this fails. "
   ]
  },
  {
   "cell_type": "code",
   "execution_count": null,
   "metadata": {},
   "outputs": [],
   "source": [
    "# All keys in a dictionary must be unique! \n",
    "NBA_teams = {\n",
    "    \"Oklahoma City\": \"Oklahoma City Thunder\",\n",
    "    \"Oklahoma City\": \"some other Oklahoma team\", # this will override the first OKC entry! \n",
    "    \"New York\": \"New York Knicks\",\n",
    "    \"Brooklyn\": \"Brooklyn Nets\",\n",
    "    \"Salt Lake City\": \"Utah Jazz\"\n",
    "}"
   ]
  },
  {
   "cell_type": "code",
   "execution_count": null,
   "metadata": {},
   "outputs": [],
   "source": [
    "NBA_teams"
   ]
  },
  {
   "cell_type": "code",
   "execution_count": null,
   "metadata": {},
   "outputs": [],
   "source": [
    "# All keys in a dictionary must be immutable, so lists can't be keys: \n",
    "NBA_teams = {\n",
    "    [\"Oklahoma\", \"City\"]: \"Oklahoma City Thunder\", \n",
    "    \"New York\": \"New York Knicks\",\n",
    "    \"Brooklyn\": \"Brooklyn Nets\",\n",
    "    \"Salt Lake City\": \"Utah Jazz\"\n",
    "}"
   ]
  },
  {
   "cell_type": "code",
   "execution_count": null,
   "metadata": {},
   "outputs": [],
   "source": [
    "# but anything can be a dictionary value, mutable or not. Values can be repeated. \n",
    "d = {0: 'a', 1: 'a', 2: 'a', 3: 'a'}\n",
    "d[0] == d[1] == d[2]"
   ]
  },
  {
   "cell_type": "code",
   "execution_count": null,
   "metadata": {},
   "outputs": [],
   "source": [
    "# Let's take a look at some common operators and dictionary methods: \n",
    "NBA_teams = {\n",
    "    \"Oklahoma City\": \"Oklahoma City Thunder\",\n",
    "    \"New York\": \"New York Knicks\",\n",
    "    \"Brooklyn\": \"Brooklyn Nets\",\n",
    "    \"Salt Lake City\": \"Utah Jazz\"\n",
    "}"
   ]
  },
  {
   "cell_type": "code",
   "execution_count": null,
   "metadata": {},
   "outputs": [],
   "source": [
    "len(NBA_teams)"
   ]
  },
  {
   "cell_type": "code",
   "execution_count": null,
   "metadata": {},
   "outputs": [],
   "source": [
    "# the in operator checks if a key is in the dictionary \n",
    "\"New York\" in NBA_teams"
   ]
  },
  {
   "cell_type": "code",
   "execution_count": null,
   "metadata": {},
   "outputs": [],
   "source": [
    "\"San Francisco\" in NBA_teams"
   ]
  },
  {
   "cell_type": "code",
   "execution_count": null,
   "metadata": {},
   "outputs": [],
   "source": [
    "NBA_teams.get(\"Brooklyn\") # get looks up the value for the given key "
   ]
  },
  {
   "cell_type": "code",
   "execution_count": null,
   "metadata": {},
   "outputs": [],
   "source": [
    "NBA_teams.items() # returns all the key/value pairs in the dict "
   ]
  },
  {
   "cell_type": "code",
   "execution_count": null,
   "metadata": {},
   "outputs": [],
   "source": [
    "list(NBA_teams.items())[0] # you can convert this to a list and then index into it "
   ]
  },
  {
   "cell_type": "code",
   "execution_count": null,
   "metadata": {},
   "outputs": [],
   "source": [
    "list(NBA_teams.items())[0][0] "
   ]
  },
  {
   "cell_type": "code",
   "execution_count": null,
   "metadata": {},
   "outputs": [],
   "source": [
    "NBA_teams.keys() #returns all the keys; can also be converted to a list with list()"
   ]
  },
  {
   "cell_type": "code",
   "execution_count": null,
   "metadata": {},
   "outputs": [],
   "source": [
    "NBA_teams.values() #similar as keys()"
   ]
  },
  {
   "cell_type": "code",
   "execution_count": null,
   "metadata": {},
   "outputs": [],
   "source": [
    "# and it goes on. Look up the dictionary methods pop(), popitem(), clear(), and update() as needed!"
   ]
  },
  {
   "cell_type": "markdown",
   "metadata": {},
   "source": [
    "__Activity:__ Define a dictionary of the student names and ages in your breakout room. The student names should be the keys; the ages the values. "
   ]
  },
  {
   "cell_type": "code",
   "execution_count": null,
   "metadata": {},
   "outputs": [],
   "source": []
  },
  {
   "cell_type": "markdown",
   "metadata": {},
   "source": [
    "__Activity:__ Write a program that prints out the youngest student's name, using your dictionary."
   ]
  },
  {
   "cell_type": "code",
   "execution_count": null,
   "metadata": {},
   "outputs": [],
   "source": []
  },
  {
   "cell_type": "markdown",
   "metadata": {},
   "source": [
    "__Activity:__ Now write a function that takes your dictionary as input and returns a list of student names in alphabetical order. "
   ]
  },
  {
   "cell_type": "code",
   "execution_count": null,
   "metadata": {},
   "outputs": [],
   "source": []
  }
 ],
 "metadata": {
  "kernelspec": {
   "display_name": "Python 3",
   "language": "python",
   "name": "python3"
  },
  "language_info": {
   "codemirror_mode": {
    "name": "ipython",
    "version": 3
   },
   "file_extension": ".py",
   "mimetype": "text/x-python",
   "name": "python",
   "nbconvert_exporter": "python",
   "pygments_lexer": "ipython3",
   "version": "3.8.5"
  }
 },
 "nbformat": 4,
 "nbformat_minor": 2
}
