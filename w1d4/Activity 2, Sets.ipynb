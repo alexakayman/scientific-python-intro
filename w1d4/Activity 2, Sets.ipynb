{
 "cells": [
  {
   "cell_type": "markdown",
   "metadata": {},
   "source": [
    "# Thursday, Week 1: Activity 2\n",
    "# Sets: \n",
    "\n",
    "__Learning Objective:__ \n",
    "1. practice declaring, modifying, and using sets.\n",
    "Following: https://realpython.com/python-sets/"
   ]
  },
  {
   "cell_type": "code",
   "execution_count": 1,
   "metadata": {},
   "outputs": [
    {
     "data": {
      "text/plain": [
       "{'Alice', 'Anne', 'Bob'}"
      ]
     },
     "execution_count": 1,
     "metadata": {},
     "output_type": "execute_result"
    }
   ],
   "source": [
    "# Sets are a built-in data type in Python that are unordered, have unique elements,\n",
    "# and are mutable. However, the elements within a set must be of immutable types. \n",
    "\n",
    "# sets are declared like this: \n",
    "example_set = set( ['Alice', 'Anne', 'Bob', 'Alice'] )\n",
    "example_set # the resulting example_set will have entries that are strings and each entry appears exactly once"
   ]
  },
  {
   "cell_type": "code",
   "execution_count": 2,
   "metadata": {},
   "outputs": [
    {
     "data": {
      "text/plain": [
       "{'a', 'c', 'f', 'i', 'l', 'n', 'o', 'r'}"
      ]
     },
     "execution_count": 2,
     "metadata": {},
     "output_type": "execute_result"
    }
   ],
   "source": [
    "# you can also declare a set using another kind of iterable: a string\n",
    "another_set = set( 'california' )\n",
    "another_set # notice that the letters i and a appear only once in the set, even though they're repeated in 'california'"
   ]
  },
  {
   "cell_type": "code",
   "execution_count": null,
   "metadata": {},
   "outputs": [],
   "source": [
    "another_set = set( 'cAlifornia' )\n",
    "another_set # capital letters are considered unique from their lowercase counterparts "
   ]
  },
  {
   "cell_type": "code",
   "execution_count": 3,
   "metadata": {},
   "outputs": [
    {
     "data": {
      "text/plain": [
       "{'baseball', 'basketball', 'cross-country', 'football'}"
      ]
     },
     "execution_count": 3,
     "metadata": {},
     "output_type": "execute_result"
    }
   ],
   "source": [
    "# one more way of declaring sets:\n",
    "last_set = {'baseball', 'basketball', 'baseball', 'football', 'cross-country'}\n",
    "last_set\n",
    "\n",
    "# just be careful with braces, because although a set can be empty when declared with set()\n",
    "# Python interprets s = {} as an empty dictionary... more on that below. "
   ]
  },
  {
   "cell_type": "code",
   "execution_count": null,
   "metadata": {},
   "outputs": [],
   "source": [
    "# to recap:\n",
    "# The argument to set() is an iterable (e.g. a list or string). It generates a list of elements to be placed into the set.\n",
    "# The objects in curly braces are placed into the set intact, even if they are iterable."
   ]
  },
  {
   "cell_type": "code",
   "execution_count": 4,
   "metadata": {},
   "outputs": [],
   "source": [
    "# sets can have entries of different types:\n",
    "x = {42, 'foo', 3.14159, None}"
   ]
  },
  {
   "cell_type": "code",
   "execution_count": 5,
   "metadata": {},
   "outputs": [
    {
     "ename": "TypeError",
     "evalue": "unhashable type: 'list'",
     "output_type": "error",
     "traceback": [
      "\u001b[0;31m---------------------------------------------------------------------------\u001b[0m",
      "\u001b[0;31mTypeError\u001b[0m                                 Traceback (most recent call last)",
      "\u001b[1;32m/Users/ak/Desktop/harvard/w1d4/Activity 2, Sets.ipynb Cell 8'\u001b[0m in \u001b[0;36m<cell line: 7>\u001b[0;34m()\u001b[0m\n\u001b[1;32m      <a href='vscode-notebook-cell:/Users/ak/Desktop/harvard/w1d4/Activity%202%2C%20Sets.ipynb#ch0000007?line=4'>5</a>\u001b[0m \u001b[39m# but this is not: \u001b[39;00m\n\u001b[1;32m      <a href='vscode-notebook-cell:/Users/ak/Desktop/harvard/w1d4/Activity%202%2C%20Sets.ipynb#ch0000007?line=5'>6</a>\u001b[0m a \u001b[39m=\u001b[39m [\u001b[39m1\u001b[39m, \u001b[39m2\u001b[39m, \u001b[39m3\u001b[39m]\n\u001b[0;32m----> <a href='vscode-notebook-cell:/Users/ak/Desktop/harvard/w1d4/Activity%202%2C%20Sets.ipynb#ch0000007?line=6'>7</a>\u001b[0m {a}\n",
      "\u001b[0;31mTypeError\u001b[0m: unhashable type: 'list'"
     ]
    }
   ],
   "source": [
    "# so long as all the entries are immutable.\n",
    "# this is okay:\n",
    "x = {42, 'foo', (1, 2, 3), 3.14159} # because tuples are immutable! \n",
    "\n",
    "# but this is not: \n",
    "a = [1, 2, 3]\n",
    "{a} # because a is a list and lists are mutable"
   ]
  },
  {
   "cell_type": "code",
   "execution_count": 6,
   "metadata": {},
   "outputs": [
    {
     "data": {
      "text/plain": [
       "False"
      ]
     },
     "execution_count": 6,
     "metadata": {},
     "output_type": "execute_result"
    }
   ],
   "source": [
    "# you can check if something is in a set using the 'in' operator\n",
    "subjects = {'astrochemistry', 'supercomputing', 'medicine', 'AI', 'genomics'}\n",
    "\n",
    "'economics' in subjects"
   ]
  },
  {
   "cell_type": "code",
   "execution_count": 7,
   "metadata": {},
   "outputs": [
    {
     "ename": "TypeError",
     "evalue": "unsupported operand type(s) for +: 'set' and 'set'",
     "output_type": "error",
     "traceback": [
      "\u001b[0;31m---------------------------------------------------------------------------\u001b[0m",
      "\u001b[0;31mTypeError\u001b[0m                                 Traceback (most recent call last)",
      "\u001b[1;32m/Users/ak/Desktop/harvard/w1d4/Activity 2, Sets.ipynb Cell 10'\u001b[0m in \u001b[0;36m<cell line: 2>\u001b[0;34m()\u001b[0m\n\u001b[1;32m      <a href='vscode-notebook-cell:/Users/ak/Desktop/harvard/w1d4/Activity%202%2C%20Sets.ipynb#ch0000009?line=0'>1</a>\u001b[0m new_subjects \u001b[39m=\u001b[39m {\u001b[39m'\u001b[39m\u001b[39meconomics\u001b[39m\u001b[39m'\u001b[39m, \u001b[39m'\u001b[39m\u001b[39msupercomputing\u001b[39m\u001b[39m'\u001b[39m}\n\u001b[0;32m----> <a href='vscode-notebook-cell:/Users/ak/Desktop/harvard/w1d4/Activity%202%2C%20Sets.ipynb#ch0000009?line=1'>2</a>\u001b[0m subjects \u001b[39m+\u001b[39;49m new_subjects\n",
      "\u001b[0;31mTypeError\u001b[0m: unsupported operand type(s) for +: 'set' and 'set'"
     ]
    }
   ],
   "source": [
    "new_subjects = {'economics', 'supercomputing'}\n",
    "subjects + new_subjects"
   ]
  },
  {
   "cell_type": "code",
   "execution_count": 8,
   "metadata": {},
   "outputs": [
    {
     "data": {
      "text/plain": [
       "{'AI', 'astrochemistry', 'economics', 'genomics', 'medicine', 'supercomputing'}"
      ]
     },
     "execution_count": 8,
     "metadata": {},
     "output_type": "execute_result"
    }
   ],
   "source": [
    "subjects | new_subjects # this produces the union of the set -- notice that supercomputing doesn't repeat! \n",
    "# the union of two sets is a set. "
   ]
  },
  {
   "cell_type": "code",
   "execution_count": 9,
   "metadata": {},
   "outputs": [
    {
     "data": {
      "text/plain": [
       "{'AI', 'astrochemistry', 'economics', 'genomics', 'medicine', 'supercomputing'}"
      ]
     },
     "execution_count": 9,
     "metadata": {},
     "output_type": "execute_result"
    }
   ],
   "source": [
    "# can also get the union like this:\n",
    "subjects.union(new_subjects)"
   ]
  },
  {
   "cell_type": "code",
   "execution_count": 10,
   "metadata": {},
   "outputs": [
    {
     "name": "stdout",
     "output_type": "stream",
     "text": [
      "{'supercomputing'}\n",
      "{'supercomputing'}\n"
     ]
    }
   ],
   "source": [
    "# you might be interested in the intersection of two sets -- elements that appear in both:\n",
    "print(subjects & new_subjects)\n",
    "print(subjects.intersection(new_subjects))"
   ]
  },
  {
   "cell_type": "code",
   "execution_count": 11,
   "metadata": {},
   "outputs": [
    {
     "name": "stdout",
     "output_type": "stream",
     "text": [
      "{'bar', 'foo'}\n",
      "{'bar', 'foo'}\n"
     ]
    }
   ],
   "source": [
    "# or the difference of two sets: all elements that are in x2 but not x2: \n",
    "x1 = {'foo', 'bar', 'baz'}\n",
    "x2 = {'baz', 'qux', 'quux'} # 'baz' is in both sets. \n",
    "\n",
    "print(x1.difference(x2))\n",
    "\n",
    "print(x1 - x2)"
   ]
  },
  {
   "cell_type": "code",
   "execution_count": 12,
   "metadata": {},
   "outputs": [
    {
     "name": "stdout",
     "output_type": "stream",
     "text": [
      "{'quux', 'qux', 'foo', 'bar'}\n",
      "{'quux', 'qux', 'foo', 'bar'}\n"
     ]
    }
   ],
   "source": [
    "# you can also grab all elements that are in one set or the other but not both:\n",
    "print(x1 ^ x2)\n",
    "print(x1.symmetric_difference(x2))"
   ]
  },
  {
   "cell_type": "code",
   "execution_count": null,
   "metadata": {},
   "outputs": [],
   "source": [
    "# we could do this all day. There are tons of other methods and operators you can use on sets\n",
    "# and I encourage you to look them up as you're solving problems if you think they might be useful! "
   ]
  },
  {
   "cell_type": "markdown",
   "metadata": {},
   "source": [
    "__Activity:__ Ask each member of the group to write down a list with academic subjects they enjoy. Define a set that finds which subjects you all enjoy. "
   ]
  },
  {
   "cell_type": "code",
   "execution_count": 16,
   "metadata": {},
   "outputs": [
    {
     "name": "stdout",
     "output_type": "stream",
     "text": [
      "{'astronomy', 'math', 'english', 'CS', 'history'}\n"
     ]
    }
   ],
   "source": [
    "subjects = {'math', 'astronomy', 'CS'}\n",
    "alexa_subjects = {'history', 'english', 'CS'}\n",
    "\n",
    "print(alexa_subjects | subjects)"
   ]
  },
  {
   "cell_type": "markdown",
   "metadata": {},
   "source": [
    "__Activity:__ Given a list that contains exactly one unique entry (the rest are repeated), identify the unique entry.\n",
    "\n",
    "Example: \n",
    "input_list = [1, 2, 3, 6, 5, 4, 4, 2, 5, 1, 6, 5, 3, 2, 4, 1, 3, 6, 8, 4, 3, 1, 5, 6, 2]\n",
    "\n",
    "output = 8, because 8 is the only number in the list that is not repeated. "
   ]
  },
  {
   "cell_type": "code",
   "execution_count": 24,
   "metadata": {},
   "outputs": [
    {
     "ename": "TypeError",
     "evalue": "'set' object is not subscriptable",
     "output_type": "error",
     "traceback": [
      "\u001b[0;31m---------------------------------------------------------------------------\u001b[0m",
      "\u001b[0;31mTypeError\u001b[0m                                 Traceback (most recent call last)",
      "\u001b[1;32m/Users/ak/Desktop/harvard/w1d4/Activity 2, Sets.ipynb Cell 20'\u001b[0m in \u001b[0;36m<cell line: 15>\u001b[0;34m()\u001b[0m\n\u001b[1;32m     <a href='vscode-notebook-cell:/Users/ak/Desktop/harvard/w1d4/Activity%202%2C%20Sets.ipynb#ch0000019?line=11'>12</a>\u001b[0m         \u001b[39mif\u001b[39;00m count \u001b[39m<\u001b[39m \u001b[39m2\u001b[39m:\n\u001b[1;32m     <a href='vscode-notebook-cell:/Users/ak/Desktop/harvard/w1d4/Activity%202%2C%20Sets.ipynb#ch0000019?line=12'>13</a>\u001b[0m             \u001b[39mprint\u001b[39m(\u001b[39mf\u001b[39m\u001b[39m'\u001b[39m\u001b[39mThe number \u001b[39m\u001b[39m{\u001b[39;00mitem\u001b[39m}\u001b[39;00m\u001b[39m is unique\u001b[39m\u001b[39m'\u001b[39m)\n\u001b[0;32m---> <a href='vscode-notebook-cell:/Users/ak/Desktop/harvard/w1d4/Activity%202%2C%20Sets.ipynb#ch0000019?line=14'>15</a>\u001b[0m if_repeated(input_set)\n",
      "\u001b[1;32m/Users/ak/Desktop/harvard/w1d4/Activity 2, Sets.ipynb Cell 20'\u001b[0m in \u001b[0;36mif_repeated\u001b[0;34m(original_set)\u001b[0m\n\u001b[1;32m      <a href='vscode-notebook-cell:/Users/ak/Desktop/harvard/w1d4/Activity%202%2C%20Sets.ipynb#ch0000019?line=5'>6</a>\u001b[0m i \u001b[39m=\u001b[39m \u001b[39m0\u001b[39m\n\u001b[1;32m      <a href='vscode-notebook-cell:/Users/ak/Desktop/harvard/w1d4/Activity%202%2C%20Sets.ipynb#ch0000019?line=7'>8</a>\u001b[0m \u001b[39mfor\u001b[39;00m item \u001b[39min\u001b[39;00m original_set:\n\u001b[0;32m----> <a href='vscode-notebook-cell:/Users/ak/Desktop/harvard/w1d4/Activity%202%2C%20Sets.ipynb#ch0000019?line=8'>9</a>\u001b[0m     \u001b[39mif\u001b[39;00m unique_set[i] \u001b[39min\u001b[39;00m original_set:\n\u001b[1;32m     <a href='vscode-notebook-cell:/Users/ak/Desktop/harvard/w1d4/Activity%202%2C%20Sets.ipynb#ch0000019?line=9'>10</a>\u001b[0m         count \u001b[39m+\u001b[39m\u001b[39m=\u001b[39m \u001b[39m1\u001b[39m\n\u001b[1;32m     <a href='vscode-notebook-cell:/Users/ak/Desktop/harvard/w1d4/Activity%202%2C%20Sets.ipynb#ch0000019?line=10'>11</a>\u001b[0m     i \u001b[39m+\u001b[39m \u001b[39m1\u001b[39m\n",
      "\u001b[0;31mTypeError\u001b[0m: 'set' object is not subscriptable"
     ]
    }
   ],
   "source": [
    "input_set = {1, 2, 3, 6, 5, 4, 4, 2, 5, 1, 6, 5, 3, 2, 4, 1, 3, 6, 8, 4, 3, 1, 5, 6, 2}\n",
    "\n",
    "def if_repeated(original_set):\n",
    "    unique_set = set(original_set) #turn the given list into a set - print: 1,2,3,4,5,6,7,8\n",
    "    count = 0\n",
    "    i = 0\n",
    "\n",
    "    for item in original_set:\n",
    "        if unique_set[i] in original_set:\n",
    "            count += 1\n",
    "        i + 1\n",
    "        if count < 2:\n",
    "            print(f'The number {item} is unique')\n",
    "\n",
    "if_repeated(input_set)\n",
    "            "
   ]
  }
 ],
 "metadata": {
  "kernelspec": {
   "display_name": "Python 3",
   "language": "python",
   "name": "python3"
  },
  "language_info": {
   "codemirror_mode": {
    "name": "ipython",
    "version": 3
   },
   "file_extension": ".py",
   "mimetype": "text/x-python",
   "name": "python",
   "nbconvert_exporter": "python",
   "pygments_lexer": "ipython3",
   "version": "3.10.4"
  }
 },
 "nbformat": 4,
 "nbformat_minor": 2
}
