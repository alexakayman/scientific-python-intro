{
 "cells": [
  {
   "cell_type": "markdown",
   "metadata": {},
   "source": [
    "# Thursday, Week 1: Activity 1\n",
    "# Tuples\n",
    "\n",
    "__Learning Objective:__ \n",
    "1. practice declaring, modifying, and using tuples.\n",
    "\n",
    "Following: https://realpython.com/python-lists-tuples/"
   ]
  },
  {
   "cell_type": "code",
   "execution_count": 1,
   "metadata": {},
   "outputs": [],
   "source": [
    "# Tuples are defined with round parentheses \n",
    "t = ('GPUs', 'CPUs', 'supercomputers', 'threads', 'SSDs', 'RAM')"
   ]
  },
  {
   "cell_type": "code",
   "execution_count": 2,
   "metadata": {},
   "outputs": [],
   "source": [
    "# you can also define them using the tuple() function, which is similar to list() \n",
    "t = tuple( ['GPUs', 'CPUs', 'supercomputers', 'threads', 'SSDs', 'RAM'] )"
   ]
  },
  {
   "cell_type": "code",
   "execution_count": 3,
   "metadata": {},
   "outputs": [
    {
     "name": "stdout",
     "output_type": "stream",
     "text": [
      "('GPUs', 'CPUs', 'supercomputers', 'threads', 'SSDs', 'RAM')\n",
      "GPUs\n",
      "RAM\n",
      "('supercomputers', 'threads', 'SSDs')\n"
     ]
    }
   ],
   "source": [
    "# indexing and slicing works for tuples just like for lists \n",
    "\n",
    "print(t) \n",
    "print(t[0])\n",
    "print(t[-1])\n",
    "print(t[2:5])"
   ]
  },
  {
   "cell_type": "code",
   "execution_count": 4,
   "metadata": {},
   "outputs": [
    {
     "data": {
      "text/plain": [
       "('RAM', 'SSDs', 'threads', 'supercomputers', 'CPUs', 'GPUs')"
      ]
     },
     "execution_count": 4,
     "metadata": {},
     "output_type": "execute_result"
    }
   ],
   "source": [
    "# and you can reverse them just like lists, too\n",
    "t[::-1]"
   ]
  },
  {
   "cell_type": "code",
   "execution_count": 5,
   "metadata": {},
   "outputs": [
    {
     "data": {
      "text/plain": [
       "tuple"
      ]
     },
     "execution_count": 5,
     "metadata": {},
     "output_type": "execute_result"
    }
   ],
   "source": [
    "# one little subtlety you should be aware of\n",
    "# you can define an empty tuple, no problem:\n",
    "t = ()\n",
    "type(t)"
   ]
  },
  {
   "cell_type": "code",
   "execution_count": 6,
   "metadata": {},
   "outputs": [
    {
     "data": {
      "text/plain": [
       "tuple"
      ]
     },
     "execution_count": 6,
     "metadata": {},
     "output_type": "execute_result"
    }
   ],
   "source": [
    "# you can define a tuple with lots of stuff in it, not just two things:\n",
    "t = (1, 3, 'blah', 'hello')\n",
    "type(t)"
   ]
  },
  {
   "cell_type": "code",
   "execution_count": 7,
   "metadata": {},
   "outputs": [
    {
     "data": {
      "text/plain": [
       "int"
      ]
     },
     "execution_count": 7,
     "metadata": {},
     "output_type": "execute_result"
    }
   ],
   "source": [
    "# but if you try this, Python will interpret the parentheses not as part of a tuple, \n",
    "# but as simple math-parentheses indicating to perform all operations within them first before moving on:\n",
    "t = (1) \n",
    "type(t)"
   ]
  },
  {
   "cell_type": "code",
   "execution_count": 8,
   "metadata": {},
   "outputs": [
    {
     "data": {
      "text/plain": [
       "tuple"
      ]
     },
     "execution_count": 8,
     "metadata": {},
     "output_type": "execute_result"
    }
   ],
   "source": [
    "# so if you really want a tuple with just one number in it, you'll need to do this:\n",
    "t = (1,)\n",
    "type(t)"
   ]
  },
  {
   "cell_type": "code",
   "execution_count": 9,
   "metadata": {},
   "outputs": [],
   "source": [
    "# packing and unpacking tuples: \n",
    "t = (\"astrochemistry\", \"supercomputing\", \"medicine\")\n",
    "# the above line puts \"astrochemistry\" in t[0], \"supercomputing\" in t[1], etc. \n",
    "# this is called packing a tuple. You're packing t with some tuple entries. \n",
    "\n",
    "# you can also unpack tuples, like this:\n",
    "subject1, subject2, subject3 = t\n",
    "# when packing and unpacking, the order matters and is preserved!"
   ]
  },
  {
   "cell_type": "code",
   "execution_count": 10,
   "metadata": {},
   "outputs": [
    {
     "data": {
      "text/plain": [
       "'astrochemistry'"
      ]
     },
     "execution_count": 10,
     "metadata": {},
     "output_type": "execute_result"
    }
   ],
   "source": [
    "subject1"
   ]
  },
  {
   "cell_type": "code",
   "execution_count": 11,
   "metadata": {},
   "outputs": [
    {
     "data": {
      "text/plain": [
       "'supercomputing'"
      ]
     },
     "execution_count": 11,
     "metadata": {},
     "output_type": "execute_result"
    }
   ],
   "source": [
    "subject2"
   ]
  },
  {
   "cell_type": "code",
   "execution_count": null,
   "metadata": {},
   "outputs": [],
   "source": [
    "# the number of variables on the left hand side must match the number of entries in the tuple:\n",
    "print(len(t))\n",
    "\n",
    "subject1, subject2 = t"
   ]
  },
  {
   "cell_type": "code",
   "execution_count": null,
   "metadata": {},
   "outputs": [],
   "source": [
    "# thankfully the error that Python throws in this case is pretty descriptive \n",
    "# so you should be able to debug a mistake like this quickly."
   ]
  },
  {
   "cell_type": "code",
   "execution_count": null,
   "metadata": {},
   "outputs": [],
   "source": [
    "# tuples are immutable! (can't be changed) \n",
    "print(t)\n",
    "t[0] = 'something else'"
   ]
  },
  {
   "cell_type": "code",
   "execution_count": null,
   "metadata": {},
   "outputs": [],
   "source": [
    "# but, you can do a curious thing with them in the specific case of swapping values \n",
    "(a, b) = (\"tuple entry 1\", \"tuple entry 2\")\n",
    "print(a, b)"
   ]
  },
  {
   "cell_type": "code",
   "execution_count": null,
   "metadata": {},
   "outputs": [],
   "source": [
    "(a, b) = (b, a)\n",
    "print(a, b)"
   ]
  },
  {
   "cell_type": "code",
   "execution_count": null,
   "metadata": {},
   "outputs": [],
   "source": [
    "# what's that all about, didn't we just change the tuple (though it's supposed to be immutable)?\n",
    "# actually, no. We simply created a new tuple (b,a) and then overwrote the old tuple (a,b) with the new values. "
   ]
  },
  {
   "cell_type": "markdown",
   "metadata": {},
   "source": [
    "__Activity:__ Define a tuple of any length. Then print it out in reverse order. "
   ]
  },
  {
   "cell_type": "code",
   "execution_count": 13,
   "metadata": {},
   "outputs": [
    {
     "name": "stdout",
     "output_type": "stream",
     "text": [
      "(5, 4, 3, 2, 1)\n"
     ]
    }
   ],
   "source": [
    "to_five = (1, 2, 3, 4, 5)\n",
    "to_five_reverse = to_five[::-1]\n",
    "print(to_five_reverse)"
   ]
  },
  {
   "cell_type": "markdown",
   "metadata": {},
   "source": [
    "__Activity:__ Define a list of tuples, where the list has length N > 2 and the tuples each have a length of 3 entries. "
   ]
  },
  {
   "cell_type": "code",
   "execution_count": 44,
   "metadata": {},
   "outputs": [],
   "source": [
    "numbers = [(1, 2, 3), (4, 5, 6), (7, 8, 9)]\n",
    "letters = [('a', 'b', 'c'), ('d', 'e', 'f'), ('g', 'h', 'i')]"
   ]
  },
  {
   "cell_type": "markdown",
   "metadata": {},
   "source": [
    "__Activity:__ Now write a line of code that replaces the last entry in all N tuples with 42. Hint: recall that tuples are immutable, but you can create new tuples that are similar but not identical to previously defined ones.\n",
    "\n",
    "Example: if my list was [(1, 2), (3, -1)], my desired output is [(1, 42), (3, 42)] "
   ]
  },
  {
   "cell_type": "code",
   "execution_count": 45,
   "metadata": {},
   "outputs": [
    {
     "name": "stdout",
     "output_type": "stream",
     "text": [
      "[(1, 2, 42), (4, 5, 42), (7, 8, 42)]\n"
     ]
    },
    {
     "data": {
      "text/plain": [
       "'\\nfor i in range(len(example_tuple)):\\n    new_tuple = example_tuple[i][0], example_tuple[i][1], 42\\n    example_tuple[i] = new_tuple\\n'"
      ]
     },
     "execution_count": 45,
     "metadata": {},
     "output_type": "execute_result"
    }
   ],
   "source": [
    "forty_two = [(numbers[0][0], numbers[0][1], 42), (numbers[1][0], numbers[1][1], 42), (numbers[2][0], numbers[2][1], 42) ]\n",
    "print(forty_two)\n",
    "\n",
    "\"\"\"\n",
    "for i in range(len(example_tuple)):\n",
    "    new_tuple = example_tuple[i][0], example_tuple[i][1], 42\n",
    "    example_tuple[i] = new_tuple\n",
    "\"\"\""
   ]
  },
  {
   "cell_type": "markdown",
   "metadata": {},
   "source": [
    "__Activity:__ Define an arbitrary list. Write a program that converts it to a tuple. "
   ]
  },
  {
   "cell_type": "code",
   "execution_count": 29,
   "metadata": {},
   "outputs": [
    {
     "name": "stdout",
     "output_type": "stream",
     "text": [
      "[1, 2, 3, 4, 5]\n",
      "<class 'tuple'>\n"
     ]
    }
   ],
   "source": [
    "arbitrary_list = [1, 2, 3, 4, 5]\n",
    "\n",
    "arbitrary_tuple = tuple(arbitrary_list)\n",
    "\n",
    "print(arbitrary_list)"
   ]
  },
  {
   "cell_type": "markdown",
   "metadata": {},
   "source": [
    "__Activity__: write a function that takes a rest wavelength and an observed wavelength and calculates both the redshift and the velocity of the host galaxy that's emitting this light. The function should return both values. \n",
    "\n",
    "Test your function by calling it with two sample wavelengths from HW1 or HW2 and then unpacking the return values into variables you can print out. "
   ]
  },
  {
   "cell_type": "code",
   "execution_count": 14,
   "metadata": {},
   "outputs": [
    {
     "name": "stdout",
     "output_type": "stream",
     "text": [
      "((0.23422929237520568, 0.007022017529676357), (0.22832947191819122, 0.006845145362019652), (0.22082103568553796, 0.006620048106627314))\n",
      "<class 'tuple'>\n"
     ]
    }
   ],
   "source": [
    "def compute_redshift_and_velocity(lambda_obs, lambda_true):\n",
    "    z = (lambda_obs - lambda_true)/lambda_true\n",
    "    v = z * 0.0299792458 \n",
    "\n",
    "    return z, v\n",
    "\n",
    "# H Alpha has an at rest wavelength of 6562.8 Angstroms and, for a specific galaxy we are studying, an observed wavelength of 8100 Angstroms.\n",
    "h_alpha = compute_redshift_and_velocity(8100, 6562.8)\n",
    "\n",
    "# O III has an at rest wavelength of 5006.8 Angstroms and, for a specific galaxy we are studying, an observed wavelength of 6150 Angstroms.\n",
    "o_iii = compute_redshift_and_velocity(6150, 5006.8)\n",
    "\n",
    "# O II has an at rest wavelength of 3727 Angstroms and, for a specific galaxy we are studying, an observed wavelength of 4550 Angstroms.\n",
    "o_ii = compute_redshift_and_velocity(4550, 3727)\n",
    "\n",
    "computed_values = h_alpha, o_iii, o_ii\n",
    "print(computed_values)\n",
    "print(type(computed_values))"
   ]
  },
  {
   "cell_type": "markdown",
   "metadata": {},
   "source": [
    "__Activity:__ using the Python function all(), write a function that checks if all entries in a given tuple are the same. Test it with a couple of tuples to see if it works as expected."
   ]
  },
  {
   "cell_type": "code",
   "execution_count": 30,
   "metadata": {},
   "outputs": [
    {
     "name": "stdout",
     "output_type": "stream",
     "text": [
      "Both are the same\n"
     ]
    }
   ],
   "source": [
    "to_five_a = (1, 2, 3, 4, 5)  #True \n",
    "to_five_b = ('a', 'b', 'c', 'd', 'e') #True\n",
    "\n",
    "def same_check(a, b):\n",
    "    if (all(a) == all(b)):\n",
    "        print('Both are the same')\n",
    "    else:\n",
    "        print('Both are not the same')\n",
    "\n",
    "same_check(to_five_a, to_five_b)"
   ]
  },
  {
   "cell_type": "markdown",
   "metadata": {},
   "source": [
    "__Activity:__ write a function that checks if any entries in a given tuple are prime. You will need the is_prime() function from yesterday's Activity (and perhaps another built-in Python function). Test it with a couple of tuples to see if it works as expected."
   ]
  },
  {
   "cell_type": "code",
   "execution_count": 41,
   "metadata": {},
   "outputs": [
    {
     "name": "stdout",
     "output_type": "stream",
     "text": [
      "True\n"
     ]
    }
   ],
   "source": [
    "import sympy\n",
    "\n",
    "print(sympy.isprime(13))"
   ]
  }
 ],
 "metadata": {
  "kernelspec": {
   "display_name": "Python 3",
   "language": "python",
   "name": "python3"
  },
  "language_info": {
   "codemirror_mode": {
    "name": "ipython",
    "version": 3
   },
   "file_extension": ".py",
   "mimetype": "text/x-python",
   "name": "python",
   "nbconvert_exporter": "python",
   "pygments_lexer": "ipython3",
   "version": "3.10.4"
  }
 },
 "nbformat": 4,
 "nbformat_minor": 2
}
