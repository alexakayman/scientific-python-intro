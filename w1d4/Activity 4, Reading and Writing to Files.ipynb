{
 "cells": [
  {
   "cell_type": "markdown",
   "metadata": {},
   "source": [
    "# Thursday, Week 1: Module\n",
    "# Reading and Writing to Files\n",
    "\n",
    "__Learning Objective:__ practice opening, reading, manipulating, and writing to files. \n",
    "\n",
    "Following: https://www.pythonforbeginners.com/files/reading-and-writing-files-in-python"
   ]
  },
  {
   "cell_type": "markdown",
   "metadata": {},
   "source": [
    "Python knows how to open/read/write/close files; you don't need a special library to do this. \n",
    "The open() function opens a file. Nice and simple! \n",
    "\n",
    "open() returns a file object. File objects and files are not the same things! Files are actual files on your computer with data. File objects contain methods and attributes that can be used to tell you information and manipulate the file you just opened. \n",
    "\n",
    "For instance, the name attribute of a file object tells you the name of the file you just opened and stored in the file object. The mode attribute of a file object tells you in what mode the file was opened (more on this in the next cell)."
   ]
  },
  {
   "cell_type": "code",
   "execution_count": null,
   "metadata": {},
   "outputs": [],
   "source": [
    "# this cell does not contain code! don't run it. \n",
    "# just some general syntax for using open(). \n",
    "\n",
    "file_object  = open(“filename”, “mode”) #file_object is the variable where we're going to store the file object. \n",
    "#filename is the name of the file we're trying to open\n",
    "#mode can be a couple of different things and determines what we'll be able to do with the file. "
   ]
  },
  {
   "cell_type": "markdown",
   "metadata": {},
   "source": [
    "‘r’ – Read mode: only read the file (don't write/edit)\n",
    "\n",
    "‘w’ – Write mode: edit and write new information to the file (any existing files with the same name will be erased when this mode is used!) \n",
    "\n",
    "‘a’ – Append mode: add new data to the end of the file (without overwriting the entire file)\n",
    "\n",
    "‘r+’ – Special read and write mode: handle both actions when working with a file "
   ]
  },
  {
   "cell_type": "code",
   "execution_count": 2,
   "metadata": {},
   "outputs": [],
   "source": [
    "file = open('testfile.txt','w') \n",
    " \n",
    "file.write('Hello, world! ') \n",
    "file.write('We have just created this text file! ') \n",
    "file.write('Now we are adding a new line to it.\\n') \n",
    "file.write('And now we are adding another new line.\\n') \n",
    "file.write('12345.\\n') \n",
    "file.write('Okay, closing the file after this.') \n",
    "\n",
    " \n",
    "file.close() "
   ]
  },
  {
   "cell_type": "markdown",
   "metadata": {},
   "source": [
    "read() function can be used when a file was opened with 'r' mode. read(num) reads num characters of the file.\n",
    "\n",
    "read() reads the entire file all at once!"
   ]
  },
  {
   "cell_type": "code",
   "execution_count": 3,
   "metadata": {},
   "outputs": [
    {
     "name": "stdout",
     "output_type": "stream",
     "text": [
      "Hello, world! We have just created this text file! Now we are adding a new line to it.\n",
      "And now we are adding another new line.\n",
      "12345.\n",
      "Okay, closing the file after this.\n"
     ]
    }
   ],
   "source": [
    "file = open('testfile.txt', 'r') \n",
    "print(file.read() )\n",
    "file.close()"
   ]
  },
  {
   "cell_type": "code",
   "execution_count": 4,
   "metadata": {},
   "outputs": [
    {
     "name": "stdout",
     "output_type": "stream",
     "text": [
      "H\n"
     ]
    }
   ],
   "source": [
    "file = open('testfile.txt', 'r') \n",
    "print(file.read(1) )\n",
    "file.close()"
   ]
  },
  {
   "cell_type": "code",
   "execution_count": 5,
   "metadata": {},
   "outputs": [
    {
     "name": "stdout",
     "output_type": "stream",
     "text": [
      "Hello\n"
     ]
    }
   ],
   "source": [
    "file = open('testfile.txt', 'r') \n",
    "print(file.read(5) )\n",
    "file.close()"
   ]
  },
  {
   "cell_type": "markdown",
   "metadata": {},
   "source": [
    "You can also read a file one line at a time using the readline() and readlines() functions.\n",
    "\n",
    "readline() reads one line at a time and you can run it again and again to get the next line each time. It will return a string with a single line from the file. "
   ]
  },
  {
   "cell_type": "code",
   "execution_count": 6,
   "metadata": {},
   "outputs": [
    {
     "name": "stdout",
     "output_type": "stream",
     "text": [
      "Hello, world! We have just created this text file! Now we are adding a new line to it.\n",
      "\n"
     ]
    }
   ],
   "source": [
    "file = open('testfile.txt', 'r')\n",
    "print(file.readline())"
   ]
  },
  {
   "cell_type": "code",
   "execution_count": 7,
   "metadata": {},
   "outputs": [
    {
     "name": "stdout",
     "output_type": "stream",
     "text": [
      "And now we are adding another new line.\n",
      "\n"
     ]
    }
   ],
   "source": [
    "print(file.readline())"
   ]
  },
  {
   "cell_type": "code",
   "execution_count": 8,
   "metadata": {},
   "outputs": [
    {
     "name": "stdout",
     "output_type": "stream",
     "text": [
      "12345.\n",
      "\n"
     ]
    }
   ],
   "source": [
    "print(file.readline())"
   ]
  },
  {
   "cell_type": "code",
   "execution_count": 9,
   "metadata": {},
   "outputs": [
    {
     "name": "stdout",
     "output_type": "stream",
     "text": [
      "Okay, closing the file after this.\n"
     ]
    }
   ],
   "source": [
    "print(file.readline())"
   ]
  },
  {
   "cell_type": "code",
   "execution_count": 10,
   "metadata": {},
   "outputs": [
    {
     "name": "stdout",
     "output_type": "stream",
     "text": [
      "\n"
     ]
    }
   ],
   "source": [
    "print(file.readline())\n",
    "file.close()"
   ]
  },
  {
   "cell_type": "markdown",
   "metadata": {},
   "source": [
    "readlines() returns a list where each element is a line in the file represented as a string. That's great, because we are pros at working with lists! "
   ]
  },
  {
   "cell_type": "code",
   "execution_count": 13,
   "metadata": {},
   "outputs": [
    {
     "name": "stdout",
     "output_type": "stream",
     "text": [
      "here\n"
     ]
    }
   ],
   "source": [
    "if 'G' in ['G', 'A'] and 'C' in ['C', 'D']:\n",
    "    print('here')"
   ]
  },
  {
   "cell_type": "markdown",
   "metadata": {},
   "source": [
    "We could also go through all the lines in a file in the following way: "
   ]
  },
  {
   "cell_type": "code",
   "execution_count": null,
   "metadata": {},
   "outputs": [],
   "source": [
    "file = open('testfile.txt', 'r')\n",
    "\n",
    "for line in file:\n",
    "    print(line)\n",
    "\n",
    "file.close()    "
   ]
  },
  {
   "cell_type": "markdown",
   "metadata": {},
   "source": [
    "Writing to a file in 'w' mode will overwrite any existing files with the same name. "
   ]
  },
  {
   "cell_type": "code",
   "execution_count": null,
   "metadata": {},
   "outputs": [],
   "source": [
    "file = open('testfile.txt', 'w')\n",
    "\n",
    "file.write('This will overwrite the file!\\n') \n",
    "file.write('This will get added after the previous line.\\n')\n",
    "\n",
    "file.close()"
   ]
  },
  {
   "cell_type": "code",
   "execution_count": null,
   "metadata": {},
   "outputs": [],
   "source": [
    "file = open('testfile.txt', 'r')\n",
    "\n",
    "print(file.readlines())\n",
    "\n",
    "file.close()"
   ]
  },
  {
   "cell_type": "markdown",
   "metadata": {},
   "source": [
    "But writing to a file in the 'a' mode will just append to the end of the file. "
   ]
  },
  {
   "cell_type": "code",
   "execution_count": null,
   "metadata": {},
   "outputs": [],
   "source": [
    "file = open('testfile.txt', 'a')\n",
    "\n",
    "file.write('But this will get added to the bottom of the existing file..\\n') \n",
    "file.write('And so will this.')\n",
    "\n",
    "file.close()"
   ]
  },
  {
   "cell_type": "code",
   "execution_count": null,
   "metadata": {},
   "outputs": [],
   "source": [
    "file = open('testfile.txt', 'r')\n",
    "\n",
    "print(file.readlines())\n",
    "\n",
    "file.close()"
   ]
  },
  {
   "cell_type": "markdown",
   "metadata": {},
   "source": [
    "When a file is split into a list of lines, if there are any \\n characters, they will be part of the string:"
   ]
  },
  {
   "cell_type": "code",
   "execution_count": null,
   "metadata": {},
   "outputs": [],
   "source": [
    "file = open('testfile.txt', 'r')\n",
    "\n",
    "lines = file.readlines()\n",
    "\n",
    "for line in lines:\n",
    "    print([line])\n",
    "    \n",
    "file.close()    "
   ]
  },
  {
   "cell_type": "markdown",
   "metadata": {},
   "source": [
    "You can get rid of the \\n character by calling the function (actually, it's a method) strip() on a given line in the file. "
   ]
  },
  {
   "cell_type": "markdown",
   "metadata": {},
   "source": [
    "From documentation: https://www.programiz.com/python-programming/methods/string/strip\n",
    "\n",
    "The strip([ chars ]) method returns a copy of the string with both leading and trailing characters removed (based on the string argument passed).\n",
    "\n",
    "chars (optional) - a string specifying the set of characters to be removed.\n",
    "\n",
    "If the chars argument is not provided, all leading and trailing whitespaces are removed from the string."
   ]
  },
  {
   "cell_type": "code",
   "execution_count": null,
   "metadata": {},
   "outputs": [],
   "source": [
    "file = open('testfile.txt', 'r')\n",
    "\n",
    "lines = file.readlines()\n",
    "\n",
    "for line in lines:\n",
    "    print([line.strip('\\n')])\n",
    "    \n",
    "file.close()    "
   ]
  },
  {
   "cell_type": "markdown",
   "metadata": {},
   "source": [
    "This can get a little confusing... watch out for this:"
   ]
  },
  {
   "cell_type": "code",
   "execution_count": null,
   "metadata": {},
   "outputs": [],
   "source": [
    "file = open('testfile.txt', 'r')\n",
    "\n",
    "line = file.readline() \n",
    "\n",
    "print(line) #here the Python interpreter reads the string and prints it.\n",
    "#it recognizes the \\n character and prints a new line.\n",
    "#the \\n character is still part of the string line, though! \n",
    "\n",
    "print(line == 'This will overwrite the file!') #this will return False, even though print(line) looks like this\n",
    "print(line == 'This will overwrite the file!\\n') #this will return True.\n",
    "    \n",
    "#print([line])\n",
    "    \n",
    "    \n",
    "file.close()    "
   ]
  },
  {
   "cell_type": "markdown",
   "metadata": {},
   "source": [
    "The with statement is another way to open a file. It is nice because it automatically closes the file for you."
   ]
  },
  {
   "cell_type": "code",
   "execution_count": null,
   "metadata": {},
   "outputs": [],
   "source": [
    "file = open('testfile.txt', 'w')\n",
    "\n",
    "file.write('Captains log, Stardate Friday, July 31st, 2020.\\n')\n",
    "file.write('Working with real data today, as one often does in scientific research.\\n')\n",
    "file.write('Reading and writing to files is an important skill for any programmer.\\n')\n",
    "\n",
    "file.close()\n",
    "\n",
    "with open('testfile.txt') as file: \n",
    "    #any files opened will be closed automatically after you are done. \n",
    "    lines = file.readlines() \n",
    "    print(lines)\n",
    "    print()\n",
    "    print(lines[0])"
   ]
  },
  {
   "cell_type": "markdown",
   "metadata": {},
   "source": [
    "You can loop over the lines in a file like you normally would inside of the with statement."
   ]
  },
  {
   "cell_type": "code",
   "execution_count": null,
   "metadata": {},
   "outputs": [],
   "source": [
    "with open('testfile.txt') as file: \n",
    "    #any files opened will be closed automatically after you are done. \n",
    "    for line in file:\n",
    "        print(line)"
   ]
  },
  {
   "cell_type": "markdown",
   "metadata": {},
   "source": [
    "And you can use it to process and manipulate the data in the file. "
   ]
  },
  {
   "cell_type": "code",
   "execution_count": null,
   "metadata": {},
   "outputs": [],
   "source": [
    "with open('testfile.txt') as file: \n",
    "    #any files opened will be closed automatically after you are done. \n",
    "    for line in file:\n",
    "        print([line])\n",
    "        print([line.strip('\\n')])\n",
    "        print([line.split()])\n",
    "        print('\\n')"
   ]
  },
  {
   "cell_type": "markdown",
   "metadata": {},
   "source": [
    "What happens if you want to work with multiple files, as you would if you wanted to analyze lots of patient medical histories and genome sequences?"
   ]
  },
  {
   "cell_type": "code",
   "execution_count": null,
   "metadata": {},
   "outputs": [],
   "source": [
    "file = open('log1.txt', 'w')\n",
    "file.write('This is log 1.\\n')\n",
    "file.write('This is the second line of log 1.\\n')\n",
    "file.close()\n",
    "\n",
    "\n",
    "file = open('log2.txt', 'w')\n",
    "file.write('This is log 2.\\n')\n",
    "file.write('This is the second line of log 2.\\n')\n",
    "file.close()\n",
    "\n",
    "\n",
    "file = open('log3.txt', 'w')\n",
    "file.write('This is log 3.\\n')\n",
    "file.write('This is the second line of log 3.\\n')\n",
    "file.close()"
   ]
  },
  {
   "cell_type": "markdown",
   "metadata": {},
   "source": [
    "Computers can only open files if you tell them where they are. Heretofore the computer has been assuming, since we didn't get it any special instructions, that the files we're creating and destroying are in the same folder as this jupyter notebook. That's fine for practicing, but if you want to work with LOTS of file, it can be convenient to keep them in separate folders. \n",
    "\n",
    "The address of a folder is called a path.\n",
    "\n",
    "You can import the os module to get your current path (and do lots of other things, too...)"
   ]
  },
  {
   "cell_type": "code",
   "execution_count": null,
   "metadata": {},
   "outputs": [],
   "source": [
    "import os\n",
    "path_to_files = os.getcwd()\n",
    "print(path_to_files)"
   ]
  },
  {
   "cell_type": "markdown",
   "metadata": {},
   "source": [
    "If you want to load a lot of files, one way to do this is to use the glob module. \n",
    "\n",
    "If you ask a computer to look for a file at /path/to/file/folder/filename.txt, it will open one file.\n",
    "\n",
    "This is redundant if you'd like to open files that have similar names: you don't want to type each filename by hand!\n",
    "\n",
    "Instead of writing pseudocode likethis:\n",
    "\n",
    "open /path/to/file/folder/log1.txt\n",
    "open /path/to/file/folder/log2.txt\n",
    "open /path/to/file/folder/log3.txt\n",
    "\n",
    "You can tell the computer to look for all files with filenames matching a pattern. For this, we can use the star (`*`) character.\n",
    "\n",
    "`/path/to/file/folder/log*`\n",
    "\n",
    "Here, the `*` says go to /path/to/file/folder/ and find for me all files that start with the word log, then have something else in their file name (can be anything, and this can be different for each file).\n",
    "\n",
    "This will find the files log1.txt, log2.txt, log3.txt because they all start with log.\n",
    "\n",
    "Suppose you had log1.txt, log2.txt, log3.txt but also log4.png, and you only wanted the .txt files. You could find just the txt files by typing `/path/to/file/folder/log*.txt`\n",
    "\n",
    "Similarly, you could find all the .txt files by asking for `*.txt`"
   ]
  },
  {
   "cell_type": "code",
   "execution_count": null,
   "metadata": {},
   "outputs": [],
   "source": [
    "import glob\n",
    "\n",
    "file_list = glob.glob(path_to_files + '/log*')\n",
    "print(file_list)\n",
    "\n",
    "print()\n",
    "\n",
    "for filename in file_list:\n",
    "    print(filename)"
   ]
  },
  {
   "cell_type": "code",
   "execution_count": null,
   "metadata": {},
   "outputs": [],
   "source": [
    "for filename in file_list:\n",
    "    file  = open(filename, 'r')\n",
    "    print(file.readline())\n",
    "    file.close()"
   ]
  },
  {
   "cell_type": "code",
   "execution_count": null,
   "metadata": {},
   "outputs": [],
   "source": [
    "for filename in file_list:\n",
    "    print(\"Opening \", filename)\n",
    "    file  = open(filename, 'r')\n",
    "    print(\"Reading \", filename, \"\\n\")\n",
    "\n",
    "    for l in file:\n",
    "        print(l)\n",
    "        \n",
    "    file.close()\n",
    "    print(\"Closing \", filename, \"\\n\")"
   ]
  },
  {
   "cell_type": "markdown",
   "metadata": {},
   "source": [
    "## Activities:"
   ]
  },
  {
   "cell_type": "markdown",
   "metadata": {},
   "source": [
    "__Task:__ Create multiple files with similar names, i.e. log1.dat, log2.dat, log3.dat, etc. Write a few lines of information to each of them. This can be whatever you like."
   ]
  },
  {
   "cell_type": "code",
   "execution_count": null,
   "metadata": {},
   "outputs": [],
   "source": []
  },
  {
   "cell_type": "markdown",
   "metadata": {},
   "source": [
    "__Task:__ Go into your computer documents and by hand, create a new folder for the files you just created inside of the Classroom Activities folder. Move all the files you created into this new folder.  \n",
    "\n",
    "In other words, if before your files were in the same folder as this jupyter notebook, I'd like you to please create a new folder where the notebook is and move all the files in there. \n",
    "\n",
    "Before:\n",
    "- /some/folder/this_notebook.ipynb\n",
    "- /some/folder/log1.dat\n",
    "- /some/folder/log2.dat\n",
    "\n",
    "After:\n",
    "- /some/folder/this_notebook.ipynb\n",
    "- /some/folder/new_folder/log1.dat\n",
    "- /some/folder/new_folder/log2.dat"
   ]
  },
  {
   "cell_type": "markdown",
   "metadata": {},
   "source": [
    "__Task:__ Now write a few lines of code that:\n",
    "1. correctly sets the path to the folder containing the files\n",
    "2. opens all of the files contained therein (open them in in append mode) one by one using the * notation for pattern matching in a file name\n",
    "3. for each file, reads in each line and prints it out. \n",
    "4. appends a new line to each file saying \"This file was successfully opened and edited\\n\" \n",
    "5. don't forget to close each file when you are done! "
   ]
  },
  {
   "cell_type": "code",
   "execution_count": null,
   "metadata": {},
   "outputs": [],
   "source": []
  }
 ],
 "metadata": {
  "kernelspec": {
   "display_name": "Python 3",
   "language": "python",
   "name": "python3"
  },
  "language_info": {
   "codemirror_mode": {
    "name": "ipython",
    "version": 3
   },
   "file_extension": ".py",
   "mimetype": "text/x-python",
   "name": "python",
   "nbconvert_exporter": "python",
   "pygments_lexer": "ipython3",
   "version": "3.8.5"
  }
 },
 "nbformat": 4,
 "nbformat_minor": 2
}
