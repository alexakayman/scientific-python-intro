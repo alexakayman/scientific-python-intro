{
 "cells": [
  {
   "cell_type": "markdown",
   "metadata": {},
   "source": [
    "# Thursday, Week 1: Homework 4\n",
    "# High-Performance Scientific Computing\n",
    "\n",
    "__Learning objective:__ \n",
    "1. work with lists, strings, sets, and slices. \n",
    "2. Practice algorithmic thinking by designing a program that loops over a group of lists to identify a common slice present in all of them.   \n",
    "\n",
    "__Task:__ As discussed in last night's homework, supercomputers are many individual computers (aka nodes) linked together so they can communicate and run big jobs in parallel, spread out over the nodes. The current fastest U.S. supercomputer for scientific computing is named Summit and has 4608 nodes. Not all jobs use the whole computer and you can submit job requests that use some fraction of the total system. The queue manager allocates free nodes to run your job; each node has a unique identifying label. \n",
    "\n",
    "Supercomputers age just like people do and sometimes begin to intermittently malfunction as they get older. Your research team is on a tight schedule to complete a suite of scientific simulations, but you've noticed that a small (but growing) fraction of your jobs crash for no apparent reason. It's late in the computing allocation cycle and the computer has been getting a lot of use lately. You wonder if the jobs that crashed have anything in common and decide to investigate... \n",
    "\n",
    "After digging around for a long time, you have the idea to look at the nodes assigned to all of your jobs. Do your crashed jobs have any compute nodes in common? In other words, what if there are a few individual nodes within Summit that are getting a little finicky and causing jobs that run on them to crash? \n",
    "\n",
    "Node names start with a single letter, followed by four numbers (e.g. g325). The list of nodes allocated to a job is returned to you as a list of single character strings, e.g. ['a', '5', '5', '3', 'g', '3', '2', '5'] means the job was run on nodes a553 and g325.\n",
    "\n",
    "To find out if your crashed jobs have any nodes in common, code a function called find_shared_pattern() that takes several lists as inputs and returns a list of all slices of length 4 that are common to all the input lists. Assume that the lists have at least one common slice.\n"
   ]
  },
  {
   "cell_type": "code",
   "execution_count": 159,
   "metadata": {},
   "outputs": [],
   "source": [
    "#test lists (crashed jobs' node names)\n",
    "a = ['h', '1', '1', '1', 'a', '5', '5', '4', 'g', '2', '3', '1']\n",
    "b = ['g', '2', '3', '1', 'a', '5', '5', '3', 'a', '5', '5', '4', 'a', '5', '5', '1', 'h', '1', '1', '1']\n",
    "c = ['a', '5', '5', '3', 'h', '1', '1', '1', 'g', '0', '1', '5', 'g', '2', '3', '1']\n",
    "d = ['g', '2', '3', '1', 'g', '1', '0', '5', 'h', '1', '1', '1']\n",
    "#The two node names common to all four of these crashed jobs are h111 and g231. Our code should find them.\n",
    "\n",
    "test_lists = list(map(lambda l: ''.join(l), test_lists)) #turning lists into 4 strings in one list (looked up how to use lambda amd map from: https://developer.mozilla.org/en-US/docs/Glossary/Python)\n",
    "\n",
    "\n",
    "i = 0"
   ]
  },
  {
   "cell_type": "code",
   "execution_count": 164,
   "metadata": {},
   "outputs": [
    {
     "name": "stdout",
     "output_type": "stream",
     "text": [
      "The shared nodes are ['h111', 'g231']\n"
     ]
    }
   ],
   "source": [
    "LEN = 4 #you know that the signal you're looking for is 4 characters long (one letter, three numbers)\n",
    "\n",
    "shared_list = []\n",
    "\n",
    "def find_shared_pattern():\n",
    "    \n",
    "    for node in range(0, len(test_lists[0])): #going through 1st string (< 4) \n",
    "        common_node = test_lists[0][node: node + LEN] #selecting from node (0 to 4) - can result in 3 characters \n",
    "        if len(common_node) < LEN: \n",
    "            break #ignore any strings that are under 4 chars\n",
    "\n",
    "        if all(common_node in l for l in test_lists): #taking all of thr strings, applying substring (if it's in l) - only returns true if all are true\n",
    "            shared_list.append(common_node)\n",
    "    print('The shared nodes are ' + str(shared_list))\n",
    "\n",
    "find_shared_pattern()\n",
    "\n",
    "# CLASS SOLUTION\n",
    "\n",
    "# def find_shared_pattern_b(test_lists):\n",
    "#     shared_list = []\n",
    "\n",
    "#     i = 0\n",
    "#     while i < len(test_lists[0]):\n",
    "#         candidate = ''.join(test_lists[0][i+i+LEN])\n",
    "\n",
    "#         common = True\n",
    "#       for l in range(l, len(test_lists)):\n",
    "#         if candidate not in ''.join(test_lists[1]):\n",
    "#             common = Falsebreak\n",
    "#         if common:\n",
    "#             shared_patterns:append(candidate)\n",
    "#         i = i + LEN\n",
    "#     return shared_patterns\n"
   ]
  },
  {
   "cell_type": "markdown",
   "metadata": {},
   "source": [
    "__Challenge:__ The quicksort algorithm is a classic exercise in developing algorithmic thinking assigned in most introductory college-level Python classes. A description of quicksort can be found at https://www.khanacademy.org/computing/computer-science/algorithms/quick-sort/a/overview-of-quicksort. Implement it! \n",
    "\n",
    "As always, it's absolutely trivial to find an implementation online. Don't. That would completely defeat the point of going through the exercise yourself. \n",
    "\n",
    "This is absolutely the most challenging optional problem we have assigned so far, so don't be discouraged if you find it hard. That's good! Keep at it, let us know if you have questions. "
   ]
  },
  {
   "cell_type": "code",
   "execution_count": null,
   "metadata": {},
   "outputs": [],
   "source": [
    "def quicksort(...):\n",
    "    #TODO implement me! "
   ]
  },
  {
   "cell_type": "markdown",
   "metadata": {},
   "source": [
    "__Feedback__: How long did this assignment take you? On a scale of 1 (simple) to 5 (difficult), how did it go? "
   ]
  },
  {
   "cell_type": "code",
   "execution_count": null,
   "metadata": {},
   "outputs": [],
   "source": [
    "3 hours"
   ]
  },
  {
   "cell_type": "code",
   "execution_count": null,
   "metadata": {},
   "outputs": [],
   "source": [
    "4"
   ]
  },
  {
   "cell_type": "markdown",
   "metadata": {},
   "source": [
    "__Feedback__: How comfortable do you feel with the topics covered in this assignment? Are there any topics you would like to review together as a class? "
   ]
  },
  {
   "cell_type": "markdown",
   "metadata": {},
   "source": [
    "\n",
    "No specific topics in mind but i'd love to go over a different way to do it using the functions we were given in class. "
   ]
  }
 ],
 "metadata": {
  "kernelspec": {
   "display_name": "Python 3",
   "language": "python",
   "name": "python3"
  },
  "language_info": {
   "codemirror_mode": {
    "name": "ipython",
    "version": 3
   },
   "file_extension": ".py",
   "mimetype": "text/x-python",
   "name": "python",
   "nbconvert_exporter": "python",
   "pygments_lexer": "ipython3",
   "version": "3.8.5"
  }
 },
 "nbformat": 4,
 "nbformat_minor": 2
}
