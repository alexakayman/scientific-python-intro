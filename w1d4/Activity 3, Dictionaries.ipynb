{
 "cells": [
  {
   "cell_type": "markdown",
   "metadata": {},
   "source": [
    "# Thursday, Week 1: Activity 3\n",
    "# Dictionaries: \n",
    "\n",
    "__Learning Objective:__ \n",
    "1. practice declaring, modifying, and using dictionaries.\n",
    "\n",
    "Following https://realpython.com/python-dicts/."
   ]
  },
  {
   "cell_type": "code",
   "execution_count": null,
   "metadata": {},
   "outputs": [],
   "source": [
    "# The general syntax for a dictionary looks like this \n",
    "d = {\n",
    "    <key>: <value>,\n",
    "    <key>: <value>,\n",
    "      .\n",
    "      .\n",
    "      .\n",
    "    <key>: <value>\n",
    "}\n",
    "# this cell won't run, it's just an example. "
   ]
  },
  {
   "cell_type": "code",
   "execution_count": 2,
   "metadata": {},
   "outputs": [],
   "source": [
    "# An example dictionary \n",
    "NBA_teams = {\n",
    "    \"Oklahoma City\": \"Oklahoma City Thunder\",\n",
    "    \"New York\": \"New York Knicks\",\n",
    "    \"Brooklyn\": \"Brooklyn Nets\",\n",
    "    \"Salt Lake City\": \"Utah Jazz\"\n",
    "}"
   ]
  },
  {
   "cell_type": "code",
   "execution_count": 3,
   "metadata": {},
   "outputs": [
    {
     "data": {
      "text/plain": [
       "{'Oklahoma City': 'Oklahoma City Thunder',\n",
       " 'New York': 'New York Knicks',\n",
       " 'Brooklyn': 'Brooklyn Nets',\n",
       " 'Salt Lake City': 'Utah Jazz'}"
      ]
     },
     "execution_count": 3,
     "metadata": {},
     "output_type": "execute_result"
    }
   ],
   "source": [
    "NBA_teams"
   ]
  },
  {
   "cell_type": "code",
   "execution_count": 4,
   "metadata": {},
   "outputs": [
    {
     "data": {
      "text/plain": [
       "'Oklahoma City Thunder'"
      ]
     },
     "execution_count": 4,
     "metadata": {},
     "output_type": "execute_result"
    }
   ],
   "source": [
    "# You can look up values in a dictionary using their keys\n",
    "\n",
    "NBA_teams['Oklahoma City'] # here, Oklahoma City is the key and Oklahoma City Thunder is the entry. "
   ]
  },
  {
   "cell_type": "code",
   "execution_count": 5,
   "metadata": {},
   "outputs": [
    {
     "ename": "KeyError",
     "evalue": "'San Francisco'",
     "output_type": "error",
     "traceback": [
      "\u001b[0;31m---------------------------------------------------------------------------\u001b[0m",
      "\u001b[0;31mKeyError\u001b[0m                                  Traceback (most recent call last)",
      "\u001b[1;32m/Users/ak/Desktop/harvard/w1d4/Activity 3, Dictionaries.ipynb Cell 6'\u001b[0m in \u001b[0;36m<cell line: 2>\u001b[0;34m()\u001b[0m\n\u001b[1;32m      <a href='vscode-notebook-cell:/Users/ak/Desktop/harvard/w1d4/Activity%203%2C%20Dictionaries.ipynb#ch0000005?line=0'>1</a>\u001b[0m \u001b[39m# if you try to look up a key that doesn't exist, Python will hiss at you. \u001b[39;00m\n\u001b[0;32m----> <a href='vscode-notebook-cell:/Users/ak/Desktop/harvard/w1d4/Activity%203%2C%20Dictionaries.ipynb#ch0000005?line=1'>2</a>\u001b[0m NBA_teams[\u001b[39m'\u001b[39;49m\u001b[39mSan Francisco\u001b[39;49m\u001b[39m'\u001b[39;49m]\n",
      "\u001b[0;31mKeyError\u001b[0m: 'San Francisco'"
     ]
    }
   ],
   "source": [
    "# if you try to look up a key that doesn't exist, Python will hiss at you. \n",
    "NBA_teams['San Francisco']"
   ]
  },
  {
   "cell_type": "code",
   "execution_count": 6,
   "metadata": {},
   "outputs": [],
   "source": [
    "# but thankfully you can add to your dictionary:\n",
    "NBA_teams['San Francisco'] = 'Golden State Warriors'"
   ]
  },
  {
   "cell_type": "code",
   "execution_count": 7,
   "metadata": {},
   "outputs": [
    {
     "data": {
      "text/plain": [
       "'Golden State Warriors'"
      ]
     },
     "execution_count": 7,
     "metadata": {},
     "output_type": "execute_result"
    }
   ],
   "source": [
    "NBA_teams['San Francisco']"
   ]
  },
  {
   "cell_type": "code",
   "execution_count": 8,
   "metadata": {},
   "outputs": [
    {
     "data": {
      "text/plain": [
       "{'Oklahoma City': 'Oklahoma City Thunder',\n",
       " 'New York': 'New York Knicks',\n",
       " 'Brooklyn': 'Brooklyn Nets',\n",
       " 'Salt Lake City': 'Utah Jazz',\n",
       " 'San Francisco': 'Golden State Warriors'}"
      ]
     },
     "execution_count": 8,
     "metadata": {},
     "output_type": "execute_result"
    }
   ],
   "source": [
    "NBA_teams"
   ]
  },
  {
   "cell_type": "code",
   "execution_count": 9,
   "metadata": {},
   "outputs": [
    {
     "data": {
      "text/plain": [
       "{'Oklahoma City': 'Oklahoma City Thunder',\n",
       " 'New York': 'New York Knicks',\n",
       " 'Brooklyn': 'Brooklyn Nets',\n",
       " 'Salt Lake City': 'Utah Jazz'}"
      ]
     },
     "execution_count": 9,
     "metadata": {},
     "output_type": "execute_result"
    }
   ],
   "source": [
    "# You can also delete entries using del. \n",
    "del NBA_teams['San Francisco']\n",
    "NBA_teams"
   ]
  },
  {
   "cell_type": "code",
   "execution_count": 10,
   "metadata": {},
   "outputs": [
    {
     "data": {
      "text/plain": [
       "'one'"
      ]
     },
     "execution_count": 10,
     "metadata": {},
     "output_type": "execute_result"
    }
   ],
   "source": [
    "# Integers can be used as dictionary keys, but be careful: there are important differences between \n",
    "# dictionaries and lists: \n",
    "\n",
    "int_dict = {1: 'one', 2: 'two', 4: 'four'}\n",
    "int_dict[1] # here, it looks like I'm indexing but actually, 1 is the key, not the index. "
   ]
  },
  {
   "cell_type": "code",
   "execution_count": 11,
   "metadata": {},
   "outputs": [
    {
     "ename": "TypeError",
     "evalue": "unhashable type: 'slice'",
     "output_type": "error",
     "traceback": [
      "\u001b[0;31m---------------------------------------------------------------------------\u001b[0m",
      "\u001b[0;31mTypeError\u001b[0m                                 Traceback (most recent call last)",
      "\u001b[1;32m/Users/ak/Desktop/harvard/w1d4/Activity 3, Dictionaries.ipynb Cell 12'\u001b[0m in \u001b[0;36m<cell line: 1>\u001b[0;34m()\u001b[0m\n\u001b[0;32m----> <a href='vscode-notebook-cell:/Users/ak/Desktop/harvard/w1d4/Activity%203%2C%20Dictionaries.ipynb#ch0000011?line=0'>1</a>\u001b[0m int_dict[\u001b[39m1\u001b[39;49m:\u001b[39m2\u001b[39;49m]\n",
      "\u001b[0;31mTypeError\u001b[0m: unhashable type: 'slice'"
     ]
    }
   ],
   "source": [
    "int_dict[1:2] # slices don't work because dictionaries are unordered. "
   ]
  },
  {
   "cell_type": "code",
   "execution_count": null,
   "metadata": {},
   "outputs": [],
   "source": [
    "int_dict[-1] # neither does indexing that would work for lists. Here, -1 is not a key, so this fails. "
   ]
  },
  {
   "cell_type": "code",
   "execution_count": 12,
   "metadata": {},
   "outputs": [],
   "source": [
    "# All keys in a dictionary must be unique! \n",
    "NBA_teams = {\n",
    "    \"Oklahoma City\": \"Oklahoma City Thunder\",\n",
    "    \"Oklahoma City\": \"some other Oklahoma team\", # this will override the first OKC entry! \n",
    "    \"New York\": \"New York Knicks\",\n",
    "    \"Brooklyn\": \"Brooklyn Nets\",\n",
    "    \"Salt Lake City\": \"Utah Jazz\"\n",
    "}"
   ]
  },
  {
   "cell_type": "code",
   "execution_count": null,
   "metadata": {},
   "outputs": [],
   "source": [
    "NBA_teams"
   ]
  },
  {
   "cell_type": "code",
   "execution_count": null,
   "metadata": {},
   "outputs": [],
   "source": [
    "# All keys in a dictionary must be immutable, so lists can't be keys: \n",
    "NBA_teams = {\n",
    "    [\"Oklahoma\", \"City\"]: \"Oklahoma City Thunder\", \n",
    "    \"New York\": \"New York Knicks\",\n",
    "    \"Brooklyn\": \"Brooklyn Nets\",\n",
    "    \"Salt Lake City\": \"Utah Jazz\"\n",
    "}"
   ]
  },
  {
   "cell_type": "code",
   "execution_count": 13,
   "metadata": {},
   "outputs": [
    {
     "data": {
      "text/plain": [
       "True"
      ]
     },
     "execution_count": 13,
     "metadata": {},
     "output_type": "execute_result"
    }
   ],
   "source": [
    "# but anything can be a dictionary value, mutable or not. Values can be repeated. \n",
    "d = {\n",
    "    0: 'a', \n",
    "    1: 'a', \n",
    "    2: 'a', \n",
    "    3: 'a'\n",
    "}\n",
    "d[0] == d[1] == d[2]"
   ]
  },
  {
   "cell_type": "code",
   "execution_count": 14,
   "metadata": {},
   "outputs": [],
   "source": [
    "# Let's take a look at some common operators and dictionary methods: \n",
    "NBA_teams = {\n",
    "    \"Oklahoma City\": \"Oklahoma City Thunder\",\n",
    "    \"New York\": \"New York Knicks\",\n",
    "    \"Brooklyn\": \"Brooklyn Nets\",\n",
    "    \"Salt Lake City\": \"Utah Jazz\"\n",
    "}"
   ]
  },
  {
   "cell_type": "code",
   "execution_count": 15,
   "metadata": {},
   "outputs": [
    {
     "data": {
      "text/plain": [
       "4"
      ]
     },
     "execution_count": 15,
     "metadata": {},
     "output_type": "execute_result"
    }
   ],
   "source": [
    "len(NBA_teams)"
   ]
  },
  {
   "cell_type": "code",
   "execution_count": 16,
   "metadata": {},
   "outputs": [
    {
     "data": {
      "text/plain": [
       "True"
      ]
     },
     "execution_count": 16,
     "metadata": {},
     "output_type": "execute_result"
    }
   ],
   "source": [
    "# the in operator checks if a key is in the dictionary \n",
    "\"New York\" in NBA_teams"
   ]
  },
  {
   "cell_type": "code",
   "execution_count": 17,
   "metadata": {},
   "outputs": [
    {
     "data": {
      "text/plain": [
       "False"
      ]
     },
     "execution_count": 17,
     "metadata": {},
     "output_type": "execute_result"
    }
   ],
   "source": [
    "\"San Francisco\" in NBA_teams"
   ]
  },
  {
   "cell_type": "code",
   "execution_count": 18,
   "metadata": {},
   "outputs": [
    {
     "data": {
      "text/plain": [
       "'Brooklyn Nets'"
      ]
     },
     "execution_count": 18,
     "metadata": {},
     "output_type": "execute_result"
    }
   ],
   "source": [
    "NBA_teams.get(\"Brooklyn\") # get looks up the value for the given key "
   ]
  },
  {
   "cell_type": "code",
   "execution_count": null,
   "metadata": {},
   "outputs": [],
   "source": [
    "NBA_teams.items() # returns all the key/value pairs in the dict "
   ]
  },
  {
   "cell_type": "code",
   "execution_count": 19,
   "metadata": {},
   "outputs": [
    {
     "data": {
      "text/plain": [
       "('Oklahoma City', 'Oklahoma City Thunder')"
      ]
     },
     "execution_count": 19,
     "metadata": {},
     "output_type": "execute_result"
    }
   ],
   "source": [
    "list(NBA_teams.items())[0] # you can convert this to a list and then index into it "
   ]
  },
  {
   "cell_type": "code",
   "execution_count": 20,
   "metadata": {},
   "outputs": [
    {
     "data": {
      "text/plain": [
       "'Oklahoma City'"
      ]
     },
     "execution_count": 20,
     "metadata": {},
     "output_type": "execute_result"
    }
   ],
   "source": [
    "list(NBA_teams.items())[0][0] "
   ]
  },
  {
   "cell_type": "code",
   "execution_count": null,
   "metadata": {},
   "outputs": [],
   "source": [
    "NBA_teams.keys() #returns all the keys; can also be converted to a list with list()"
   ]
  },
  {
   "cell_type": "code",
   "execution_count": null,
   "metadata": {},
   "outputs": [],
   "source": [
    "NBA_teams.values() #similar as keys()"
   ]
  },
  {
   "cell_type": "code",
   "execution_count": null,
   "metadata": {},
   "outputs": [],
   "source": [
    "# and it goes on. Look up the dictionary methods pop(), popitem(), clear(), and update() as needed!"
   ]
  },
  {
   "cell_type": "markdown",
   "metadata": {},
   "source": [
    "__Activity:__ Define a dictionary of the student names and ages in your breakout room. The student names should be the keys; the ages the values. "
   ]
  },
  {
   "cell_type": "code",
   "execution_count": 47,
   "metadata": {},
   "outputs": [
    {
     "name": "stdout",
     "output_type": "stream",
     "text": [
      "{'Artem': 19, 'Sonny': 22, 'Sam': 22, 'Allan': 22, 'Alexa': 16, 'Kelvin': 21, 'Fiona': 20}\n"
     ]
    }
   ],
   "source": [
    "student_dict  = {\n",
    "    'Artem':19,\n",
    "    'Sonny':22,\n",
    "    'Sam':22,\n",
    "    'Allan':22,\n",
    "    'Alexa':16,\n",
    "    'Kelvin':21,\n",
    "    'Fiona':20,\n",
    "}\n",
    "\n",
    "print(student_dict)"
   ]
  },
  {
   "cell_type": "markdown",
   "metadata": {},
   "source": [
    "__Activity:__ Write a program that prints out the youngest student's name, using your dictionary."
   ]
  },
  {
   "cell_type": "code",
   "execution_count": 46,
   "metadata": {},
   "outputs": [
    {
     "name": "stdout",
     "output_type": "stream",
     "text": [
      "dict_items([('Artem', 19), ('Sonny', 22), ('Sam', 22), ('Allan', 22), ('Alexa', 16), ('Kelvin', 21), ('Fiona', 20)])\n"
     ]
    },
    {
     "ename": "TypeError",
     "evalue": "'dict_items' object is not subscriptable",
     "output_type": "error",
     "traceback": [
      "\u001b[0;31m---------------------------------------------------------------------------\u001b[0m",
      "\u001b[0;31mTypeError\u001b[0m                                 Traceback (most recent call last)",
      "\u001b[1;32m/Users/ak/Desktop/harvard/w1d4/Activity 3, Dictionaries.ipynb Cell 32'\u001b[0m in \u001b[0;36m<cell line: 11>\u001b[0;34m()\u001b[0m\n\u001b[1;32m      <a href='vscode-notebook-cell:/Users/ak/Desktop/harvard/w1d4/Activity%203%2C%20Dictionaries.ipynb#ch0000031?line=6'>7</a>\u001b[0m         sorted_age\u001b[39m.\u001b[39mappend(age_list[i][\u001b[39m1\u001b[39m])\n\u001b[1;32m      <a href='vscode-notebook-cell:/Users/ak/Desktop/harvard/w1d4/Activity%203%2C%20Dictionaries.ipynb#ch0000031?line=8'>9</a>\u001b[0m     \u001b[39mprint\u001b[39m(sorted_age)\n\u001b[0;32m---> <a href='vscode-notebook-cell:/Users/ak/Desktop/harvard/w1d4/Activity%203%2C%20Dictionaries.ipynb#ch0000031?line=10'>11</a>\u001b[0m youngest_find(bloom_team)\n",
      "\u001b[1;32m/Users/ak/Desktop/harvard/w1d4/Activity 3, Dictionaries.ipynb Cell 32'\u001b[0m in \u001b[0;36myoungest_find\u001b[0;34m(dict_input)\u001b[0m\n\u001b[1;32m      <a href='vscode-notebook-cell:/Users/ak/Desktop/harvard/w1d4/Activity%203%2C%20Dictionaries.ipynb#ch0000031?line=3'>4</a>\u001b[0m \u001b[39mprint\u001b[39m(age_list)\n\u001b[1;32m      <a href='vscode-notebook-cell:/Users/ak/Desktop/harvard/w1d4/Activity%203%2C%20Dictionaries.ipynb#ch0000031?line=5'>6</a>\u001b[0m \u001b[39mfor\u001b[39;00m i \u001b[39min\u001b[39;00m \u001b[39mrange\u001b[39m(\u001b[39m0\u001b[39m, \u001b[39mlen\u001b[39m(age_list)):\n\u001b[0;32m----> <a href='vscode-notebook-cell:/Users/ak/Desktop/harvard/w1d4/Activity%203%2C%20Dictionaries.ipynb#ch0000031?line=6'>7</a>\u001b[0m     sorted_age\u001b[39m.\u001b[39mappend(age_list[i][\u001b[39m1\u001b[39m])\n\u001b[1;32m      <a href='vscode-notebook-cell:/Users/ak/Desktop/harvard/w1d4/Activity%203%2C%20Dictionaries.ipynb#ch0000031?line=8'>9</a>\u001b[0m \u001b[39mprint\u001b[39m(sorted_age)\n",
      "\u001b[0;31mTypeError\u001b[0m: 'dict_items' object is not subscriptable"
     ]
    }
   ],
   "source": [
    "student_dict.values()\n",
    "\n",
    "# def youngest_find(dict_input):\n",
    "#     age_list = dict_input.items()\n",
    "#     sorted_age = []\n",
    "#     print(age_list)\n",
    "\n",
    "#     for i in range(0, len(age_list)):\n",
    "#         sorted_age.append(age_list[i][1])\n",
    "    \n",
    "#     print(sorted_age)\n",
    "\n",
    "# youngest_find(bloom_team)"
   ]
  },
  {
   "cell_type": "markdown",
   "metadata": {},
   "source": [
    "__Activity:__ Now write a function that takes your dictionary as input and returns a list of student names in alphabetical order. "
   ]
  },
  {
   "cell_type": "code",
   "execution_count": 52,
   "metadata": {},
   "outputs": [
    {
     "data": {
      "text/plain": [
       "['Alexa', 'Allan', 'Artem', 'Fiona', 'Kelvin', 'Sam', 'Sonny']"
      ]
     },
     "execution_count": 52,
     "metadata": {},
     "output_type": "execute_result"
    }
   ],
   "source": [
    "def alphabetical_sort(dictionary):\n",
    "    key_list = dictionary.keys()\n",
    "    sorted_keys = sorted(key_list)\n",
    "\n",
    "    return sorted_keys\n",
    "alphabetical_sort(student_dict)\n",
    "    "
   ]
  },
  {
   "cell_type": "code",
   "execution_count": null,
   "metadata": {},
   "outputs": [],
   "source": []
  }
 ],
 "metadata": {
  "kernelspec": {
   "display_name": "Python 3",
   "language": "python",
   "name": "python3"
  },
  "language_info": {
   "codemirror_mode": {
    "name": "ipython",
    "version": 3
   },
   "file_extension": ".py",
   "mimetype": "text/x-python",
   "name": "python",
   "nbconvert_exporter": "python",
   "pygments_lexer": "ipython3",
   "version": "3.10.4"
  }
 },
 "nbformat": 4,
 "nbformat_minor": 2
}
