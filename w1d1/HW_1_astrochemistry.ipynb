{
 "cells": [
  {
   "cell_type": "markdown",
   "metadata": {},
   "source": [
    "# Monday, Week 1: HW 1\n",
    "# Astrochemistry I\n",
    "\n",
    "__Learning objective:__ \n",
    "1. write a Python formula that uses variables and performs a calculation. \n",
    "2. convert your formula into a function that takes input parameters and returns a result. \n",
    "2. practice brainstorming validation techniques for your code, using your scientific intuition to formulate guiding questions.\n",
    "\n",
    "__Task:__ Light, like water, behaves both as a particle and as a wave. That is, light is comprised of individual particles called photons (analogous to drops of water). Their collective behavior is wave-like. Waves can be described by several characteristics, including their 'wavelength', which is the distance from crest to adjacent crest. \n",
    "\n",
    "Sound also behaves like a wave. You may have noticed that a siren sounds different when an ambulance is coming towards you versus when it's driving away. That's because the motion of the ambulance relative to you causes the waves to either bunch up closer together (as it moves toward you), or to spread out as it drives away. This is called the Doppler effect. When it happens to light, it's also called red- and blue-shift. \n",
    "\n",
    "The more a lightwave is scrunched together or pulled apart due to the motion of the object emitting the light towards the observer, the greater the difference will be between its true wavelength and the wavelength the observer sees. In other words, the faster an ambulance drives, the more noticeable the Doppler effect will be.\n",
    "\n",
    "Astrochemists rely on the fact that lots of common sources of light have known, true wavelengths that we can measure on Earth. They can therefore compare true and observed light wavelengths to determine the redshift and velocity of galaxies emitting light. \n",
    "\n",
    "Calculate the redshift and velocity of a host galaxy by comparing the observed wavelength of a spectral emission line with its true wavelength.\n",
    "\n",
    "__You will need:__\n",
    "\n",
    "1. the formula for the relationship between redshift, true (or rest) wavelength, and observed wavelength: \n",
    "\n",
    "$$z = \\frac{\\lambda_{\\textrm{obs}} - \\lambda_{\\textrm{true}}}{\\lambda_{\\textrm{true}}}$$\n",
    "   \n",
    "\n",
    "2. the formula for the relationship between redshift and the velocity of a galaxy (assuming small redshift): \n",
    "$$ v = c z $$\n",
    "\n",
    "3. the known and observed wavelengths of three spectral emission lines: \n",
    "\n",
    "$H_{\\alpha}$ has an at rest wavelength of 6562.8 Angstroms and, for a specific galaxy we are studying, an observed wavelength of 8100 Angstroms.\n",
    "\n",
    "$O$ III has an at rest wavelength of 5006.8 Angstroms and, for a specific galaxy we are studying, an observed wavelength of 6150 Angstroms.\n",
    "\n",
    "$O$ II has an at rest wavelength of 3727 Angstroms and, for a specific galaxy we are studying, an observed wavelength of 4550 Angstroms.\n",
    "\n",
    "Look up the value of $c$ - the speed of light - online. \n",
    "\n",
    "Be careful with your units as you do your calculations below! An Angstrom is $10^{-10}$ meters."
   ]
  },
  {
   "cell_type": "code",
   "execution_count": 3,
   "metadata": {},
   "outputs": [],
   "source": [
    "# H_alpha\n",
    "lambda_obs  = 8100\n",
    "lambda_true = 6562.8\n",
    "\n",
    "z = 0.2342292924 #(8100 - 6562.8) / 6562.8\n",
    "#speed of light = 299792458 meters/second -> 0.0299792458 Angstroms \n",
    "v = 0.00702201753 #0.0299792458z * 0.2342292924c"
   ]
  },
  {
   "cell_type": "markdown",
   "metadata": {},
   "source": [
    "__Convert to a function__: The above approach would get repetitive if you had to copy-paste your code for all the emission lines you'd like to analyze. Convert the formulae you've written to two functions: 1) one that takes, as input, the observed and true wavelengths of an emission line and returns the redshift, and 2) a second that takes as input an object's redshift and returns the object's velocity in KM/SEC.  \n",
    "\n",
    "Be careful with units!"
   ]
  },
  {
   "cell_type": "code",
   "execution_count": 20,
   "metadata": {},
   "outputs": [
    {
     "name": "stdout",
     "output_type": "stream",
     "text": [
      "The redshift of the galaxy is is 0.23422929237520568 Angstroms.\n"
     ]
    }
   ],
   "source": [
    "# write a function called compute_redshift()\n",
    "# that takes as input the observed wavelength\n",
    "# and the rest wavelength, and returns the galaxy redshift \n",
    "\n",
    "# TODO: fill in\n",
    "\n",
    "def compute_redshift(lamda_obs, lamdba_true):\n",
    "    z = (lambda_obs - lambda_true)/lambda_true\n",
    "\n",
    "    return 'The redshift of the galaxy is is ' + str(z) + ' Angstroms.'\n",
    "\n",
    "print(compute_redshift(8100, 6562.8)); # rip I keep doing console.log"
   ]
  },
  {
   "cell_type": "code",
   "execution_count": 10,
   "metadata": {},
   "outputs": [
    {
     "name": "stdout",
     "output_type": "stream",
     "text": [
      "The velocity of the object is is 0.007022017530419672 km/sec.\n"
     ]
    }
   ],
   "source": [
    "# write a function called compute_velocity()\n",
    "# that takes as input the galaxy redshift\n",
    "# and returns the galaxy's velocity relative to the observer (in KILOMETRES / SECOND!)\n",
    "\n",
    "# TODO: fill in\n",
    "\n",
    "def compute_velocity(z):\n",
    "    v = z * 0.0299792458\n",
    "    \n",
    "    return 'The velocity of the object is is ' + str(v) + ' km/sec.'\n",
    "\n",
    "print(compute_velocity(z)); "
   ]
  },
  {
   "cell_type": "code",
   "execution_count": 17,
   "metadata": {},
   "outputs": [
    {
     "name": "stdout",
     "output_type": "stream",
     "text": [
      "The redshift of the H Alpha galaxy is 0.23422929237520568 Angstroms and the velocity is 0.007022017529676357 km/sec.\n",
      "The redshift of the O III galaxy is 0.22832947191819122 Angstroms and the velocity is 0.006845145362019652 km/sec.\n",
      "The redshift of the O II galaxy is 0.22082103568553796 Angstroms and the velocity is 0.006620048106627314 km/sec.\n"
     ]
    }
   ],
   "source": [
    "# TODO use your two functions to compute the redshift and velocity for all three emission lines listed above! \n",
    "\n",
    "def compute_redshift_and_velocity(name, lambda_obs, lambda_true):\n",
    "    z = (lambda_obs - lambda_true)/lambda_true\n",
    "    v = z * 0.0299792458 \n",
    "\n",
    "    return f'The redshift of the {name} galaxy is {z} Angstroms and the velocity is {v} km/sec.'\n",
    "\n",
    "# H Alpha has an at rest wavelength of 6562.8 Angstroms and, for a specific galaxy we are studying, an observed wavelength of 8100 Angstroms.\n",
    "print(compute_redshift_and_velocity('H Alpha', 8100, 6562.8))\n",
    "# O III has an at rest wavelength of 5006.8 Angstroms and, for a specific galaxy we are studying, an observed wavelength of 6150 Angstroms.\n",
    "print(compute_redshift_and_velocity('O III', 6150, 5006.8))\n",
    "# O II has an at rest wavelength of 3727 Angstroms and, for a specific galaxy we are studying, an observed wavelength of 4550 Angstroms.\n",
    "print(compute_redshift_and_velocity('O II', 4550, 3727))"
   ]
  },
  {
   "cell_type": "markdown",
   "metadata": {},
   "source": [
    "__Validation__: Once you've got the above written, you'll need to make sure your code runs (which may require some debugging) and that it gets the right answer. \n",
    "\n",
    "1. Can you work out by hand what the answer should be for a given set of inputs using the formulae above, and then compare your code's result to your pen-and-paper calculation? \n",
    "\n",
    "2. Based on your physical understanding of the problem, does your answer make sense? Write a few sentences to describe the intuition for why your answer is sound. \n",
    "\n",
    "3. If the observed wavelength is shorter than the rest wavelength, should the velocity of the galaxy relative to the observer be positive or negative? Describe what this means physically using the ambulance siren as an analogy. "
   ]
  },
  {
   "cell_type": "markdown",
   "metadata": {},
   "source": [
    "### Responses\n",
    "1. The results are the same.\n",
    "2. The answers make sense since the program follows the same math equation that's used when doing the problem by hand.\n",
    "3. As the siren mvoes further away, the wavelengths have further to travel so the noise will sound different. If the observsed wavelength is shorter than the rest wavelength, the velocity of the wavelength will be negative. If the velocity is negative the siren is moving closer and closer to the observer. "
   ]
  },
  {
   "cell_type": "markdown",
   "metadata": {},
   "source": [
    "__Feedback__: How long did this assignment take you? On a scale of 1 (simple) to 5 (difficult), how did it go? "
   ]
  },
  {
   "cell_type": "markdown",
   "metadata": {},
   "source": [
    "How long it took: ~1hr"
   ]
  },
  {
   "cell_type": "markdown",
   "metadata": {},
   "source": [
    "Scale: 2"
   ]
  },
  {
   "cell_type": "markdown",
   "metadata": {},
   "source": [
    "__Feedback__: How comfortable do you feel with the topics covered in this assignment? Are there any topics you would like to review tomorrow together as a class? "
   ]
  },
  {
   "cell_type": "markdown",
   "metadata": {},
   "source": [
    "Feeling comfortable with the topics. I'm more confused with the science concepts that are used to evalute the data.  "
   ]
  }
 ],
 "metadata": {
  "kernelspec": {
   "display_name": "Python 3",
   "language": "python",
   "name": "python3"
  },
  "language_info": {
   "codemirror_mode": {
    "name": "ipython",
    "version": 3
   },
   "file_extension": ".py",
   "mimetype": "text/x-python",
   "name": "python",
   "nbconvert_exporter": "python",
   "pygments_lexer": "ipython3",
   "version": "3.10.4"
  }
 },
 "nbformat": 4,
 "nbformat_minor": 2
}
