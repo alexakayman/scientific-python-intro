{
 "cells": [
  {
   "cell_type": "markdown",
   "metadata": {},
   "source": [
    "# Monday, Week 1: Activity 1\n",
    "# Practicing Functions\n",
    "\n",
    "__Learning Objective:__ practice defining Python functions to peform calculations on inputs and return outputs. \n",
    "\n",
    "\n",
    "# Please work through the exercises below as a group. Please ask for help if you run into any difficulties."
   ]
  },
  {
   "cell_type": "markdown",
   "metadata": {},
   "source": [
    "Functions are a code block that is executed when called. Here, we call simple_function(), which prints out a message. This function has no inputs, and no return values."
   ]
  },
  {
   "cell_type": "code",
   "execution_count": null,
   "metadata": {},
   "outputs": [],
   "source": [
    "def simple_function():\n",
    "  print(\"Hello, I am a function!\")"
   ]
  },
  {
   "cell_type": "code",
   "execution_count": null,
   "metadata": {},
   "outputs": [],
   "source": [
    "simple_function()"
   ]
  },
  {
   "cell_type": "markdown",
   "metadata": {},
   "source": [
    "They can take inputs and do something with them."
   ]
  },
  {
   "cell_type": "code",
   "execution_count": null,
   "metadata": {},
   "outputs": [],
   "source": [
    "def print_sport(type_of_sport):\n",
    "  print(type_of_sport + \"ball\")\n",
    "\n",
    "print_sport(\"base\")\n",
    "print_sport(\"basket\")\n",
    "print_sport(\"foot\")"
   ]
  },
  {
   "cell_type": "markdown",
   "metadata": {},
   "source": [
    "They can also have default arguments."
   ]
  },
  {
   "cell_type": "code",
   "execution_count": null,
   "metadata": {},
   "outputs": [],
   "source": [
    "def print_origin(country = \"Argentina\"):\n",
    "  print(\"I am from \" + country)\n",
    "\n",
    "print_origin(\"Sweden\")\n",
    "print_origin(\"India\")\n",
    "print_origin()\n",
    "print_origin(\"Brazil\")"
   ]
  },
  {
   "cell_type": "markdown",
   "metadata": {},
   "source": [
    "Functions can take lists as inputs. "
   ]
  },
  {
   "cell_type": "code",
   "execution_count": null,
   "metadata": {},
   "outputs": [],
   "source": [
    "def function_that_loops(iterable):\n",
    "  for x in iterable:\n",
    "    print(x)\n",
    "\n",
    "primes = [1, 3, 5, 7, 11]\n",
    "\n",
    "function_that_loops(primes)"
   ]
  },
  {
   "cell_type": "markdown",
   "metadata": {},
   "source": [
    "Functions can return values that can then be stored in variables: "
   ]
  },
  {
   "cell_type": "code",
   "execution_count": null,
   "metadata": {},
   "outputs": [],
   "source": [
    "def mult_by_five(x):\n",
    "  return 5 * x\n",
    "\n",
    "print(mult_by_five(3))\n",
    "print(mult_by_five(5))\n",
    "print(mult_by_five(9))\n",
    "\n",
    "answer = mult_by_five(9)\n",
    "\n",
    "print(\"answer = \", answer)"
   ]
  },
  {
   "cell_type": "code",
   "execution_count": null,
   "metadata": {},
   "outputs": [],
   "source": [
    "def is_even( x ): \n",
    "    if (x % 2 == 0): \n",
    "        return True\n",
    "    else: \n",
    "        return False\n",
    "    \n",
    "    \n",
    "print(is_even(3))\n",
    "print(is_even(2))"
   ]
  },
  {
   "cell_type": "markdown",
   "metadata": {},
   "source": [
    "You can replace the body of the function above with one line."
   ]
  },
  {
   "cell_type": "code",
   "execution_count": null,
   "metadata": {},
   "outputs": [],
   "source": [
    "def is_even( x ): \n",
    "    return (x % 2 == 0)\n",
    "    \n",
    "print(is_even(3))\n",
    "print(is_even(2))"
   ]
  },
  {
   "cell_type": "code",
   "execution_count": null,
   "metadata": {},
   "outputs": [],
   "source": [
    "def is_even( x ): \n",
    "    return not x % 2 \n",
    "    \n",
    "print(is_even(3))\n",
    "print(is_even(2))"
   ]
  },
  {
   "cell_type": "code",
   "execution_count": null,
   "metadata": {},
   "outputs": [],
   "source": [
    "def recursive_function(k):\n",
    "    print(\"entering recursive function with k =\", k)\n",
    "    if(k>0):\n",
    "        result = k + recursive_function(k-1)\n",
    "    else:\n",
    "        result = 0\n",
    "    return result\n",
    "\n",
    "print(\"\\n\\nRecursion Example Results\")\n",
    "recursive_function(6)\n"
   ]
  },
  {
   "cell_type": "markdown",
   "metadata": {},
   "source": [
    "Predict the output of the following function: "
   ]
  },
  {
   "cell_type": "code",
   "execution_count": null,
   "metadata": {},
   "outputs": [],
   "source": [
    "def mystery_func(x, y): \n",
    "    temp = x; \n",
    "    x = y; \n",
    "    y = temp; \n",
    "    \n",
    "    return x, y\n",
    "      \n",
    "# Driver code \n",
    "x = 2\n",
    "y = 3\n",
    "x, y = mystery_func(x, y)"
   ]
  },
  {
   "cell_type": "markdown",
   "metadata": {},
   "source": [
    "Now check your answer:"
   ]
  },
  {
   "cell_type": "code",
   "execution_count": null,
   "metadata": {},
   "outputs": [],
   "source": [
    "x"
   ]
  },
  {
   "cell_type": "code",
   "execution_count": null,
   "metadata": {},
   "outputs": [],
   "source": [
    "y"
   ]
  },
  {
   "cell_type": "markdown",
   "metadata": {},
   "source": [
    "Function calls can have keyword arguments so you don't have to remember the order of the parameters. "
   ]
  },
  {
   "cell_type": "code",
   "execution_count": null,
   "metadata": {},
   "outputs": [],
   "source": [
    "def student(firstname, lastname):  \n",
    "     print(firstname, lastname)  \n",
    "    \n",
    "    \n",
    "# Keyword arguments                   \n",
    "student(firstname ='Bobby', lastname ='Darrin')     \n",
    "student(lastname ='Darrin', firstname ='Bobby')  "
   ]
  },
  {
   "cell_type": "markdown",
   "metadata": {},
   "source": [
    "Lambdas are pretty unique to Python! They are little inline functions that don't take up a lot of room and are sometimes convenient. For instance, here's a lambda that computes the cube of x. "
   ]
  },
  {
   "cell_type": "code",
   "execution_count": null,
   "metadata": {},
   "outputs": [],
   "source": [
    "cube = lambda x: x*x*x  \n",
    "print(cube(2))  \n",
    "\n",
    "\n",
    "#the above lambda is equivalent to\n",
    "def cube_x(x):\n",
    "    return x*x*x\n",
    "\n",
    "print(cube_x(2))"
   ]
  },
  {
   "cell_type": "markdown",
   "metadata": {},
   "source": [
    "You can see now that print() is a function! It takes as inputs some things you'd like to print out and performs an action that displays them on the screen. So is math.sqrt(), which takes as input the number you'd like to take the square root of, and returns as its answer the square root of that number. "
   ]
  },
  {
   "cell_type": "code",
   "execution_count": null,
   "metadata": {},
   "outputs": [],
   "source": []
  },
  {
   "cell_type": "markdown",
   "metadata": {},
   "source": [
    "## Activity: "
   ]
  },
  {
   "cell_type": "markdown",
   "metadata": {},
   "source": [
    "You have just turned 18 years old and you have some savings you've decided to invest. Suppose that your investment strategy is guaranteed to give an 8 percent interest rate every year. Another way of stating that is your interest rate R = 0.08. If you start with P dollars, the amount A you will have after t years is equal to \n",
    "\n",
    "$$A = P e^\\left(Rt\\right) $$"
   ]
  },
  {
   "cell_type": "markdown",
   "metadata": {},
   "source": [
    "Write a function that takes as input your starting investment P (how much money you have saved right now) and the number of years you're willing to wait before you withdraw it. The function should return how much you will have available after t years (assuming, of course, that you never make any more investments to this mutual fund again! Hopefully not a realistic assumption!)\n",
    "\n",
    "Hint: Euler's number \"e\" can be found in the math library as math.exp(). So if you'd like to, say, calculate e^2, you would type math.exp(2). \n"
   ]
  },
  {
   "cell_type": "code",
   "execution_count": 5,
   "metadata": {},
   "outputs": [
    {
     "name": "stdout",
     "output_type": "stream",
     "text": [
      "6940.7851838755205\n"
     ]
    }
   ],
   "source": [
    "import math\n",
    "\n",
    "def investment_calculator(P, t): \n",
    "    A = P * math.exp(t*0.08)\n",
    "    return A"
   ]
  },
  {
   "cell_type": "markdown",
   "metadata": {},
   "source": [
    "Suppose you'd like to invest $100, and withdraw it when you're 75. How much less money would you have if you wait until you're 22 to invest, as opposed to investing when you're 18?"
   ]
  },
  {
   "cell_type": "code",
   "execution_count": 14,
   "metadata": {},
   "outputs": [
    {
     "name": "stdout",
     "output_type": "stream",
     "text": [
      "6940.7851838755205\n",
      "9558.347983006632\n",
      "The difference is $2617.562799131111\n"
     ]
    }
   ],
   "source": [
    "print(investment_calculator(100, 53)) #start at 22\n",
    "\n",
    "print(investment_calculator(100, 57)) #start at 18\n",
    "\n",
    "print('The difference is $' + str(investment_calculator(100, 57) - investment_calculator(100,53)))"
   ]
  },
  {
   "cell_type": "markdown",
   "metadata": {},
   "source": [
    "**Functions can take other functions as inputs:**"
   ]
  },
  {
   "cell_type": "code",
   "execution_count": null,
   "metadata": {},
   "outputs": [],
   "source": [
    "def evaluate_func_at_2(f): #f is an input and can be a function\n",
    "    print(f(2))\n",
    "\n",
    "def x2(x):\n",
    "    return x**2\n",
    "\n",
    "def x3(x):\n",
    "    return x**3\n",
    "\n",
    "evaluate_func_at_2(x2) # evaluate x**2 with x = 2\n",
    "\n",
    "evaluate_func_at_2(x3) # evaluate x**3 with x = 2"
   ]
  },
  {
   "cell_type": "markdown",
   "metadata": {},
   "source": [
    "## Activity: "
   ]
  },
  {
   "cell_type": "markdown",
   "metadata": {},
   "source": [
    "The formula for the numerical approximation of a first derivative f'(x) of a function f(x) evaluated at x = a is given by: \n",
    "\n",
    "$$ f'(a) = \\frac{f(a+h) - f(a-h)}{2h}$$\n",
    "\n",
    "where h is the finite difference interval over which you're approximating the derivative. It's a small number. \n",
    "\n",
    "Implement this formula in a function derivative() that takes as inputs the function f you'd like to differentiate, the value a at which you'd like to evaluate the derivative, and the size of h, and returns the value f'(a). \n",
    "\n",
    "Test it by writing several functions that you can supply as input to derivative(). \n",
    "\n",
    "For example, the derivative of x^2 at a = 0 should be 0. The derivative of x^2 at a = 1 should be 2. "
   ]
  },
  {
   "cell_type": "code",
   "execution_count": 16,
   "metadata": {},
   "outputs": [
    {
     "name": "stdout",
     "output_type": "stream",
     "text": [
      "3.999999999999937\n"
     ]
    }
   ],
   "source": [
    "def derivative(f, a, h):\n",
    "    function = (f(a + h) - f(a - h))/(2 * h)\n",
    "    return function\n",
    "    \n",
    "def x_squared(x):\n",
    "    return x*x\n",
    "\n",
    "print(derivative(x_squared, 2, 0.01)) "
   ]
  }
 ],
 "metadata": {
  "kernelspec": {
   "display_name": "Python 3",
   "language": "python",
   "name": "python3"
  },
  "language_info": {
   "codemirror_mode": {
    "name": "ipython",
    "version": 3
   },
   "file_extension": ".py",
   "mimetype": "text/x-python",
   "name": "python",
   "nbconvert_exporter": "python",
   "pygments_lexer": "ipython3",
   "version": "3.10.4"
  }
 },
 "nbformat": 4,
 "nbformat_minor": 2
}
