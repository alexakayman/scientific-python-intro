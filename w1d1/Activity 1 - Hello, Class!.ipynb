{
 "cells": [
  {
   "cell_type": "markdown",
   "metadata": {},
   "source": [
    "# Week 1, Monday: Activity 1\n",
    "# Hello, Class! \n",
    "\n",
    "__Learning objective:__ In this activity, we will:\n",
    "1. run our first Jupyter notebooks. \n",
    "2. practice assigning values to variables and using print statements. \n",
    "3. introduce ourselves \n",
    "4. start getting to know our classmates\n",
    "5. familiarize ourselves with how to access, work through, and submit classwork and homework \n",
    "\n",
    "__Task:__ Follow along with the instructor's directions. Note: if this were homework, the reading assignment would be listed here. "
   ]
  },
  {
   "cell_type": "code",
   "execution_count": null,
   "metadata": {},
   "outputs": [],
   "source": [
    "#This is a comment."
   ]
  },
  {
   "cell_type": "code",
   "execution_count": 1,
   "metadata": {},
   "outputs": [
    {
     "name": "stdout",
     "output_type": "stream",
     "text": [
      "Welcome to Intro to Scientific Programming in Python! What is your name?\n"
     ]
    }
   ],
   "source": [
    "#TODO run this cell by pressing shift + enter\n",
    "print(\"Welcome to Intro to Scientific Programming in Python! What is your name?\")"
   ]
  },
  {
   "cell_type": "code",
   "execution_count": 3,
   "metadata": {},
   "outputs": [],
   "source": [
    "name = 'Alexa'"
   ]
  },
  {
   "cell_type": "code",
   "execution_count": 4,
   "metadata": {},
   "outputs": [
    {
     "name": "stdout",
     "output_type": "stream",
     "text": [
      "Hello, Alexa!\n"
     ]
    }
   ],
   "source": [
    "print(\"Hello, \" + name + \"!\") #TODO run this cell. "
   ]
  },
  {
   "cell_type": "markdown",
   "metadata": {},
   "source": [
    "Now, introduce yourself to your partner. Take turns answering the following questions and recording your partner's answers below."
   ]
  },
  {
   "cell_type": "markdown",
   "metadata": {},
   "source": [
    "1. What is your name? \n",
    "2. Where are you from? \n",
    "3. What is something that you're really excited about? \n",
    "4. What are you hoping to get from these next two weeks? \n",
    "5. What's your favorite book?\n",
    "6. What is one thing you and your partner have in common?"
   ]
  },
  {
   "cell_type": "code",
   "execution_count": 1,
   "metadata": {},
   "outputs": [],
   "source": [
    "#TODO fill in your partner's answers here, each one surrounded by single quotation marks. Then run this cell. \n",
    "partners_name = 'Penelope'\n",
    "partner_is_from = 'Connecticut'\n",
    "partner_excited_about = 'Being here for a month'\n",
    "partner_is_hoping_for = 'Newport trip'\n",
    "partner_fav_book = 'Darkest Minds'"
   ]
  },
  {
   "cell_type": "code",
   "execution_count": 2,
   "metadata": {},
   "outputs": [
    {
     "name": "stdout",
     "output_type": "stream",
     "text": [
      "Greetings Penelope! It's super cool that you're from Connecticut because I am from NYC. Maybe I'll read Darkest Minds sometime.\n"
     ]
    }
   ],
   "source": [
    "print(f'Greetings {partners_name}! It\\'s super cool that you\\'re from {partner_is_from} because I am from NYC. Maybe I\\'ll read {partner_fav_book} sometime.')\n",
    "\n",
    "# f interpolation from MDN reference "
   ]
  },
  {
   "cell_type": "markdown",
   "metadata": {},
   "source": [
    "When you're finished, we will now go around the room and introduce our partners! "
   ]
  },
  {
   "cell_type": "markdown",
   "metadata": {},
   "source": [
    "All homeworks will ask you for your feedback. Let's practice inputting plain text to Jupyter notebooks: "
   ]
  },
  {
   "cell_type": "markdown",
   "metadata": {},
   "source": [
    "__Feedback__: On a scale of 1 (simple) to 5 (difficult), how did this activity go? "
   ]
  },
  {
   "cell_type": "markdown",
   "metadata": {},
   "source": [
    "1 but fun!"
   ]
  }
 ],
 "metadata": {
  "kernelspec": {
   "display_name": "Python 3",
   "language": "python",
   "name": "python3"
  },
  "language_info": {
   "codemirror_mode": {
    "name": "ipython",
    "version": 3
   },
   "file_extension": ".py",
   "mimetype": "text/x-python",
   "name": "python",
   "nbconvert_exporter": "python",
   "pygments_lexer": "ipython3",
   "version": "3.10.4"
  }
 },
 "nbformat": 4,
 "nbformat_minor": 2
}
