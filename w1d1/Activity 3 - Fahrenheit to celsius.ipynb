{
 "cells": [
  {
   "cell_type": "markdown",
   "metadata": {},
   "source": [
    "# Week 1, Monday: Activity 3\n",
    "# Fahrenheit  -  Celsius\n",
    "\n",
    "__Learning objective:__ In this activity, we will:\n",
    "1. write a formula to compute a physical value. \n",
    "2. practice awareness of the program's/notebook's overall state\n",
    "3. practice validating our code.\n",
    "\n",
    "Borrowed heavily from https://www.pythonforbeginners.com/code-snippets-source-code/python-code-celsius-and-fahrenheit-converter/. "
   ]
  },
  {
   "cell_type": "code",
   "execution_count": 8,
   "metadata": {},
   "outputs": [
    {
     "data": {
      "text/plain": [
       "26.666666666666668"
      ]
     },
     "execution_count": 8,
     "metadata": {},
     "output_type": "execute_result"
    }
   ],
   "source": [
    "(80 - 32) * 5.0/9.0"
   ]
  },
  {
   "cell_type": "code",
   "execution_count": 9,
   "metadata": {},
   "outputs": [],
   "source": [
    "Fahrenheit = 451"
   ]
  },
  {
   "cell_type": "code",
   "execution_count": 10,
   "metadata": {},
   "outputs": [],
   "source": [
    "Celsius = (Fahrenheit - 32) * 5.0/9.0"
   ]
  },
  {
   "cell_type": "code",
   "execution_count": 11,
   "metadata": {},
   "outputs": [
    {
     "name": "stdout",
     "output_type": "stream",
     "text": [
      "Temperature:\n",
      " 451  Fahrenheit =  232.77777777777777  Celsius\n"
     ]
    }
   ],
   "source": [
    "print(\"Temperature:\\n\", Fahrenheit, \" Fahrenheit = \", Celsius, \" Celsius\")"
   ]
  },
  {
   "cell_type": "code",
   "execution_count": 12,
   "metadata": {},
   "outputs": [],
   "source": [
    "Fahrenheit = 88"
   ]
  },
  {
   "cell_type": "code",
   "execution_count": 13,
   "metadata": {},
   "outputs": [
    {
     "name": "stdout",
     "output_type": "stream",
     "text": [
      "Temperature: \n",
      " 88  Fahrenheit =  232.77777777777777  Celsius\n"
     ]
    }
   ],
   "source": [
    "print(\"Temperature: \\n\", Fahrenheit, \" Fahrenheit = \", Celsius, \" Celsius\")"
   ]
  },
  {
   "cell_type": "code",
   "execution_count": 14,
   "metadata": {},
   "outputs": [],
   "source": [
    "Celsius = (Fahrenheit - 32) * 5.0/9.0"
   ]
  },
  {
   "cell_type": "code",
   "execution_count": 15,
   "metadata": {},
   "outputs": [
    {
     "name": "stdout",
     "output_type": "stream",
     "text": [
      "Temperature: \n",
      " 88  Fahrenheit =  31.11111111111111  Celsius\n"
     ]
    }
   ],
   "source": [
    "print(\"Temperature: \\n\", Fahrenheit, \" Fahrenheit = \", Celsius, \" Celsius\")"
   ]
  },
  {
   "cell_type": "markdown",
   "metadata": {},
   "source": [
    "Using the formula for Fahrenheit-to-Celsius conversion above, derive the formula to convert from Celsius to Fahrenheit.\n",
    "\n",
    "Code it!\n",
    "\n",
    "For each of the following, write a print statement to print out your answers:\n",
    "\n",
    "What is 0 C in Fahrenheit? Is this what you expect?\n",
    "\n",
    "What is 100 C in Fahrenheit? Is this what you expect? \n",
    "\n",
    "What is 20 C in Fahrenheit? "
   ]
  },
  {
   "cell_type": "code",
   "execution_count": 16,
   "metadata": {},
   "outputs": [
    {
     "name": "stdout",
     "output_type": "stream",
     "text": [
      "0.0 C is 32.0 degrees in Fahrenheit.\n",
      "100.0 C is 212.0 degrees in Fahrenheit.\n",
      "20.0 C is 68.0 degrees in Fahrenheit.\n"
     ]
    }
   ],
   "source": [
    "def celsius_to_fahrenheit(celsius):\n",
    "    fahrenheit = (celsius / (5.0/9.0) + 32)\n",
    "    print(f'{celsius} C is {fahrenheit} degrees in Fahrenheit.')\n",
    "\n",
    "celsius_to_fahrenheit(0.0)\n",
    "celsius_to_fahrenheit(100.0)\n",
    "celsius_to_fahrenheit(20.0)\n"
   ]
  }
 ],
 "metadata": {
  "kernelspec": {
   "display_name": "Python 3",
   "language": "python",
   "name": "python3"
  },
  "language_info": {
   "codemirror_mode": {
    "name": "ipython",
    "version": 3
   },
   "file_extension": ".py",
   "mimetype": "text/x-python",
   "name": "python",
   "nbconvert_exporter": "python",
   "pygments_lexer": "ipython3",
   "version": "3.10.4"
  }
 },
 "nbformat": 4,
 "nbformat_minor": 2
}
