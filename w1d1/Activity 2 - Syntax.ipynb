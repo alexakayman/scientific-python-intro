{
 "cells": [
  {
   "cell_type": "markdown",
   "metadata": {},
   "source": [
    "# Week 1, Monday: Activity 2\n",
    "# Welcome to Python. Syntax, style, Jupyter.\n",
    "\n",
    "__Learning objective:__ In this activity, we will:\n",
    "1. learn and practice Python syntax.\n",
    "2. review elements of good programming style. \n",
    "3. familiarize ourselves further with Jupyter notebooks. "
   ]
  },
  {
   "cell_type": "code",
   "execution_count": null,
   "metadata": {},
   "outputs": [],
   "source": [
    "# see more : https://jakevdp.github.io/WhirlwindTourOfPython/02-basic-python-syntax.html\n",
    "# set the midpoint\n",
    "midpoint = 5\n",
    "\n",
    "# make two empty lists\n",
    "lower = []; upper = []\n",
    "\n",
    "# split the numbers into lower and upper\n",
    "for i in range(10):\n",
    "    if (i < midpoint):\n",
    "        lower.append(i)\n",
    "    else:\n",
    "        upper.append(i)\n",
    "        \n",
    "print(\"lower:\", lower)\n",
    "print(\"upper:\", upper)"
   ]
  },
  {
   "cell_type": "code",
   "execution_count": null,
   "metadata": {},
   "outputs": [],
   "source": []
  },
  {
   "cell_type": "markdown",
   "metadata": {},
   "source": [
    "Let's go through this line by line."
   ]
  },
  {
   "cell_type": "code",
   "execution_count": null,
   "metadata": {},
   "outputs": [],
   "source": [
    "# see more : https://jakevdp.github.io/WhirlwindTourOfPython/02-basic-python-syntax.html\n",
    "# set the midpoint"
   ]
  },
  {
   "cell_type": "code",
   "execution_count": 1,
   "metadata": {},
   "outputs": [],
   "source": [
    "midpoint = 5 #this is also a valid way to write a comment "
   ]
  },
  {
   "cell_type": "code",
   "execution_count": 2,
   "metadata": {},
   "outputs": [],
   "source": [
    "midpoint = 5 #end of line indicates end of command. "
   ]
  },
  {
   "cell_type": "code",
   "execution_count": 3,
   "metadata": {},
   "outputs": [],
   "source": [
    "# make two empty lists\n",
    "lower = []; upper = [] #can optionally end command with ;\n",
    "\n",
    "#this is equivalent to \n",
    "lower = []\n",
    "upper = []"
   ]
  },
  {
   "cell_type": "code",
   "execution_count": 5,
   "metadata": {},
   "outputs": [
    {
     "name": "stdout",
     "output_type": "stream",
     "text": [
      "[0, 1, 2, 3, 4, 0, 1, 2, 3, 4]\n",
      "[5, 6, 7, 8, 9, 5, 6, 7, 8, 9]\n"
     ]
    }
   ],
   "source": [
    "#In programming languages, a block of code is a set of statements that should be treated as a unit\n",
    "#In Python, code blocks are denoted by indentation\n",
    "#In Python, indented code blocks are always preceded by a colon (:) on the previous line.\n",
    "\n",
    "for i in range(10):       #indentation really matters in Python! there is a correct way and a wrong way to indent\n",
    "    if (i < midpoint):    #if your code is indented wrong, it will not run! \n",
    "        lower.append(i)   \n",
    "    else:\n",
    "        upper.append(i)\n",
    "\n",
    "print(lower)\n",
    "print(upper)"
   ]
  },
  {
   "cell_type": "code",
   "execution_count": null,
   "metadata": {},
   "outputs": [],
   "source": [
    "#to see how indentation matters, these two snippets will do different things!\n",
    "if x < 4:         \n",
    "    y = x * 2     \n",
    "    print(x) #x will only be printed if x is less than four, because it's part of the code block following the if.\n",
    "    \n",
    "if x < 4:\n",
    "    y = x * 2\n",
    "print(x)     #x will be printed no matter what! "
   ]
  },
  {
   "cell_type": "code",
   "execution_count": null,
   "metadata": {},
   "outputs": [],
   "source": [
    "#whitespace within lines does not matter:\n",
    "x=1+2\n",
    "x = 1 + 2\n",
    "x             =        1    +                2\n",
    "\n",
    "#...but the second way of writing this is by far the nicest to read! best style. "
   ]
  },
  {
   "cell_type": "code",
   "execution_count": 6,
   "metadata": {},
   "outputs": [
    {
     "name": "stdout",
     "output_type": "stream",
     "text": [
      "first value: 1\n"
     ]
    }
   ],
   "source": [
    "# parentheses are for grouping or calling:\n",
    "\n",
    "2 * (3 + 4) #parentheses behave like mathematical parentheses\n",
    "print('first value:', 1) #these parentheses indicate that print is a function and it is being called... \n",
    "                         # more on this later today!"
   ]
  },
  {
   "cell_type": "code",
   "execution_count": 7,
   "metadata": {},
   "outputs": [
    {
     "name": "stdout",
     "output_type": "stream",
     "text": [
      "[1, 2, 3, 4]\n"
     ]
    }
   ],
   "source": [
    "#Some functions can be called with no arguments at all, \n",
    "#in which case the opening and closing parentheses still must be used to indicate a function evaluation. \n",
    "#An example of this is the sort method of lists:\n",
    "\n",
    "L = [4,2,3,1]\n",
    "L.sort()       #sort() is a function, but with no arguments. \n",
    "print(L)"
   ]
  }
 ],
 "metadata": {
  "kernelspec": {
   "display_name": "Python 3",
   "language": "python",
   "name": "python3"
  },
  "language_info": {
   "codemirror_mode": {
    "name": "ipython",
    "version": 3
   },
   "file_extension": ".py",
   "mimetype": "text/x-python",
   "name": "python",
   "nbconvert_exporter": "python",
   "pygments_lexer": "ipython3",
   "version": "3.10.4"
  }
 },
 "nbformat": 4,
 "nbformat_minor": 2
}
