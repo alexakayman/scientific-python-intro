{
 "cells": [
  {
   "cell_type": "markdown",
   "metadata": {},
   "source": [
    "# Week 1, Day 2, Tuesday: \n",
    "# Loops \n",
    "\n",
    "__Learning objective:__ In this activity, we will:\n",
    "1. introduce and practice for loops, iterating over lists and using the range function.\n",
    "2. use the break, else, and continue clauses/statements. \n",
    "\n",
    "Following: https://www.pythonlikeyoumeanit.com/Module2_EssentialsOfPython/ForLoops.html"
   ]
  },
  {
   "cell_type": "markdown",
   "metadata": {},
   "source": [
    "# For Loops"
   ]
  },
  {
   "cell_type": "markdown",
   "metadata": {},
   "source": [
    "A for loop performs an iteration and executes a block of code once per iteration. This can be an iteration over items in a list, over indices in a given range, etc.  For example, the code below will sum up all the positive numbers in the list [-22.0, 3.5, 8.1, -10, 0.5]. "
   ]
  },
  {
   "cell_type": "code",
   "execution_count": null,
   "metadata": {},
   "outputs": [],
   "source": [
    "total = 0  \n",
    "for num in [-22.0, 3.5, 8.1, -10, 0.5]:\n",
    "    if num > 0:\n",
    "        total = total + num\n",
    "        \n",
    "print(total)        "
   ]
  },
  {
   "cell_type": "markdown",
   "metadata": {},
   "source": [
    "The overall structure of a for loop is the following: (this is not valid syntax, just an illustration!)"
   ]
  },
  {
   "cell_type": "code",
   "execution_count": null,
   "metadata": {},
   "outputs": [],
   "source": [
    "for <var> in <iterable>:\n",
    "    block of code"
   ]
  },
  {
   "cell_type": "markdown",
   "metadata": {},
   "source": [
    "The above for loop does the following steps: \n",
    "\n",
    "Get the next variable in iterable. \n",
    "\n",
    "If the iterable is empty or there's nothing left to iterate over, exit the loop without running the code block. \n",
    "\n",
    "If the iterable is not empty and did produce a member, assign that member to var, replacing any previously defined value of var. \n",
    "\n",
    "Run the code block. If var appears in the code block, it will have the new value just assigned to it in the previous step. \n",
    "    \n",
    "Once the code block has been executed, return to the for loop header and start over. "
   ]
  },
  {
   "cell_type": "code",
   "execution_count": null,
   "metadata": {},
   "outputs": [],
   "source": [
    "# demonstrating a basic for-loop\n",
    "total = 0\n",
    "for item in [1, 3, 5]:\n",
    "    total = total + item\n",
    "\n",
    "print(total)  # `total` has the value 1 + 3 + 5 = 9\n",
    "# `item` is still defined here, and holds the value 5\n",
    "print(item)"
   ]
  },
  {
   "cell_type": "markdown",
   "metadata": {},
   "source": [
    "This code will perform the following steps:\n",
    "\n",
    "1. Declare the variable total and assign to it the value 0. \n",
    "2. Begin iteration on the list. Define the variable item, select the first value from the list (1), and assign it to item.\n",
    "3. Assign the value 0 + 1 to total (1). \n",
    "4. Continue iterating on the list. Select the next value from the list (3), and assign it to item.\n",
    "5. Assign the value 1 + 3 to total (4). \n",
    "6. Continue iterating on the list. Select the next value from the list (5), and assign it to item.\n",
    "7. Assign the value 4 + 5 to total (9).\n",
    "8. Attempt to iterate on the list. There is no next value in the list, so a StopIteration signal is raised by the list. The for-loop sequence ends and exits. \n",
    "10. Outside the loop, print the value of total (9). \n",
    "11. Outside the loop, print the value of item (5). \n"
   ]
  },
  {
   "cell_type": "markdown",
   "metadata": {},
   "source": [
    "Notice how the variable item is still defined after the for loop ends! It will remember the last value assigned to it (in this case, 5). However, it is good practice NOT to write code outside the for loop block that depends on the variable you're iterating over, because in some cases (such as an empty iterable ) that value could be undefined:"
   ]
  },
  {
   "cell_type": "code",
   "execution_count": null,
   "metadata": {
    "scrolled": true
   },
   "outputs": [],
   "source": [
    "for x in []:         # the iterable is empty - the iterate-variable `x` will not be defined\n",
    "    print(\"Hello?\")  # this code is never executed\n",
    "print(x)             # raises an error because `x` was never defined"
   ]
  },
  {
   "cell_type": "code",
   "execution_count": 1,
   "metadata": {},
   "outputs": [
    {
     "name": "stdout",
     "output_type": "stream",
     "text": [
      "0\n",
      "1\n",
      "2\n",
      "3\n",
      "4\n",
      "5\n",
      "6\n",
      "7\n",
      "8\n",
      "9\n"
     ]
    }
   ],
   "source": [
    "for i in range(0, 10):\n",
    "    print(i)"
   ]
  },
  {
   "cell_type": "code",
   "execution_count": 2,
   "metadata": {},
   "outputs": [
    {
     "name": "stdout",
     "output_type": "stream",
     "text": [
      "0\n",
      "2\n",
      "4\n",
      "6\n",
      "8\n"
     ]
    }
   ],
   "source": [
    "for i in range(0, 10, 2): #wtf\n",
    "    print(i)"
   ]
  },
  {
   "cell_type": "markdown",
   "metadata": {},
   "source": [
    "__Activity:__ Using a for-loop and an if-statement, print each number in the list [1, 2, 3, 4, 5, 13, 14], but only if that number is even. Hint: use the modulus operator."
   ]
  },
  {
   "cell_type": "code",
   "execution_count": 7,
   "metadata": {},
   "outputs": [
    {
     "name": "stdout",
     "output_type": "stream",
     "text": [
      "2\n",
      "4\n",
      "6\n",
      "8\n",
      "10\n",
      "12\n"
     ]
    }
   ],
   "source": [
    "for i in range(1,14):\n",
    "    if i % 2 == 0:\n",
    "        print(i)\n"
   ]
  },
  {
   "cell_type": "markdown",
   "metadata": {},
   "source": [
    "__Activity:__ Using a for-loop and the range() function, print every even number between -2 and 8. "
   ]
  },
  {
   "cell_type": "code",
   "execution_count": 8,
   "metadata": {},
   "outputs": [
    {
     "name": "stdout",
     "output_type": "stream",
     "text": [
      "-2\n",
      "0\n",
      "2\n",
      "4\n",
      "6\n"
     ]
    }
   ],
   "source": [
    "for i in range(-2, 8):\n",
    "    if i % 2 == 0:\n",
    "        print(i)"
   ]
  },
  {
   "cell_type": "markdown",
   "metadata": {},
   "source": [
    "__Activity:__ Using a for-loop and the range() function, print every third number starting at -1 and going up through -23. "
   ]
  },
  {
   "cell_type": "code",
   "execution_count": 29,
   "metadata": {},
   "outputs": [
    {
     "name": "stdout",
     "output_type": "stream",
     "text": [
      "-1\n",
      "-4\n",
      "-7\n",
      "-10\n",
      "-13\n",
      "-16\n",
      "-19\n",
      "-22\n"
     ]
    }
   ],
   "source": [
    "for i in range(-1, -23, -3): #third number changes increment\n",
    "    print(i)"
   ]
  },
  {
   "cell_type": "markdown",
   "metadata": {},
   "source": [
    "## Activity: "
   ]
  },
  {
   "cell_type": "markdown",
   "metadata": {},
   "source": [
    "A __break__ statement within a loop causes the loop to be exited immediately. Predict the output of this program."
   ]
  },
  {
   "cell_type": "code",
   "execution_count": 12,
   "metadata": {},
   "outputs": [
    {
     "name": "stdout",
     "output_type": "stream",
     "text": [
      "1  ...next iteration\n",
      "2  ...next iteration\n",
      "3  ...break!\n"
     ]
    }
   ],
   "source": [
    "# breaking out of a loop early\n",
    "for item in [1, 2, 3, 4, 5]:\n",
    "    if item == 3:\n",
    "        print(item, \" ...break!\")\n",
    "        break\n",
    "    print(item, \" ...next iteration\")"
   ]
  },
  {
   "cell_type": "markdown",
   "metadata": {},
   "source": [
    "## Activity:"
   ]
  },
  {
   "cell_type": "markdown",
   "metadata": {},
   "source": [
    "An __else__ can be added to the end of any loop. The body of this else-statement will be executed only if the loop was not exited via a break statement. Predict the output of this program."
   ]
  },
  {
   "cell_type": "code",
   "execution_count": 13,
   "metadata": {},
   "outputs": [
    {
     "name": "stdout",
     "output_type": "stream",
     "text": [
      "2  ...next iteration\n",
      "4  ...next iteration\n",
      "6  ...next iteration\n",
      "if you are reading this, then the loop completed without a 'break'\n"
     ]
    }
   ],
   "source": [
    "# including an else-clause at the end of the loop\n",
    "for item in [2, 4, 6]:\n",
    "    if item == 3:\n",
    "        print(item, \" ...break!\")\n",
    "        break\n",
    "    print(item, \" ...next iteration\")\n",
    "else:\n",
    "    print(\"if you are reading this, then the loop completed without a 'break'\")"
   ]
  },
  {
   "cell_type": "markdown",
   "metadata": {},
   "source": [
    "## Activity:"
   ]
  },
  {
   "cell_type": "markdown",
   "metadata": {},
   "source": [
    "The __continue statement__, when encountered within a loop, causes the loop-statement to be revisited immediately. Predict the output of this program."
   ]
  },
  {
   "cell_type": "code",
   "execution_count": 14,
   "metadata": {
    "scrolled": true
   },
   "outputs": [
    {
     "name": "stdout",
     "output_type": "stream",
     "text": [
      "x =  0 >> enter loop-body <<\n",
      "--reached end of loop-body--\n",
      "x =  1 >> enter loop-body <<\n",
      "--reached end of loop-body--\n",
      "x =  2 >> enter loop-body <<\n",
      "x =  2  continue...back to the top of the loop!\n",
      "x =  3 >> enter loop-body <<\n",
      "--reached end of loop-body--\n"
     ]
    }
   ],
   "source": [
    "# demonstrating a `continue` statement in a loop\n",
    "x = 1\n",
    "for x in range(4):\n",
    "    print(\"x = \", x, \">> enter loop-body <<\")\n",
    "    if x == 2:\n",
    "        print(\"x = \", x, \" continue...back to the top of the loop!\")\n",
    "        continue\n",
    "    print(\"--reached end of loop-body--\")"
   ]
  },
  {
   "cell_type": "markdown",
   "metadata": {},
   "source": [
    "## Activity:"
   ]
  },
  {
   "cell_type": "markdown",
   "metadata": {},
   "source": [
    "Write a Python program that prints all the numbers from 0 to 6 except 3 and 6, using the continue statement. "
   ]
  },
  {
   "cell_type": "code",
   "execution_count": 27,
   "metadata": {},
   "outputs": [
    {
     "name": "stdout",
     "output_type": "stream",
     "text": [
      "0\n",
      "1\n",
      "2\n",
      "Not printing that. . .\n",
      "4\n",
      "5\n",
      "Not printing that. . .\n"
     ]
    }
   ],
   "source": [
    "for num in range(0, 7):\n",
    "    if ((num == 3) | (num == 6)):\n",
    "        print('Not printing that. . .')\n",
    "        continue\n",
    "    print(num)"
   ]
  },
  {
   "cell_type": "markdown",
   "metadata": {},
   "source": [
    "__Nested Loops:__ \n",
    "\n",
    "Loops can be placed inside of loops to make nested loops. The overall structure looks like this: (this is not valid syntax, just an illustration)"
   ]
  },
  {
   "cell_type": "code",
   "execution_count": null,
   "metadata": {},
   "outputs": [],
   "source": [
    "for iterating_var in a_sequence:\n",
    "   for iterating_var in another_sequence:\n",
    "      inner code block, executed every iteration of inner for loop \n",
    "   outer code block, executed every iteration of outer for loop only "
   ]
  },
  {
   "cell_type": "markdown",
   "metadata": {},
   "source": [
    "## Activity:"
   ]
  },
  {
   "cell_type": "markdown",
   "metadata": {},
   "source": [
    "Predict the output of this cell."
   ]
  },
  {
   "cell_type": "code",
   "execution_count": 28,
   "metadata": {},
   "outputs": [
    {
     "name": "stdout",
     "output_type": "stream",
     "text": [
      "I =  0\n",
      "\n",
      "\n",
      "I =  1\n",
      "j =  0\n",
      "\n",
      "\n",
      "I =  2\n",
      "j =  0\n",
      "j =  1\n",
      "\n",
      "\n",
      "I =  3\n",
      "j =  0\n",
      "j =  1\n",
      "j =  2\n",
      "\n",
      "\n",
      "I =  4\n",
      "j =  0\n",
      "j =  1\n",
      "j =  2\n",
      "j =  3\n",
      "\n",
      "\n"
     ]
    }
   ],
   "source": [
    "for i in range(0, 5):\n",
    "    print(\"I = \", i)\n",
    "    for j in range(0, i):\n",
    "        print(\"j = \", j)\n",
    "    print(\"\\n\")"
   ]
  }
 ],
 "metadata": {
  "kernelspec": {
   "display_name": "Python 3",
   "language": "python",
   "name": "python3"
  },
  "language_info": {
   "codemirror_mode": {
    "name": "ipython",
    "version": 3
   },
   "file_extension": ".py",
   "mimetype": "text/x-python",
   "name": "python",
   "nbconvert_exporter": "python",
   "pygments_lexer": "ipython3",
   "version": "3.10.4"
  }
 },
 "nbformat": 4,
 "nbformat_minor": 2
}
