{
 "cells": [
  {
   "cell_type": "markdown",
   "metadata": {},
   "source": [
    "# Tuesday, Week 1: Activity 4\n",
    "# While loops\n",
    "\n",
    "__Learning objective:__ In this notebook, we will:\n",
    "1. practice using while loops\n",
    "2. practice using the continue statement\n",
    "3. practice using the break statement\n"
   ]
  },
  {
   "cell_type": "markdown",
   "metadata": {},
   "source": [
    "A __while loop__ allows you to repeatedly run a block of code until a condition is no longer true. The condition is checked at the start of every iteration of the loop: (this is not valid syntax, just an illustration!)"
   ]
  },
  {
   "cell_type": "code",
   "execution_count": null,
   "metadata": {},
   "outputs": [],
   "source": [
    "while <condition>:\n",
    "    block of code"
   ]
  },
  {
   "cell_type": "markdown",
   "metadata": {},
   "source": [
    "condition, here, is an expression that returns True or False (a Boolean), or is any object on which bool can be called. The body of the while loop is the block of code that is indented after the loop header. Every time condition returns True, the block of code is executed. If the condition returns False, the program proceeds to the code following the while loop and does NOT execute the while loop body. "
   ]
  },
  {
   "cell_type": "code",
   "execution_count": null,
   "metadata": {},
   "outputs": [],
   "source": [
    "# demonstrating a basic while-loop\n",
    "total = 0\n",
    "while total < 2:\n",
    "    total += 1  # equivalent to: `total = total + 1`\n",
    "\n",
    "print(total)  # `total` has the value 2"
   ]
  },
  {
   "cell_type": "markdown",
   "metadata": {},
   "source": [
    "This code will run as follows: \n",
    "\n",
    "1. Declare the variable total and assign to it the value 0. \n",
    "2. Evaluate 0 < 2. This returns True, so go ahead and enter the while loop code block. \n",
    "3. Assign to total the value total + 1 = 0 + 1 = 1. \n",
    "4. Go back to the while loop header. Evaluate 1 < 2. This returns true, so execute the code block.\n",
    "5. Assign to total teh value 1 + 1. \n",
    "6. Go back to the while loop header. Evaluate 2 < 2. This returns false, so skip the code block and exit the while loop. \n",
    "7. Print the value of total (2). "
   ]
  },
  {
   "cell_type": "markdown",
   "metadata": {},
   "source": [
    "Note that if we started off with total = 3, the while loop condition 3 < 2 would evaluate as false on the first go-around, and the indented body of code would never be executed. "
   ]
  },
  {
   "cell_type": "markdown",
   "metadata": {},
   "source": [
    "Be careful! It's possible to write a while loop where the condition is always True. In this case, your loop will run forever and your program will never complete. If this ever happens to you in a Jupyter notebook, either interrupt or restart your kernel."
   ]
  },
  {
   "cell_type": "markdown",
   "metadata": {},
   "source": [
    "__Nested while loops:__"
   ]
  },
  {
   "cell_type": "code",
   "execution_count": null,
   "metadata": {},
   "outputs": [],
   "source": [
    "while one_expression:\n",
    "   while another_expression:\n",
    "      inner code block, executed every iteration of inner while loop \n",
    "   outer code block, executed every iteration of outer while loop only"
   ]
  },
  {
   "cell_type": "code",
   "execution_count": 1,
   "metadata": {},
   "outputs": [
    {
     "name": "stdout",
     "output_type": "stream",
     "text": [
      "Week 1, Day 1\n",
      "Week 1, Day 2\n",
      "Week 1, Day 3\n",
      "Week 1, Day 4\n",
      "Week 1, Day 5\n",
      "\n",
      "\n",
      "Week 2, Day 1\n",
      "Week 2, Day 2\n",
      "Week 2, Day 3\n",
      "Week 2, Day 4\n",
      "Week 2, Day 5\n",
      "\n",
      "\n"
     ]
    }
   ],
   "source": [
    "# Our class lasts two weeks, and has five days in each week. \n",
    "\n",
    "i = 1\n",
    "\n",
    "while i <= 2: \n",
    "    j = 1\n",
    "    while j <= 5: \n",
    "        print(\"Week \" + str(i) + \", Day \" + str(j))\n",
    "        j += 1\n",
    "        \n",
    "    print(\"\\n\")\n",
    "    i += 1"
   ]
  },
  {
   "cell_type": "markdown",
   "metadata": {},
   "source": [
    "## Please work through these as a group. Ask for help as needed."
   ]
  },
  {
   "cell_type": "markdown",
   "metadata": {},
   "source": [
    "## Activity: "
   ]
  },
  {
   "cell_type": "markdown",
   "metadata": {},
   "source": [
    "Given a starting nonzero, positive integer x, multiply it by x + 1. Store the result in x. Continue doing this until x is greater than 1000. \n",
    "\n",
    "i.e., if you start with x = 3, then the next value of x = 3 * 4 = 12. The next value after that would be 12 * 13, and so on. "
   ]
  },
  {
   "cell_type": "code",
   "execution_count": 8,
   "metadata": {},
   "outputs": [
    {
     "name": "stdout",
     "output_type": "stream",
     "text": [
      "6\n",
      "42\n",
      "1806\n"
     ]
    }
   ],
   "source": [
    "x = 2\n",
    "while x <= 1000:\n",
    "    x = x * (x + 1)\n",
    "    print (x)"
   ]
  },
  {
   "cell_type": "markdown",
   "metadata": {},
   "source": [
    "__Activity:__ Write a while loop that prints all the numbers from 0 to 6 except 3 and 6, using the continue statement. "
   ]
  },
  {
   "cell_type": "code",
   "execution_count": 10,
   "metadata": {},
   "outputs": [
    {
     "name": "stdout",
     "output_type": "stream",
     "text": [
      "1\n",
      "2\n",
      "Lol no\n",
      "4\n",
      "5\n",
      "Lol no\n",
      "7\n"
     ]
    }
   ],
   "source": [
    "num = 0\n",
    "while num < 7:\n",
    "    num += 1\n",
    "    if ((num == 3) | (num == 6)):\n",
    "        print('Lol no')\n",
    "        continue\n",
    "    print(num)"
   ]
  },
  {
   "cell_type": "markdown",
   "metadata": {},
   "source": [
    "__Note__: The modulo operator is denoted with a '%'. a%b returns the remainder of a divided by b. For example, 10%3 = 1 because when we divide 10 by 3, the remainder is 1. 50%2 returns 0, because 2 goes into 50 exactly 25 times, with no remainder left over. \n",
    "\n",
    "__Task:__ Use the modulo operator to write a statement that is true for every *even* number N. \n",
    "\n"
   ]
  },
  {
   "cell_type": "code",
   "execution_count": 20,
   "metadata": {},
   "outputs": [
    {
     "name": "stdout",
     "output_type": "stream",
     "text": [
      "Yes, 2 is even.\n",
      "False, 3 is not even\n",
      "Yes, 4 is even.\n",
      "False, 5 is not even\n",
      "Yes, 6 is even.\n",
      "False, 7 is not even\n",
      "Yes, 8 is even.\n",
      "False, 9 is not even\n",
      "Yes, 10 is even.\n",
      "False, 11 is not even\n",
      "Yes, 12 is even.\n",
      "False, 13 is not even\n",
      "Yes, 14 is even.\n",
      "False, 15 is not even\n"
     ]
    }
   ],
   "source": [
    "n = 2\n",
    "while n < 16:\n",
    "    if (n % 2 == 0):\n",
    "       print(f'Yes, {n} is even.')\n",
    "    else:\n",
    "        print(f'False, {n} is not even')\n",
    "    n += 1"
   ]
  },
  {
   "cell_type": "markdown",
   "metadata": {},
   "source": [
    "__Task:__ A prime number N is a number that has no factors other than 1 and N. In English (or pseudocode), what can we say about the remainder of dividing N by any number (other than 1 and N) that is less than N? For example, 7 and 13 are both prime numbers. What is true about 13 divided by 2? 13 divided by 3? 7 divided by 6? Etc. \n",
    "\n",
    "__Hint:__ use the modulo operator."
   ]
  },
  {
   "cell_type": "code",
   "execution_count": 132,
   "metadata": {},
   "outputs": [
    {
     "name": "stdout",
     "output_type": "stream",
     "text": [
      "0 is not prime\n",
      "16 is prime\n",
      "16 is prime\n",
      "16 is prime\n",
      "16 is prime\n",
      "16 is prime\n",
      "16 is prime\n",
      "16 is prime\n",
      "16 is prime\n",
      "16 is prime\n",
      "16 is prime\n",
      "16 is prime\n",
      "16 is prime\n",
      "16 is prime\n",
      "16 is prime\n",
      "16 is prime\n",
      "16 is prime\n",
      "16 is prime\n",
      "16 is prime\n",
      "16 is prime\n",
      "16 is prime\n",
      "16 is prime\n",
      "16 is prime\n",
      "16 is prime\n",
      "1 is not prime\n",
      "2 is not prime\n",
      "3 is not prime\n",
      "4 is not prime\n",
      "5 is not prime\n",
      "6 is not prime\n",
      "7 is not prime\n",
      "8 is not prime\n",
      "9 is not prime\n",
      "10 is not prime\n",
      "11 is not prime\n",
      "12 is not prime\n",
      "13 is not prime\n",
      "14 is not prime\n",
      "15 is not prime\n",
      "16 is not prime\n",
      "17 is not prime\n",
      "18 is not prime\n",
      "19 is not prime\n",
      "20 is not prime\n",
      "21 is not prime\n",
      "22 is not prime\n",
      "23 is not prime\n",
      "24 is not prime\n"
     ]
    }
   ],
   "source": [
    "num = 0\n",
    "while num < 25:\n",
    "    for divider in range(1,25):\n",
    "        if (num % divider == 0):\n",
    "            print (f'{num} is not prime') \n",
    "            num += 1\n",
    "        elif(num % divider != 0):\n",
    "            print (f'{n} is prime')    "
   ]
  },
  {
   "cell_type": "markdown",
   "metadata": {},
   "source": [
    "__Activity:__ Using your answers above and the modulo operator, write a program that prints out all prime numbers between 2 and 100. Use a nested loop and a break statement."
   ]
  },
  {
   "cell_type": "code",
   "execution_count": 119,
   "metadata": {},
   "outputs": [
    {
     "name": "stdout",
     "output_type": "stream",
     "text": [
      "2 is prime\n",
      "3 is prime\n",
      "5 is prime\n",
      "7 is prime\n",
      "11 is prime\n",
      "13 is prime\n",
      "17 is prime\n",
      "19 is prime\n",
      "23 is prime\n",
      "29 is prime\n",
      "31 is prime\n",
      "37 is prime\n",
      "41 is prime\n",
      "43 is prime\n",
      "47 is prime\n",
      "53 is prime\n",
      "59 is prime\n",
      "61 is prime\n",
      "67 is prime\n",
      "71 is prime\n",
      "73 is prime\n",
      "79 is prime\n",
      "83 is prime\n",
      "89 is prime\n",
      "97 is prime\n"
     ]
    }
   ],
   "source": [
    "num = 1 #start at 1\n",
    "while(num <= 100): \n",
    "    sums = 0\n",
    "    divider = 2\n",
    "    while (divider <= num/2): \n",
    "        if (num % divider == 0):\n",
    "            sums += 1 #how many sum properly\n",
    "        divider += 1\n",
    "    if (sums == 0 and num != 1):\n",
    "         print(f'{num} is prime') \n",
    "    num += 1"
   ]
  },
  {
   "cell_type": "markdown",
   "metadata": {},
   "source": [
    "__Activity:__ Did you use a for loop or while loop in your program above? Now write the same program, but use the other kind of loop! This should not require many edits."
   ]
  },
  {
   "cell_type": "code",
   "execution_count": 133,
   "metadata": {},
   "outputs": [],
   "source": [
    "num = 1 #start at 1\n",
    "\n",
    "for num in range(1, 100): \n",
    "    sums = 0\n",
    "    divider = 2\n",
    "    for divider in range(1, 50):\n",
    "        if (num % divider == 0):\n",
    "            sums += 1 #how many sum properly\n",
    "        divider += 1\n",
    "    if (sums == 0 and num != 1):\n",
    "        print(f'{num} is prime') \n",
    "    num += 1"
   ]
  }
 ],
 "metadata": {
  "kernelspec": {
   "display_name": "Python 3",
   "language": "python",
   "name": "python3"
  },
  "language_info": {
   "codemirror_mode": {
    "name": "ipython",
    "version": 3
   },
   "file_extension": ".py",
   "mimetype": "text/x-python",
   "name": "python",
   "nbconvert_exporter": "python",
   "pygments_lexer": "ipython3",
   "version": "3.10.4"
  }
 },
 "nbformat": 4,
 "nbformat_minor": 2
}
