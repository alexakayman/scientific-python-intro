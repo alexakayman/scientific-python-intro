{
 "cells": [
  {
   "cell_type": "markdown",
   "metadata": {},
   "source": [
    "# Tuesday, Week 1: Activity 5\n",
    "# Supplementary Practice Problems: \n",
    "\n",
    "__Learning Objective:__ in these activities, we will apply what we learned about loops (for and while) and conditionals to more challenging problems."
   ]
  },
  {
   "cell_type": "markdown",
   "metadata": {},
   "source": [
    "\n",
    "# Please work through these as a group. Ask for Help as needed."
   ]
  },
  {
   "cell_type": "markdown",
   "metadata": {},
   "source": [
    "__Activity:__ Write a Python program to construct the following pattern, using a nested for loop."
   ]
  },
  {
   "cell_type": "code",
   "execution_count": null,
   "metadata": {},
   "outputs": [],
   "source": [
    "* \n",
    "* * \n",
    "* * * \n",
    "* * * * \n",
    "* * * * * \n",
    "* * * * \n",
    "* * * \n",
    "* * \n",
    "*"
   ]
  },
  {
   "cell_type": "code",
   "execution_count": null,
   "metadata": {},
   "outputs": [],
   "source": []
  },
  {
   "cell_type": "markdown",
   "metadata": {},
   "source": [
    "__Activity:__ Use your formula from Monday that converts Celsius to Fahrenheit and write a program that outputs two columns. In the first column, it should print out the temperature in Celsius, and the second in Fahrenheit. Have the data print out all integer values of Celsius from 0 to 100 in 3 degree increments. "
   ]
  },
  {
   "cell_type": "code",
   "execution_count": null,
   "metadata": {},
   "outputs": [],
   "source": []
  },
  {
   "cell_type": "markdown",
   "metadata": {},
   "source": [
    "__Activity:__ You are driving a little too fast, and a police officer stops you. Write code to compute the result, encoded as an int value: 0=no ticket, 1=small ticket, 2=big ticket. If speed is 60 mph or less, the result is 0 (you don't get a ticket). If speed is between 61 mph and 80 mph inclusive, the result is 1 (you get a small ticket). If speed is 81 mph or more, the result is 2 (you get a big ticket!). Unless it is your birthday -- on that day, your speed can be 5 mph higher in all cases to get the same result. \n",
    "\n",
    "Begin with these statements:"
   ]
  },
  {
   "cell_type": "code",
   "execution_count": null,
   "metadata": {},
   "outputs": [],
   "source": [
    "is_birthday = True\n",
    "speed = #TODO pick a number. \n",
    "\n",
    "#TODO write your program here. \n",
    "\n",
    "#now test it by re-running it with different values of is_birthday and speed."
   ]
  },
  {
   "cell_type": "code",
   "execution_count": null,
   "metadata": {},
   "outputs": [],
   "source": []
  }
 ],
 "metadata": {
  "kernelspec": {
   "display_name": "Python 3",
   "language": "python",
   "name": "python3"
  },
  "language_info": {
   "codemirror_mode": {
    "name": "ipython",
    "version": 3
   },
   "file_extension": ".py",
   "mimetype": "text/x-python",
   "name": "python",
   "nbconvert_exporter": "python",
   "pygments_lexer": "ipython3",
   "version": "3.8.5"
  }
 },
 "nbformat": 4,
 "nbformat_minor": 2
}
