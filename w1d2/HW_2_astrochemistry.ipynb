{
 "cells": [
  {
   "cell_type": "markdown",
   "metadata": {},
   "source": [
    "# Tuesday, Week 1: HW 2\n",
    "# Astrochemistry II \n",
    "\n",
    "__Learning objective:__ \n",
    "1. Write a __for__ loop that executes a series of commands a fixed number of times. \n",
    "2. Practice using if/else statements with Boolean conditions. \n",
    "\n",
    "__Task:__ As an astrochemist, you'll be working with large datasets describing the observed and true wavelengths of many, many different kinds of spectral lines. Suppose you are studying a host galaxy and you'd like to determine its redshift and velocity. The host galaxy's spectrum has many spectral lines, and for each of them, you can use their known and observed wavelength to determine a redshift. The problem is that real data is often noisy, so these might not all give exactly the same final result. \n",
    "\n",
    "Write a loop that calculates the redshift and velocity of the host galaxy for each spectral line individually. \n",
    "\n",
    "Then, once the loop is complete, average the resulting redshifts and velocities to find a best guess estimate of the true answer. \n",
    "\n",
    "Use your code from HW1 as needed!"
   ]
  },
  {
   "cell_type": "code",
   "execution_count": 4,
   "metadata": {},
   "outputs": [],
   "source": [
    "# these are given. Don't alter these. Each entry in these lists corresponds \n",
    "# to a spectral line in the host galaxy's spectrum. \n",
    "# You will recognize the first three entries from last night's HW! \n",
    "rest_wavelengths     = [6562.8, 5006.8,  3727,    1215.24, 3889.0] \n",
    "observed_wavelengths = [8100.3, 6150.07, 4550.01, 1494.74, 4764.02]"
   ]
  },
  {
   "cell_type": "code",
   "execution_count": 12,
   "metadata": {},
   "outputs": [
    {
     "name": "stdout",
     "output_type": "stream",
     "text": [
      "Redshift: 0.2342750045712196 \tVelocity: 0.007023387946836716\n",
      "Redshift: 0.2283434529040504 \tVelocity: 0.00684556450143125\n",
      "Redshift: 0.22082371880869336 \tVelocity: 0.006620128544635901\n",
      "Redshift: 0.22999572100984167 \tVelocity: 0.006895098253102267\n",
      "Redshift: 0.22499871432244803 \tVelocity: 0.006745291761356649\n"
     ]
    }
   ],
   "source": [
    "# TODO: write a FOR loop that loops over the length of these lists\n",
    "# and, for each entry, calculates and prints the \n",
    "# host galaxy's redshift and velocity\n",
    "\n",
    "# TODO copy your work from HW1 here as needed. \n",
    "i = 0 #starting index\n",
    "\n",
    "for lambda_obs in observed_wavelengths:\n",
    "    lambda_true = rest_wavelengths[i] \n",
    "    z = (lambda_obs - lambda_true)/lambda_true\n",
    "    v = z * 0.0299792458 \n",
    "\n",
    "    print(f'Redshift: {z} \\tVelocity: {v}')\n",
    "\n",
    "    i+= 1\n",
    "    "
   ]
  },
  {
   "cell_type": "markdown",
   "metadata": {},
   "source": [
    "Now, in a new cell, copy the above loop and add two variables z_avg and v_avg that keep track of the running average of the redshift and velocity, respectively. At the end of this cell, print out the average redshift and velocity computed from the data."
   ]
  },
  {
   "cell_type": "code",
   "execution_count": 47,
   "metadata": {},
   "outputs": [
    {
     "name": "stdout",
     "output_type": "stream",
     "text": [
      "Data 0: \n",
      "\tZ sum:0.2342750045712196\n",
      "\tV sum:0.007023387946836716 \n",
      "Data 1: \n",
      "\tZ sum:0.46261845747527\n",
      "\tV sum:0.013868952448267965 \n",
      "Data 2: \n",
      "\tZ sum:0.6834421762839633\n",
      "\tV sum:0.020489080992903867 \n",
      "Data 3: \n",
      "\tZ sum:0.913437897293805\n",
      "\tV sum:0.027384179246006134 \n",
      "Data 4: \n",
      "\tZ sum:1.138436611616253\n",
      "\tV sum:0.034129471007362785 \n",
      "---------------------------------------------\n",
      "The average redshift is:  0.2276873223232506\n",
      "The average velocity is:  0.006825894201472557\n"
     ]
    }
   ],
   "source": [
    "i = 0 #starting index\n",
    "\n",
    "v_sum = 0  #initial value\n",
    "z_sum = 0 \n",
    "\n",
    "for lambda_obs in observed_wavelengths:\n",
    "    lambda_true = rest_wavelengths[i]\n",
    "    z = (lambda_obs - lambda_true)/lambda_true \n",
    "    v = z * 0.0299792458\n",
    "\n",
    "    v_sum += v\n",
    "    z_sum += z \n",
    "    \n",
    "    print(f'Data {i}: \\n\\tZ sum:{z_sum}\\n\\tV sum:{v_sum} ')\n",
    "    i += 1\n",
    "z_avg = z_sum / len(observed_wavelengths)\n",
    "v_avg = v_sum / len(observed_wavelengths)\n",
    "\n",
    "print('---------------------------------------------')  \n",
    "print(\"The average redshift is: \", z_avg)\n",
    "print(\"The average velocity is: \", v_avg)"
   ]
  },
  {
   "cell_type": "markdown",
   "metadata": {},
   "source": [
    "__Task__: practice working with faulty data and pruning out garbage data points. \n",
    "\n",
    "Even the best experiments will occasionally take down bad or corrupted data. It happens and scientists try their best to avoid it but we have to be prepared to deal with it when it does occur. \n",
    "\n",
    "Below are the modified lists from above, but with a few bad data points. Sometimes the data is bad just in the first list, sometimes just in the second list, and sometimes in both. The bad data might be a \"NaN\", which stands for not-a-number, or it might just be a bogus, unphysical value. \n",
    "\n",
    "__Step 1__: think about what a wavelength is, physically. What can you say about wavelength data? What must be true about all wavelength measurements in order for them to make sense? \n",
    "\n",
    "Hint: if thinking about wavelenghts is confusing, think about height measurements first. What is true of every person's height, no matter how short or tall they might be?\n",
    "\n",
    "__Step 2__: Now, adapt your code above to loop over the lists below, but *only* compute the redshift and velocity if *BOTH* the rest wavelength and observed wavelength data at any given entry of the lists looks like a valid measurement. "
   ]
  },
  {
   "cell_type": "code",
   "execution_count": null,
   "metadata": {},
   "outputs": [],
   "source": [
    "rest_wavelengths     = [6562.8, 5006.8,  3727,    1215.24, \"NaN\", 3889.0, \"NaN\", 2319.0] \n",
    "observed_wavelengths = [8100.3, 6150.07, 4550.01, 1494.74, 1302.3, 4764.02, \"NaN\", -1293.0]"
   ]
  },
  {
   "cell_type": "code",
   "execution_count": 50,
   "metadata": {},
   "outputs": [
    {
     "name": "stdout",
     "output_type": "stream",
     "text": [
      "Data 0: \n",
      "\tZ sum: 0.2342750045712196\n",
      "\tV sum: 0.007023387946836716 \n",
      "Data 1: \n",
      "\tZ sum: 0.46261845747527\n",
      "\tV sum: 0.013868952448267965 \n",
      "Data 2: \n",
      "\tZ sum: 0.6834421762839633\n",
      "\tV sum: 0.020489080992903867 \n",
      "Data 3: \n",
      "\tZ sum: 0.913437897293805\n",
      "\tV sum: 0.027384179246006134 \n",
      "Data 4: \n",
      "\tZ sum: 1.138436611616253\n",
      "\tV sum: 0.034129471007362785 \n",
      "The average redshift is:  0.2276873223232506\n",
      "The average velocity is:  0.006825894201472557\n"
     ]
    }
   ],
   "source": [
    "#TODO: adapt your code to only do calculations on good data points. \n",
    "\n",
    "i = 0 #starting index\n",
    "\n",
    "v_sum = 0  #initial value\n",
    "z_sum = 0 \n",
    "\n",
    "for lambda_obs in observed_wavelengths: \n",
    "    lambda_true = rest_wavelengths[i]\n",
    "    if ((lambda_obs != 'NaN') and (lambda_true != 'NaN') and (lambda_obs > 0) and (lambda_true > 0)):\n",
    "        z = (lambda_obs - lambda_true)/lambda_true \n",
    "        v = z * 0.0299792458\n",
    "\n",
    "        v_sum += v\n",
    "        z_sum += z \n",
    "        print(f'Data {i}: \\n\\tZ sum: {z_sum}\\n\\tV sum: {v_sum} ')\n",
    "    elif (lambda_obs == 'NaN') or (lambda_true == 'NaN'):\n",
    "        print(f'Data {i} has invalid data.')\n",
    "    i += 1\n",
    "z_avg = z_sum / len(observed_wavelengths)\n",
    "v_avg = v_sum / len(observed_wavelengths)\n",
    "\n",
    "print(\"The average redshift is: \", z_avg)\n",
    "print(\"The average velocity is: \", v_avg)\n"
   ]
  },
  {
   "cell_type": "markdown",
   "metadata": {},
   "source": [
    "__Feedback__: How long did this assignment take you? On a scale of 1 (simple) to 5 (difficult), how did it go? "
   ]
  },
  {
   "cell_type": "code",
   "execution_count": null,
   "metadata": {},
   "outputs": [],
   "source": [
    "# TODO: how long did this assignment take you?\n",
    "1hr 30m"
   ]
  },
  {
   "cell_type": "code",
   "execution_count": null,
   "metadata": {},
   "outputs": [],
   "source": [
    "# TODO: rate this HW's difficulty on a scale of 1-5. \n",
    "3"
   ]
  },
  {
   "cell_type": "markdown",
   "metadata": {},
   "source": [
    "__Feedback__: How comfortable do you feel with the topics covered in this assignment? Are there any topics you would like to review tomorrow together as a class? "
   ]
  },
  {
   "cell_type": "code",
   "execution_count": null,
   "metadata": {},
   "outputs": [],
   "source": [
    "# TODO: Convert to a markdown cell and \n",
    "# answer feedback questions above.\n",
    "\n",
    "I'd like to review finding the average value from lists. "
   ]
  },
  {
   "cell_type": "markdown",
   "metadata": {},
   "source": [
    "__Feedback__: Please let us know if there any ways we can make your learning experience better!"
   ]
  },
  {
   "cell_type": "code",
   "execution_count": null,
   "metadata": {},
   "outputs": [],
   "source": [
    "# TODO: Convert to a markdown cell and \n",
    "# answer feedback questions above."
   ]
  }
 ],
 "metadata": {
  "kernelspec": {
   "display_name": "Python 3",
   "language": "python",
   "name": "python3"
  },
  "language_info": {
   "codemirror_mode": {
    "name": "ipython",
    "version": 3
   },
   "file_extension": ".py",
   "mimetype": "text/x-python",
   "name": "python",
   "nbconvert_exporter": "python",
   "pygments_lexer": "ipython3",
   "version": "3.10.4"
  }
 },
 "nbformat": 4,
 "nbformat_minor": 2
}
