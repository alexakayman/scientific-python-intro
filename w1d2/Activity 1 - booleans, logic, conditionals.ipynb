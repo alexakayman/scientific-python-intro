{
 "cells": [
  {
   "cell_type": "markdown",
   "metadata": {},
   "source": [
    "# Tuesday, Week 1: Activity 2\n",
    "# Booleans, Logic, Conditionals \n",
    "\n",
    "__Learning objective:__ In this activity, we will:\n",
    "1. introduce Boolean values and describe how to use them to build logical systems that control programs. \n",
    "2. practice evaluating Boolean comparisons and expressions with logical operators. \n",
    "3. introduce and practice the conditionals: the if, else, elif, and inline if statements. \n",
    "\n",
    "Following: https://www.pythonlikeyoumeanit.com/Module2_EssentialsOfPython/ConditionalStatements.html"
   ]
  },
  {
   "cell_type": "markdown",
   "metadata": {},
   "source": [
    "# Booleans\n",
    "\n",
    "A Boolean is a special data type that can have one of two values: True or False. Programmers use Booleans all the time to control the flow of their programs and have their code make decisions about when and what to do as it is running. "
   ]
  },
  {
   "cell_type": "markdown",
   "metadata": {},
   "source": [
    "Fun fact: Booleans are named after George Boole, so the word Boolean should always be capitalized. The values True and False are likewise capitalized: they are special words in Python and are used only to denote the two Boolean values (i.e. they can't be used as a variable name). "
   ]
  },
  {
   "cell_type": "markdown",
   "metadata": {},
   "source": [
    "__Comparison Operators__:"
   ]
  },
  {
   "cell_type": "code",
   "execution_count": null,
   "metadata": {},
   "outputs": [],
   "source": [
    "==     #equal to\n",
    "!=     #not equal to\n",
    "<      #less than\n",
    ">      #greater than\n",
    "<=     #less than or equal to\n",
    ">=     #greater than or equal to\n",
    "is     #object equality\n",
    "is not #object inequality"
   ]
  },
  {
   "cell_type": "markdown",
   "metadata": {},
   "source": [
    "``==`` checks if two things have the same value.\n",
    "\n",
    "``is`` checks if two things are the same object. Most commonly used to check if something is the `None' object."
   ]
  },
  {
   "cell_type": "code",
   "execution_count": null,
   "metadata": {},
   "outputs": [],
   "source": [
    "x = None\n",
    "x is None"
   ]
  },
  {
   "cell_type": "code",
   "execution_count": null,
   "metadata": {},
   "outputs": [],
   "source": [
    "(2 < 0) is False"
   ]
  },
  {
   "cell_type": "code",
   "execution_count": null,
   "metadata": {},
   "outputs": [],
   "source": [
    "1 is not None"
   ]
  },
  {
   "cell_type": "markdown",
   "metadata": {},
   "source": [
    "The Boolean objects True and False can be interpreted by Python as the integers 1 and 0, respectively! "
   ]
  },
  {
   "cell_type": "code",
   "execution_count": null,
   "metadata": {},
   "outputs": [],
   "source": [
    "isinstance(True, int)"
   ]
  },
  {
   "cell_type": "code",
   "execution_count": null,
   "metadata": {},
   "outputs": [],
   "source": [
    "int(True)"
   ]
  },
  {
   "cell_type": "code",
   "execution_count": null,
   "metadata": {},
   "outputs": [],
   "source": [
    "int(False)"
   ]
  },
  {
   "cell_type": "code",
   "execution_count": null,
   "metadata": {},
   "outputs": [],
   "source": [
    "3*True-False"
   ]
  },
  {
   "cell_type": "code",
   "execution_count": null,
   "metadata": {},
   "outputs": [],
   "source": [
    "True/False"
   ]
  },
  {
   "cell_type": "code",
   "execution_count": null,
   "metadata": {},
   "outputs": [],
   "source": [
    "bool(1)"
   ]
  },
  {
   "cell_type": "code",
   "execution_count": null,
   "metadata": {},
   "outputs": [],
   "source": [
    "bool(0)"
   ]
  },
  {
   "cell_type": "code",
   "execution_count": null,
   "metadata": {},
   "outputs": [],
   "source": [
    "bool(True)"
   ]
  },
  {
   "cell_type": "markdown",
   "metadata": {},
   "source": [
    "__Activity:__ Without running the cell, predict the output of the following program. "
   ]
  },
  {
   "cell_type": "code",
   "execution_count": null,
   "metadata": {},
   "outputs": [],
   "source": [
    "a = 2\n",
    "b = 5\n",
    "c = 5 \n",
    "\n",
    "print(\"a == b:\", a == b)\n",
    "print(\"a != b:\", a != b)\n",
    "print(\"a < b:\", a < b)\n",
    "print(\"a > b:\", a > b)\n",
    "print(\"a <= b:\", a <= b)\n",
    "print(\"a >= b:\", a >= b)\n",
    "\n",
    "print(\"c < b\", c < b)\n",
    "print(\"c <= b\", c <= b)"
   ]
  },
  {
   "cell_type": "markdown",
   "metadata": {},
   "source": [
    "Integer numbers aren't the only kinds of values that can be compared. We can also do this with floating point numbers, or with strings of letters."
   ]
  },
  {
   "cell_type": "markdown",
   "metadata": {},
   "source": [
    "# Logical Operators:"
   ]
  },
  {
   "cell_type": "code",
   "execution_count": null,
   "metadata": {},
   "outputs": [],
   "source": [
    "and   # a and b returns True if and only if a is True and b is True\n",
    "or    # a or b returns True if a is true, or if b is true, or if both are true, but not if both are False\n",
    "not   # not a returns False if a is True and True if a is False"
   ]
  },
  {
   "cell_type": "markdown",
   "metadata": {},
   "source": [
    "__Activity:__ Without running the below cells, predict their output. Then run them and compare your prediction to the result."
   ]
  },
  {
   "cell_type": "code",
   "execution_count": 1,
   "metadata": {},
   "outputs": [
    {
     "data": {
      "text/plain": [
       "True"
      ]
     },
     "execution_count": 1,
     "metadata": {},
     "output_type": "execute_result"
    }
   ],
   "source": [
    "(69<96) and (13<14)\n",
    "#true "
   ]
  },
  {
   "cell_type": "code",
   "execution_count": 2,
   "metadata": {},
   "outputs": [
    {
     "data": {
      "text/plain": [
       "False"
      ]
     },
     "execution_count": 2,
     "metadata": {},
     "output_type": "execute_result"
    }
   ],
   "source": [
    "(13>14) and (69<96) #false "
   ]
  },
  {
   "cell_type": "code",
   "execution_count": 5,
   "metadata": {},
   "outputs": [],
   "source": [
    "#(1<2) and ((1/0) < 1) #error"
   ]
  },
  {
   "cell_type": "markdown",
   "metadata": {},
   "source": [
    " In Python, a logical expression is evaluated from left to right and will return its Boolean value as soon as it is unambiguously determined, leaving any remaining portions of the expression unevaluated. That is, the expression may be short-circuited."
   ]
  },
  {
   "cell_type": "code",
   "execution_count": 8,
   "metadata": {},
   "outputs": [
    {
     "data": {
      "text/plain": [
       "True"
      ]
     },
     "execution_count": 8,
     "metadata": {},
     "output_type": "execute_result"
    }
   ],
   "source": [
    "(1<2) or (1/0 < 1) \n",
    "#accepts that the first one is true so it doens't run the second"
   ]
  },
  {
   "cell_type": "code",
   "execution_count": 7,
   "metadata": {},
   "outputs": [
    {
     "ename": "ZeroDivisionError",
     "evalue": "division by zero",
     "output_type": "error",
     "traceback": [
      "\u001b[0;31m---------------------------------------------------------------------------\u001b[0m",
      "\u001b[0;31mZeroDivisionError\u001b[0m                         Traceback (most recent call last)",
      "\u001b[1;32m/Users/ak/Desktop/harvard/w1d2/Activity 1 - booleans, logic, conditionals.ipynb Cell 30'\u001b[0m in \u001b[0;36m<cell line: 1>\u001b[0;34m()\u001b[0m\n\u001b[0;32m----> <a href='vscode-notebook-cell:/Users/ak/Desktop/harvard/w1d2/Activity%201%20-%20booleans%2C%20logic%2C%20conditionals.ipynb#ch0000029?line=0'>1</a>\u001b[0m (\u001b[39m1\u001b[39;49m\u001b[39m/\u001b[39;49m\u001b[39m0\u001b[39;49m \u001b[39m<\u001b[39m \u001b[39m1\u001b[39m) \u001b[39mor\u001b[39;00m (\u001b[39m1\u001b[39m\u001b[39m<\u001b[39m\u001b[39m2\u001b[39m)\n",
      "\u001b[0;31mZeroDivisionError\u001b[0m: division by zero"
     ]
    }
   ],
   "source": [
    "(1/0 < 1) or (1<2)\n",
    "#checking the first so the second never runs"
   ]
  },
  {
   "cell_type": "code",
   "execution_count": 9,
   "metadata": {},
   "outputs": [
    {
     "data": {
      "text/plain": [
       "True"
      ]
     },
     "execution_count": 9,
     "metadata": {},
     "output_type": "execute_result"
    }
   ],
   "source": [
    "True or False"
   ]
  },
  {
   "cell_type": "code",
   "execution_count": 10,
   "metadata": {},
   "outputs": [
    {
     "data": {
      "text/plain": [
       "False"
      ]
     },
     "execution_count": 10,
     "metadata": {},
     "output_type": "execute_result"
    }
   ],
   "source": [
    "True and False"
   ]
  },
  {
   "cell_type": "code",
   "execution_count": 11,
   "metadata": {},
   "outputs": [
    {
     "data": {
      "text/plain": [
       "True"
      ]
     },
     "execution_count": 11,
     "metadata": {},
     "output_type": "execute_result"
    }
   ],
   "source": [
    "True and True"
   ]
  },
  {
   "cell_type": "code",
   "execution_count": 12,
   "metadata": {},
   "outputs": [
    {
     "data": {
      "text/plain": [
       "False"
      ]
     },
     "execution_count": 12,
     "metadata": {},
     "output_type": "execute_result"
    }
   ],
   "source": [
    "False and False\n",
    "#only True if both are True"
   ]
  },
  {
   "cell_type": "code",
   "execution_count": 13,
   "metadata": {},
   "outputs": [
    {
     "data": {
      "text/plain": [
       "True"
      ]
     },
     "execution_count": 13,
     "metadata": {},
     "output_type": "execute_result"
    }
   ],
   "source": [
    "not False and not False\n",
    "#not returns the opposite"
   ]
  },
  {
   "cell_type": "code",
   "execution_count": 14,
   "metadata": {},
   "outputs": [
    {
     "data": {
      "text/plain": [
       "True"
      ]
     },
     "execution_count": 14,
     "metadata": {},
     "output_type": "execute_result"
    }
   ],
   "source": [
    "not False and True"
   ]
  },
  {
   "cell_type": "code",
   "execution_count": 15,
   "metadata": {},
   "outputs": [
    {
     "data": {
      "text/plain": [
       "True"
      ]
     },
     "execution_count": 15,
     "metadata": {},
     "output_type": "execute_result"
    }
   ],
   "source": [
    "False or not False\n",
    "#true "
   ]
  },
  {
   "cell_type": "markdown",
   "metadata": {},
   "source": [
    "# Conditional Statements:"
   ]
  },
  {
   "cell_type": "markdown",
   "metadata": {},
   "source": [
    "Let's now introduce the __if__, __else__, and __elif__ statements. You will use these a lot!"
   ]
  },
  {
   "cell_type": "markdown",
   "metadata": {},
   "source": [
    "Suppose you are programming a self driving car and you would like it to stay roughly close to the speed limit. If the speed limit on the highway is 65, you'd like the car to maintain its speed if its speed is below the speed limit, and to slow down if its speed is above the speed limit. "
   ]
  },
  {
   "cell_type": "code",
   "execution_count": null,
   "metadata": {},
   "outputs": [],
   "source": [
    "speed_limit = 65 #speed limit on the highway \n",
    "car_speed = 80 #the self-driving car's speed. \n",
    "                #play with this and re-run the cell!\n",
    "\n",
    "if car_speed > speed_limit: # if the car is speeding, slow down! \n",
    "    print(\"Slow down!\")\n",
    "else: #otherwise, maintain its speed. \n",
    "    print(\"Maintain speed.\")"
   ]
  },
  {
   "cell_type": "markdown",
   "metadata": {},
   "source": [
    "Suppose that you wanted to have the car speed up if its speed was below the speed limit. Then you could use an elif statement, like so:"
   ]
  },
  {
   "cell_type": "code",
   "execution_count": null,
   "metadata": {},
   "outputs": [],
   "source": [
    "speed_limit = 65 #speed limit on the highway \n",
    "car_speed = 54 #the self-driving car's speed. \n",
    "               #play with this and re-run the cell!\n",
    "\n",
    "if car_speed > speed_limit: # if the car is speeding, slow down! \n",
    "    print(\"Slow down!\")\n",
    "elif car_speed < speed_limit: #if the car is going too slow, speed up!\n",
    "    print(\"Speed up!\")\n",
    "else: # the only other possibility is that the car is at the speed limit.\n",
    "    print(\"Maintain speed.\")"
   ]
  },
  {
   "cell_type": "markdown",
   "metadata": {},
   "source": [
    "Formally, here is the structure and execution of the if, else, elif statements: (not valid syntax, just an illustration)"
   ]
  },
  {
   "cell_type": "code",
   "execution_count": null,
   "metadata": {},
   "outputs": [],
   "source": [
    "if <expression_1>:\n",
    "    the code within this indented block is executed if..\n",
    "    - bool(<expression_1>) is True\n",
    "elif <expression_2>:\n",
    "    the code within this indented block is executed if..\n",
    "     - bool(<expression_1>) was False\n",
    "     - bool(<expression_2>) is True\n",
    "    #...\n",
    "    #...\n",
    "elif <expression_n>:\n",
    "    the code within this indented block is executed if..\n",
    "      - bool(<expression_1>) was False\n",
    "      - bool(<expression_2>) was False\n",
    "      - bool(<expression_n-1>) was False\n",
    "      - bool(<expression_n>) is True\n",
    "else:\n",
    "    the code within this indented block is executed only if\n",
    "    all preceding expressions were False"
   ]
  },
  {
   "cell_type": "markdown",
   "metadata": {},
   "source": [
    "Here's a more concrete example:"
   ]
  },
  {
   "cell_type": "code",
   "execution_count": null,
   "metadata": {},
   "outputs": [],
   "source": [
    "x = 2\n",
    "\n",
    "if 3 < x:\n",
    "    # bool(3 < 2) returns False, this code\n",
    "    # block is skipped\n",
    "    print(\"`x` is greater than 3\")\n",
    "elif x is 2:\n",
    "    # bool(x == 2) returns True\n",
    "    # this code block is executed\n",
    "    print(\"`x` is equal to 2\")\n",
    "elif x == 1:\n",
    "    # this statement is never reached\n",
    "    print(\"`x` is equal to 1\")\n",
    "else:\n",
    "    # this statement is never reached\n",
    "    print(\"`x` is something else.\")"
   ]
  },
  {
   "cell_type": "code",
   "execution_count": null,
   "metadata": {},
   "outputs": [],
   "source": [
    "# A conditional statement consisting of\n",
    "# an \"if\"-clause, only.\n",
    "\n",
    "x = -1\n",
    "\n",
    "if x < 0:\n",
    "    x = x ** 2\n",
    "print(x)\n",
    "# x is now 1"
   ]
  },
  {
   "cell_type": "code",
   "execution_count": null,
   "metadata": {},
   "outputs": [],
   "source": [
    "# A conditional statement consisting of\n",
    "# an \"if\"-clause and an \"else\"\n",
    "x = 4\n",
    "\n",
    "if x > 2:\n",
    "    x = -2\n",
    "else:\n",
    "    x = x + 1\n",
    "print(x)\n",
    "# x is now -2"
   ]
  },
  {
   "cell_type": "code",
   "execution_count": null,
   "metadata": {},
   "outputs": [],
   "source": [
    "# A conditional statement consisting of\n",
    "# an \"if\"-clause and an \"elif\"\n",
    "x = 0\n",
    "\n",
    "if x > 2:\n",
    "    x = -2\n",
    "elif x < 1:\n",
    "    x = x + 1\n",
    "print(x)\n",
    "#x is now 1"
   ]
  },
  {
   "cell_type": "code",
   "execution_count": null,
   "metadata": {},
   "outputs": [],
   "source": [
    "# consecutive if-statements are independent\n",
    "x = 5\n",
    "y = 0\n",
    "\n",
    "if x < 10:\n",
    "    y += 1\n",
    "\n",
    "print(y)\n",
    "\n",
    "if x < 20:\n",
    "    y += 1\n",
    "\n",
    "# y is now 2\n",
    "print(y)"
   ]
  },
  {
   "cell_type": "code",
   "execution_count": null,
   "metadata": {},
   "outputs": [],
   "source": [
    "#if statements can be nested inside one another:\n",
    "if 0 < x:            \n",
    "    if x < 10:\n",
    "        print(\"x is a positive number less than ten.\")\n",
    "        \n",
    "#this is equivalent to this:\n",
    "if 0 < x and x < 10:\n",
    "    print(\"x is a positive number less than ten.\")    \n",
    "    \n",
    "#but there are more complicated cases where nested ifs are useful.     "
   ]
  },
  {
   "cell_type": "markdown",
   "metadata": {},
   "source": [
    "__Inline If statements:__"
   ]
  },
  {
   "cell_type": "code",
   "execution_count": null,
   "metadata": {},
   "outputs": [],
   "source": [
    "num = 2\n",
    "\n",
    "if num >= 0:\n",
    "    sign = \"positive\"\n",
    "else:\n",
    "    sign = \"negative\""
   ]
  },
  {
   "cell_type": "markdown",
   "metadata": {},
   "source": [
    "...this is equivalent to..."
   ]
  },
  {
   "cell_type": "code",
   "execution_count": null,
   "metadata": {},
   "outputs": [],
   "source": [
    "sign = \"positive\" if num >=0 else \"negative\""
   ]
  },
  {
   "cell_type": "markdown",
   "metadata": {},
   "source": [
    "The expression \"A if condition else B\" returns A if bool(condition) evaluates to True, otherwise this expression will return B.\n",
    "\n",
    "Inline if statements are convenient! But restrictive: you can't use elifs in them and you can't have a multi-line code block inside them."
   ]
  },
  {
   "cell_type": "markdown",
   "metadata": {},
   "source": [
    "__Activity:__ Consider the following cell. What is it doing?  "
   ]
  },
  {
   "cell_type": "code",
   "execution_count": 16,
   "metadata": {},
   "outputs": [
    {
     "ename": "NameError",
     "evalue": "name 'doesSignificantWork' is not defined",
     "output_type": "error",
     "traceback": [
      "\u001b[0;31m---------------------------------------------------------------------------\u001b[0m",
      "\u001b[0;31mNameError\u001b[0m                                 Traceback (most recent call last)",
      "\u001b[1;32m/Users/ak/Desktop/harvard/w1d2/Activity 1 - booleans, logic, conditionals.ipynb Cell 59'\u001b[0m in \u001b[0;36m<cell line: 1>\u001b[0;34m()\u001b[0m\n\u001b[0;32m----> <a href='vscode-notebook-cell:/Users/ak/Desktop/harvard/w1d2/Activity%201%20-%20booleans%2C%20logic%2C%20conditionals.ipynb#ch0000058?line=0'>1</a>\u001b[0m \u001b[39mif\u001b[39;00m (doesSignificantWork): \n\u001b[1;32m      <a href='vscode-notebook-cell:/Users/ak/Desktop/harvard/w1d2/Activity%201%20-%20booleans%2C%20logic%2C%20conditionals.ipynb#ch0000058?line=1'>2</a>\u001b[0m     \u001b[39mif\u001b[39;00m (makesBreakthrough):\n\u001b[1;32m      <a href='vscode-notebook-cell:/Users/ak/Desktop/harvard/w1d2/Activity%201%20-%20booleans%2C%20logic%2C%20conditionals.ipynb#ch0000058?line=2'>3</a>\u001b[0m         nobelPrizeCandidate \u001b[39m=\u001b[39m \u001b[39mTrue\u001b[39;00m;\n",
      "\u001b[0;31mNameError\u001b[0m: name 'doesSignificantWork' is not defined"
     ]
    }
   ],
   "source": [
    "if (doesSignificantWork): \n",
    "    if (makesBreakthrough):\n",
    "        nobelPrizeCandidate = True;\n",
    "    else:\n",
    "        nobelPrizeCandidate = False;\n",
    "    \n",
    "elif not doesSignificantWork:\n",
    "    nobelPrizeCandidate = False;"
   ]
  },
  {
   "cell_type": "markdown",
   "metadata": {},
   "source": [
    "On a piece of paper, create a table that looks like this:"
   ]
  },
  {
   "cell_type": "code",
   "execution_count": 17,
   "metadata": {},
   "outputs": [
    {
     "ename": "SyntaxError",
     "evalue": "invalid syntax (1850233060.py, line 1)",
     "output_type": "error",
     "traceback": [
      "\u001b[0;36m  Input \u001b[0;32mIn [17]\u001b[0;36m\u001b[0m\n\u001b[0;31m    doesSignificantWork    makesBreakthrough    nobelPrizeCandidate\u001b[0m\n\u001b[0m                           ^\u001b[0m\n\u001b[0;31mSyntaxError\u001b[0m\u001b[0;31m:\u001b[0m invalid syntax\n"
     ]
    }
   ],
   "source": [
    "doesSignificantWork    makesBreakthrough    nobelPrizeCandidate\n",
    "True                   True                 #true\n",
    "True                   False                #false\n",
    "False                  True                 #false\n",
    "False                  False                #false\n"
   ]
  },
  {
   "cell_type": "markdown",
   "metadata": {},
   "source": [
    "Based on your table, re-write the cell above in __one line__:  "
   ]
  },
  {
   "cell_type": "code",
   "execution_count": 23,
   "metadata": {},
   "outputs": [
    {
     "name": "stdout",
     "output_type": "stream",
     "text": [
      "False\n"
     ]
    }
   ],
   "source": [
    "doesSignificantWork = True\n",
    "makesBreakthrough = False\n",
    "\n",
    "nobelPrizeCandidate = doesSignificantWork and makesBreakthrough\n",
    "\n",
    "print(nobelPrizeCandidate)"
   ]
  }
 ],
 "metadata": {
  "kernelspec": {
   "display_name": "Python 3",
   "language": "python",
   "name": "python3"
  },
  "language_info": {
   "codemirror_mode": {
    "name": "ipython",
    "version": 3
   },
   "file_extension": ".py",
   "mimetype": "text/x-python",
   "name": "python",
   "nbconvert_exporter": "python",
   "pygments_lexer": "ipython3",
   "version": "3.10.4"
  }
 },
 "nbformat": 4,
 "nbformat_minor": 2
}
