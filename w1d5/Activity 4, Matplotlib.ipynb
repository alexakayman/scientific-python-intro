{
 "cells": [
  {
   "cell_type": "markdown",
   "metadata": {},
   "source": [
    "## Friday, Week 1: Activity\n",
    "# Matplotlib\n",
    "\n",
    "__Learning Objective:__ introduce and practice using the Matplotlib module to plot curves, scatterplots, multiple things in one figure, a grid of graphs, 3D plots. Practice annotating your figures. Continue practicing using Numpy."
   ]
  },
  {
   "cell_type": "code",
   "execution_count": null,
   "metadata": {},
   "outputs": [],
   "source": [
    "import numpy as np\n",
    "import random\n",
    "import math\n",
    "import matplotlib.pyplot as plt\n",
    "%matplotlib inline"
   ]
  },
  {
   "cell_type": "markdown",
   "metadata": {},
   "source": [
    "__TASK:__ Using Numpy, generate two arrays:\n",
    "1. x should be an array of 40 points evenly spaced between 0 and 20.\n",
    "2. y should be an array with values equal to coeff times pow(x, power) plus intercept:\n",
    "$$ y = a x^{p} + b $$"
   ]
  },
  {
   "cell_type": "code",
   "execution_count": null,
   "metadata": {},
   "outputs": [],
   "source": [
    "p = 2.0\n",
    "b = 3.4\n",
    "a = 1.0 "
   ]
  },
  {
   "cell_type": "code",
   "execution_count": null,
   "metadata": {},
   "outputs": [],
   "source": [
    "# TODO: initialize x"
   ]
  },
  {
   "cell_type": "code",
   "execution_count": null,
   "metadata": {},
   "outputs": [],
   "source": [
    "# TODO: initialize y"
   ]
  },
  {
   "cell_type": "markdown",
   "metadata": {},
   "source": [
    "__Example:__ Plotting a curve."
   ]
  },
  {
   "cell_type": "code",
   "execution_count": null,
   "metadata": {},
   "outputs": [],
   "source": [
    "fig, ax = plt.subplots() #create a figure object and an axis object (see slides)\n",
    "\n",
    "# on the axis, create a simple x vs y plot.\n",
    "# linestyle denotes the style of the line, in this case dashed.\n",
    "# label denotes the label this line will have when we later create a legend. \n",
    "ax.plot(x, y, linestyle = '--', label = 'x^2 + 3.4');\n",
    "\n",
    "# make a legend on this axis object. \n",
    "ax.legend();\n",
    "\n",
    "# label your axes! label your plot! \n",
    "ax.set( xlabel = 'x axis label', ylabel = 'y axis label', title = 'Plotting a curve');\n",
    "\n",
    "ax.set_xlim(0, 7.5); #set the x axis to go from 0 to 7.5\n",
    "ax.set_ylim(10, 50); #set the y axis to go from 10 to 50.\n",
    "\n",
    "fig.savefig('test.jpg') #save figure in current directory. "
   ]
  },
  {
   "cell_type": "markdown",
   "metadata": {},
   "source": [
    "__TASK:__ Plot the function y = -1/2 * x^2 + 6 in the x-domain (0,5) and y-range (0,7). ALWAYS remember to label your curve, your axes, and your figure."
   ]
  },
  {
   "cell_type": "code",
   "execution_count": null,
   "metadata": {},
   "outputs": [],
   "source": [
    "fig, ax = plt.subplots()\n",
    "\n",
    "\n",
    "p = #set this to match the desired function y = -1/2 * x^2 + 6\n",
    "b = #set this to match the desired function y = -1/2 * x^2 + 6\n",
    "a = #set this to match the desired function y = -1/2 * x^2 + 6 \n",
    "y = #set this to match the desired function y = -1/2 * x^2 + 6 \n",
    "\n",
    "#TODO: plot x vs y and LABEL YOUR CURVE + AXES + FIGURE\n"
   ]
  },
  {
   "cell_type": "markdown",
   "metadata": {},
   "source": [
    "__TASK:__ Now extend your x-range to go from -5 to 5. What happens to your graph? Why? "
   ]
  },
  {
   "cell_type": "code",
   "execution_count": null,
   "metadata": {},
   "outputs": [],
   "source": []
  },
  {
   "cell_type": "markdown",
   "metadata": {},
   "source": [
    "__Example:__ Making a scatterplot."
   ]
  },
  {
   "cell_type": "code",
   "execution_count": null,
   "metadata": {},
   "outputs": [],
   "source": [
    "#generate some data... DON'T WORRY ABOUT THIS CELL, this is just for fun:\n",
    "import math\n",
    "X = np.arange(-4,4,.005)\n",
    "Y = np.zeros((0))\n",
    "for x in X:\n",
    "    Y = np.append(Y,abs(x/2)- 0.09137*x**2 + math.sqrt(1-(abs(abs(x)-2)-1)**2) -3)\n",
    "X1 = np.append(np.arange(-7,-3,.01), np.arange(3,7,.01))\n",
    "Y1 = np.zeros((0))\n",
    "for x in X1:\n",
    "    Y1 = np.append(Y1, 3*math.sqrt(-(x/7)**2+1))\n",
    "Y = np.append(Y,Y1)\n",
    "X = np.append(X, X1)\n",
    "X1 = np.append(np.arange(-7.,-4,.01), np.arange(4,7.01,.01))\n",
    "Y1 = np.zeros((0))\n",
    "for x in X1:\n",
    "    Y1 = np.append(Y1, -3*math.sqrt(-(x/7)**2+1))\n",
    "Y = np.append(Y,Y1)\n",
    "X = np.append(X, X1)\n",
    "X1 = np.append(np.arange(-1,-.8,.01), np.arange(.8, 1,.01))\n",
    "Y1 = np.zeros((0))\n",
    "for x in X1:\n",
    "    Y1 = np.append(Y1, 9-8*abs(x))\n",
    "Y = np.append(Y,Y1)\n",
    "X = np.append(X, X1)\n",
    "X1 = np.arange(-.5,.5,.05)\n",
    "Y1 = np.zeros((0))\n",
    "for x in X1:\n",
    "    Y1 = np.append(Y1,2)\n",
    "Y = np.append(Y,Y1)\n",
    "X = np.append(X, X1)\n",
    "X1 = np.append(np.arange(-2.9,-1,.01), np.arange(1, 2.9,.01))\n",
    "Y1 = np.zeros((0))\n",
    "for x in X1:\n",
    "    Y1 = np.append(Y1, 1.5 - .5*abs(x) - 1.89736*(math.sqrt(3-x**2+2*abs(x))-2) )\n",
    "Y = np.append(Y,Y1)\n",
    "X = np.append(X, X1)\n",
    "X1 = np.append(np.arange(-.7,-.45,.01), np.arange(.45, .7,.01))\n",
    "Y1 = np.zeros((0))\n",
    "for x in X1:\n",
    "    Y1 = np.append(Y1, 3*abs(x)+.75)\n",
    "Y = np.append(Y,Y1)\n",
    "X = np.append(X, X1)"
   ]
  },
  {
   "cell_type": "code",
   "execution_count": null,
   "metadata": {},
   "outputs": [],
   "source": [
    "fig, ax = plt.subplots() #create a figure object and an axis object\n",
    "\n",
    "\n",
    "#make a scatter plot of X vs Y. \n",
    "#make the size of the dots 1, label the curve 'NANANANANA'\n",
    "ax.scatter(X, Y, s = 1, label = 'NANANANANA'); \n",
    "\n",
    "\n",
    "ax.legend(); #display the legend. \n",
    "ax.set(xlabel='x', ylabel='y', title='...'); #set the x axis label, y axis label, and figure title. "
   ]
  },
  {
   "cell_type": "code",
   "execution_count": null,
   "metadata": {},
   "outputs": [],
   "source": [
    "#source: https://medium.com/@subarnopal/plotting-the-batman-equation-in-python-using-numpy-and-matplotlib-b209b02aed68"
   ]
  },
  {
   "cell_type": "markdown",
   "metadata": {},
   "source": [
    "__TASK:__ Make a scatter plot of some mock data. \n",
    "\n",
    "1. First, generate the data by taking a theoretical curve and adding some random noise to it. Follow the instructions in the following cell:"
   ]
  },
  {
   "cell_type": "code",
   "execution_count": null,
   "metadata": {},
   "outputs": [],
   "source": [
    "p = 2.0\n",
    "b = 3.4 \n",
    "a = 1.0 \n",
    "\n",
    "#theoretical model:\n",
    "# y = a * x^p + b\n",
    "\n",
    "\n",
    "#TODO: first, make some data.\n",
    "x = #TODO generate a numpy array with numbers between 0 and 10 in increments of 0.1 \n",
    "\n",
    "    \n",
    "#generate some random noise in the data. \n",
    "random_noise = (np.random.random_sample([np.size(x)]) - 0.5) * 50.0\n",
    "\n",
    "#TODO: generate the y coordinates of the 2D data from the theoretical curve and the noise. \n",
    "#experimental data:\n",
    "y = #TODO: translate this into code, using a numpy array: y = Coeff * x^power + intercept + random_noise."
   ]
  },
  {
   "cell_type": "markdown",
   "metadata": {},
   "source": [
    "2. Next, make a scatter plot of x vs y as above in the example. ALWAYS label your curve, your axes, and your figure."
   ]
  },
  {
   "cell_type": "code",
   "execution_count": null,
   "metadata": {},
   "outputs": [],
   "source": [
    "#TODO make a scatter plot! Label your figure, your axes, and your points. "
   ]
  },
  {
   "cell_type": "markdown",
   "metadata": {},
   "source": [
    "__Example:__ Plotting multiple things on the same figure. \n",
    "\n",
    "Let's overplot the theoretical curve on top of the data we just created."
   ]
  },
  {
   "cell_type": "code",
   "execution_count": null,
   "metadata": {},
   "outputs": [],
   "source": [
    "theory_curve = a * pow(x, p) + b\n",
    "\n",
    "fig, ax = plt.subplots()\n",
    "\n",
    "ax.scatter(x, y, s = 5, label = 'Data')\n",
    "ax.plot(x, theory_curve, label = 'Theoretical Curve')\n",
    "ax.legend();\n",
    "ax.set(xlabel='x', ylabel='y', title='Scatterplot Example');"
   ]
  },
  {
   "cell_type": "markdown",
   "metadata": {},
   "source": [
    "__Example:__ Fitting a polynomial to data:"
   ]
  },
  {
   "cell_type": "code",
   "execution_count": null,
   "metadata": {},
   "outputs": [],
   "source": [
    "z_1d = np.polyfit(x, y, 1) #fits the relationship between x and y using a degree-1 polynomial. \n",
    "f_1d = np.poly1d(z_1d)     #makes a function f_1d that can take as input x and spit out the best fit for y \n",
    "                                 #obtained in the above line. \n",
    "print(f_1d)"
   ]
  },
  {
   "cell_type": "code",
   "execution_count": null,
   "metadata": {},
   "outputs": [],
   "source": [
    "theory_curve = a * pow(x, p) + b #this is our theoretical model. \n",
    "\n",
    "\n",
    "fig, ax = plt.subplots() #create a figure object and an axis object.\n",
    "\n",
    "\n",
    "ax.scatter(x, y, s = 5, label = 'Data') #make a scatter plot of the data, just like above. \n",
    "ax.plot(x, theory_curve, label = 'Theoretical Curve') #now on the same axis object, make a line plot of x vs. theory_curve.\n",
    "\n",
    "ax.plot(x, f_1d(x), label = 'best fit 1D polynomial') #now plot our best fit: x vs. f_1d(x). \n",
    "\n",
    "\n",
    "\n",
    "#LABEL ALL THE THINGS\n",
    "ax.legend();\n",
    "ax.set(xlabel='x', ylabel='y', \n",
    "       title='Scatterplot Example');\n"
   ]
  },
  {
   "cell_type": "markdown",
   "metadata": {},
   "source": [
    "__TASK:__ Generate a 2-dimensional and a 16-dimensional polynomial fit to your data and create a figure that shows:\n",
    "1. The data, as a scatter plot\n",
    "2. The theoretical curve, as a solid line.\n",
    "3. The 2D best fit curve, as a dashed line.\n",
    "4. The 16D best fit curve, as a dot-dashed line. "
   ]
  },
  {
   "cell_type": "code",
   "execution_count": null,
   "metadata": {},
   "outputs": [],
   "source": [
    "z_2d = #TODO: fill this in\n",
    "f_2d = #TODO: fill this in.\n",
    "print(f_2d)"
   ]
  },
  {
   "cell_type": "code",
   "execution_count": null,
   "metadata": {},
   "outputs": [],
   "source": [
    "z_16d = #TODO: fill this in\n",
    "f_16d = #TODO: fill this in.\n",
    "print(f_6d)"
   ]
  },
  {
   "cell_type": "code",
   "execution_count": null,
   "metadata": {},
   "outputs": [],
   "source": [
    "theory_curve = a * pow(x, p) + b\n",
    "\n",
    "#TODO: make a single figure that displays:\n",
    "# 1. The data, as a scatter plot\n",
    "# 2. The theoretical curve, as a solid line\n",
    "# 3. The 2D best fit curve, as a dashed line\n",
    "# 4. The 16D best fit curve, as a dot-dashed line"
   ]
  },
  {
   "cell_type": "markdown",
   "metadata": {},
   "source": [
    "__TASK:__ Which curve fits the theoretical model best? Why doesn't the 16-dimensional polynomial do better? "
   ]
  },
  {
   "cell_type": "code",
   "execution_count": null,
   "metadata": {},
   "outputs": [],
   "source": []
  },
  {
   "cell_type": "markdown",
   "metadata": {},
   "source": [
    "__Example:__ A grid of plots:"
   ]
  },
  {
   "cell_type": "code",
   "execution_count": null,
   "metadata": {},
   "outputs": [],
   "source": [
    "fig, ax = plt.subplots(2, 3, sharex='col', sharey='row')\n",
    "\n",
    "# axes are in a two-dimensional array, indexed by [row, col]\n",
    "for i in range(2):\n",
    "    for j in range(3):\n",
    "        ax[i, j].text(0.5, 0.5, str((i, j)), fontsize=18, ha='center')\n",
    "        #ax[i, j].scatter(x, y, s= 2) # if you wanted to plot some data in each subplot, here's an example. "
   ]
  },
  {
   "cell_type": "markdown",
   "metadata": {},
   "source": [
    "__Example:__ Just for fun, 3D plots."
   ]
  },
  {
   "cell_type": "code",
   "execution_count": null,
   "metadata": {},
   "outputs": [],
   "source": [
    "from mpl_toolkits import mplot3d\n",
    "#https://jakevdp.github.io/PythonDataScienceHandbook/04.12-three-dimensional-plotting.html\n",
    "\n",
    "# Data for a three-dimensional line\n",
    "zline = np.linspace(0, 15, 1000)\n",
    "xline = np.sin(zline)\n",
    "yline = np.cos(zline)\n",
    "\n",
    "# Data for three-dimensional scattered points\n",
    "zdata = 15 * np.random.random(100)\n",
    "xdata = np.sin(zdata) + 0.1 * np.random.randn(100)\n",
    "ydata = np.cos(zdata) + 0.1 * np.random.randn(100)\n",
    "\n",
    "\n",
    "ax = plt.axes(projection='3d')\n",
    "ax.plot3D(xline, yline, zline)\n",
    "ax.scatter3D(xdata, ydata, zdata, c=zdata, cmap='Reds');"
   ]
  },
  {
   "cell_type": "markdown",
   "metadata": {},
   "source": [
    "\n",
    "# Matplotlib is best learned by looking at examples and Frankenstein-ing them until you get the picture you want.\n",
    "\n",
    "# There is tons of documentation online and example scripts. This is just the very tip of the iceberg of what it can do! "
   ]
  }
 ],
 "metadata": {
  "kernelspec": {
   "display_name": "Python 3",
   "language": "python",
   "name": "python3"
  },
  "language_info": {
   "codemirror_mode": {
    "name": "ipython",
    "version": 3
   },
   "file_extension": ".py",
   "mimetype": "text/x-python",
   "name": "python",
   "nbconvert_exporter": "python",
   "pygments_lexer": "ipython3",
   "version": "3.8.5"
  }
 },
 "nbformat": 4,
 "nbformat_minor": 2
}
