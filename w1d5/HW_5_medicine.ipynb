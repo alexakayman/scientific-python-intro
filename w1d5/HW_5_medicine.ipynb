{
 "cells": [
  {
   "cell_type": "markdown",
   "metadata": {},
   "source": [
    "# Friday, Week 1: Homework 5\n",
    "# Medical Data Analysis\n",
    "\n",
    "__Learning objective:__ read and manipulate data from files.  \n",
    "\n",
    "__Task:__ You are a doctor working on a clinical study of a particular kind of cancer. Your lab has collected patient files containing patient information and an excerpt from their genome from three separate hospitals. Some of the patients have been diagnosed with cancer; others are healthy. Your task is to identify the genomic sequence responsible for this type of cancer, so that your colleagues may design a drug to target it. \n",
    "\n",
    "Here's what you know:\n",
    "1. The human genome is a sequence of base pairs, represented by the letters 'G', 'A', 'T', and 'C', in random order. A single letter corresponds to one base pair. It encodes the body's biology and tells cells what to do. Cancer behaves like a bad instruction that hijacks healthy cells and makes them sick. \n",
    "2. Your lab has figured out that the genomic sequence responsible for cancer is definitely 10 base pairs long, and now you need to identify it. \n",
    "3. No healthy patient has the gene sequence responsible for cancer, and vice versa: all sick patients have it in their genome. \n",
    "4. Hospitals are notorious for their bureaucracy, and there is no standardized system of recording medical information. The three different hospitals from which you have patient data all record their patient information at the top of their files, but in different formats. All files begin with some information about the patient and finish with a single line containing that patient's genomic sequence. \n",
    "5. All patient files note the patient's name, birthday, medication (the patient only takes medication if they are sick. The files indicate that a healthy patient takes no medication), dosage of medication (if applicable), and stage of cancer (0 if healthy, 1-4 if sick).\n",
    "\n",
    "Be sure to use your code from the second half of last night's homework to fill in the find_shared_pattern() function and the control code at the bottom of the following cell that loops over all patient genomes and finds a substring common to all of them.  \n",
    "\n",
    "__Using this information, work through the TO-DO items in the following code skeleton/pseudocode:__"
   ]
  },
  {
   "cell_type": "code",
   "execution_count": 108,
   "metadata": {},
   "outputs": [
    {
     "name": "stdout",
     "output_type": "stream",
     "text": [
      "# of healthy patients: 11\n",
      "# of sick patients: 39\n",
      "The cancerous gene is: ['GATTACAGGA']\n"
     ]
    }
   ],
   "source": [
    "import glob, os\n",
    "\n",
    "path_to_files = os.getcwd()\n",
    "post_data = glob.glob(path_to_files + '/data/post/*')\n",
    "pre_data = glob.glob(path_to_files + '/data/pre/*')\n",
    "\n",
    "sick_genomes = []\n",
    "healthy_genomes = []\n",
    "\n",
    "for patient in pre_data: #loop over all patient files, and, for a given patient:\n",
    "    file  = open(patient, 'r') #open the individual file #open this patient's file \n",
    "    lines = file.readlines() \n",
    "    # print(lines[-1]) \n",
    "\n",
    "    #is this person healthy or sick? \n",
    "    if 'Stage 0\\n' in lines:  #if this person is healthy, \n",
    "        healthy_genomes.append(lines[-1]) #append their GENOME SEQUENCE ONLY (no medical info header) to healthy_genomes\n",
    "    else: #otherwise, if they're sick,\n",
    "        sick_genomes.append(lines[-1]) #append their GENOME SEQUENCE ONLY to sick_genomes\n",
    "    file.close()\n",
    "\n",
    "print(\"# of healthy patients:\", len(healthy_genomes))\n",
    "print(\"# of sick patients:\", len(sick_genomes))\n",
    "\n",
    "# TODO: using code from last night's homework and the find_shared_pattern function above, \n",
    "# find the 10 character substring that is common to all sick patients' genomes.\n",
    "\n",
    "CANCER_GENE_LENGTH = 10\n",
    "\n",
    "cancer_gene = []\n",
    "\n",
    "def find_shared_pattern(data_list): \n",
    "    for genome in range(0, len(data_list[0])): #going through 1st string \n",
    "        cancer_genome = data_list[0][genome: genome + CANCER_GENE_LENGTH] #selecting from node\n",
    "        #print(cancer_genome) \n",
    "        if len(cancer_genome) < CANCER_GENE_LENGTH: \n",
    "            break #ignore any strings that are under the length\n",
    "        if all(cancer_genome in d for d in data_list): #taking all of three strings, applying substring (if it's in l) - only returns true if all are true\n",
    "            cancer_gene.append(cancer_genome)\n",
    "    #print('The shared nodes are ' + str(shared_patterns))\n",
    "    return cancer_gene\n",
    "\n",
    "base_pairs = ['GTAC']  \n",
    "\n",
    "data_list = list(map(lambda d: ''.join(d), sick_genomes))\n",
    "find_shared_pattern(sick_genomes)\n",
    "\n",
    "print('The cancerous gene is: ' + str(cancer_gene))"
   ]
  },
  {
   "cell_type": "markdown",
   "metadata": {},
   "source": [
    "__Feedback__: How long did this assignment take you? On a scale of 1 (simple) to 5 (difficult), how did it go? "
   ]
  },
  {
   "cell_type": "code",
   "execution_count": null,
   "metadata": {},
   "outputs": [],
   "source": [
    "# TODO: how long did this assignment take you?\n",
    "\n",
    "2 hours"
   ]
  },
  {
   "cell_type": "code",
   "execution_count": null,
   "metadata": {},
   "outputs": [],
   "source": [
    "# TODO: rate this HW's difficulty on a scale of 1-5. \n",
    "\n",
    "3"
   ]
  },
  {
   "cell_type": "markdown",
   "metadata": {},
   "source": [
    "__Feedback__: How comfortable do you feel with the topics covered in this assignment? Are there any topics you would like to review together as a class? "
   ]
  },
  {
   "cell_type": "markdown",
   "metadata": {},
   "source": [
    "Feeling very comfortable with opening files and combining that with running through data!"
   ]
  }
 ],
 "metadata": {
  "kernelspec": {
   "display_name": "Python 3",
   "language": "python",
   "name": "python3"
  },
  "language_info": {
   "codemirror_mode": {
    "name": "ipython",
    "version": 3
   },
   "file_extension": ".py",
   "mimetype": "text/x-python",
   "name": "python",
   "nbconvert_exporter": "python",
   "pygments_lexer": "ipython3",
   "version": "3.10.4"
  }
 },
 "nbformat": 4,
 "nbformat_minor": 2
}
